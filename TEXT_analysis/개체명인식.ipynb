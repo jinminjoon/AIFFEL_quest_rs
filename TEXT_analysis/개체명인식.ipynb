{
  "nbformat": 4,
  "nbformat_minor": 0,
  "metadata": {
    "colab": {
      "provenance": []
    },
    "kernelspec": {
      "name": "python3",
      "display_name": "Python 3"
    },
    "language_info": {
      "name": "python"
    }
  },
  "cells": [
    {
      "cell_type": "code",
      "execution_count": 5,
      "metadata": {
        "id": "13yo2lg0DQzL"
      },
      "outputs": [],
      "source": [
        "import spacy\n",
        "nlp = spacy.load('en_core_web_sm')"
      ]
    },
    {
      "cell_type": "code",
      "source": [
        "text = \"James O'Neill, chairman of World Cargo Inc, lives in San Francisco.\"\n",
        "doc = nlp(text)\n",
        "\n",
        "for ent in doc.ents:\n",
        "  print(f\"{ent.text},{ent.label_}\", end=\" \")"
      ],
      "metadata": {
        "colab": {
          "base_uri": "https://localhost:8080/"
        },
        "id": "QY6FAZdnDnnX",
        "outputId": "18aa0b5b-1100-4f37-e267-bf5d4e1e60a1"
      },
      "execution_count": 8,
      "outputs": [
        {
          "output_type": "stream",
          "name": "stdout",
          "text": [
            "James O'Neill,PERSON World Cargo Inc,ORG San Francisco,GPE "
          ]
        }
      ]
    },
    {
      "cell_type": "code",
      "source": [
        "import textacy\n",
        "def extract_entities(doc, include_types=None,sep=\"_\"):\n",
        "  ents = textacy.extract.entities(doc,\n",
        "          include_types = include_types,\n",
        "          exclude_types = None,\n",
        "          drop_determiners = True,\n",
        "          min_freq = 1)\n",
        "  return [sep.join([t.lemma_ for t in e])+'/'+e.label_ for e in ents]"
      ],
      "metadata": {
        "id": "_uLJZADbDudD"
      },
      "execution_count": 13,
      "outputs": []
    },
    {
      "cell_type": "code",
      "source": [
        "print(extract_entities(doc,['PERSON','GPE']))"
      ],
      "metadata": {
        "colab": {
          "base_uri": "https://localhost:8080/"
        },
        "id": "oc88BTpTE_iC",
        "outputId": "8bc1051f-6c4d-47bb-8607-a770bca7aff4"
      },
      "execution_count": 14,
      "outputs": [
        {
          "output_type": "stream",
          "name": "stdout",
          "text": [
            "[\"James_O'Neill/PERSON\", 'San_Francisco/GPE']\n"
          ]
        }
      ]
    },
    {
      "cell_type": "code",
      "source": [
        "def extract_lemmas(doc, **kwargs):\n",
        "    return [t.lemma_ for t in textacy.extract.words(doc, **kwargs)]\n",
        "\n",
        "lemmas = extract_lemmas(doc, include_pos=['ADJ', 'NOUN'])\n",
        "print(*lemmas, sep='|')"
      ],
      "metadata": {
        "colab": {
          "base_uri": "https://localhost:8080/"
        },
        "id": "Z8SQoL2GGiu4",
        "outputId": "2d68b489-e137-4ad6-f0a2-74d7d9f0b833"
      },
      "execution_count": 17,
      "outputs": [
        {
          "output_type": "stream",
          "name": "stdout",
          "text": [
            "good|friend|fancy|adventure|game\n"
          ]
        }
      ]
    },
    {
      "cell_type": "code",
      "source": [
        "def extract_noun_phrases(doc, preceding_pos=['NOUN'], sep='_'):\n",
        "    patterns = []\n",
        "    for pos in preceding_pos:\n",
        "        patterns.append(f\"POS:{pos} POS:NOUN:+\")\n",
        "\n",
        "    if textacy.__version__ < '0.11':\n",
        "        # as in book\n",
        "        spans = textacy.extract.matches(doc, patterns=patterns)\n",
        "    else:\n",
        "        # new textacy version\n",
        "        spans = textacy.extract.matches.token_matches(doc, patterns=patterns)\n",
        "\n",
        "    return [sep.join([t.lemma_ for t in s]) for s in spans]\n",
        "\n",
        "print(*extract_noun_phrases(doc, ['ADJ', 'NOUN']), sep='|')"
      ],
      "metadata": {
        "colab": {
          "base_uri": "https://localhost:8080/"
        },
        "id": "O1x3HrsHGlQ-",
        "outputId": "b46cadd2-9f11-4694-e497-fe1d9eae22cd"
      },
      "execution_count": 18,
      "outputs": [
        {
          "output_type": "stream",
          "name": "stdout",
          "text": [
            "good_friend|fancy_adventure|fancy_adventure_game|adventure_game\n"
          ]
        }
      ]
    },
    {
      "cell_type": "code",
      "source": [
        "def extract_nlp(doc):\n",
        "    return {\n",
        "    'lemmas'          : extract_lemmas(doc,\n",
        "                                     exclude_pos = ['PART', 'PUNCT',\n",
        "                                        'DET', 'PRON', 'SYM', 'SPACE'],\n",
        "                                     filter_stops = False),\n",
        "    'adjs_verbs'      : extract_lemmas(doc, include_pos = ['ADJ', 'VERB']),\n",
        "    'nouns'           : extract_lemmas(doc, include_pos = ['NOUN', 'PROPN']),\n",
        "    'noun_phrases'    : extract_noun_phrases(doc, ['NOUN']),\n",
        "    'adj_noun_phrases': extract_noun_phrases(doc, ['ADJ']),\n",
        "    'entities'        : extract_entities(doc, ['PERSON', 'ORG', 'GPE', 'LOC'])\n",
        "    }"
      ],
      "metadata": {
        "id": "ovmsnh1OF36B"
      },
      "execution_count": 19,
      "outputs": []
    },
    {
      "cell_type": "code",
      "source": [
        "text = \"My best friend Ryan Peters likes fancy adventure games\"\n",
        "doc = nlp(text)\n",
        "for col, values in extract_nlp(doc).items():\n",
        "  print(f\"{col}: {values}\")"
      ],
      "metadata": {
        "colab": {
          "base_uri": "https://localhost:8080/"
        },
        "id": "5lC8aahiFVDG",
        "outputId": "19cf5738-2326-41b1-d5c5-f05cb78457db"
      },
      "execution_count": 20,
      "outputs": [
        {
          "output_type": "stream",
          "name": "stdout",
          "text": [
            "lemmas: ['good', 'friend', 'Ryan', 'Peters', 'like', 'fancy', 'adventure', 'game']\n",
            "adjs_verbs: ['good', 'like', 'fancy']\n",
            "nouns: ['friend', 'Ryan', 'Peters', 'adventure', 'game']\n",
            "noun_phrases: ['adventure_game']\n",
            "adj_noun_phrases: ['good_friend', 'fancy_adventure', 'fancy_adventure_game']\n",
            "entities: ['Ryan_Peters/PERSON']\n"
          ]
        }
      ]
    },
    {
      "cell_type": "code",
      "source": [
        "nlp_columns = list(extract_nlp(nlp.make_doc('')).keys())\n",
        "print(nlp_columns)"
      ],
      "metadata": {
        "colab": {
          "base_uri": "https://localhost:8080/"
        },
        "id": "Zyrk8X6EFJfk",
        "outputId": "1903cf24-8aeb-4b9b-93e0-2be2091a7fe4"
      },
      "execution_count": 21,
      "outputs": [
        {
          "output_type": "stream",
          "name": "stdout",
          "text": [
            "['lemmas', 'adjs_verbs', 'nouns', 'noun_phrases', 'adj_noun_phrases', 'entities']\n"
          ]
        }
      ]
    },
    {
      "cell_type": "code",
      "source": [],
      "metadata": {
        "id": "8kzy7JAlHTNL"
      },
      "execution_count": null,
      "outputs": []
    }
  ]
}