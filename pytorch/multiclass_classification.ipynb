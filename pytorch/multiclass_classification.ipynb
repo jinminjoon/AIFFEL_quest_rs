{
  "nbformat": 4,
  "nbformat_minor": 0,
  "metadata": {
    "colab": {
      "provenance": [],
      "gpuType": "T4"
    },
    "kernelspec": {
      "name": "python3",
      "display_name": "Python 3"
    },
    "language_info": {
      "name": "python"
    },
    "accelerator": "GPU"
  },
  "cells": [
    {
      "cell_type": "code",
      "execution_count": 2,
      "metadata": {
        "id": "T23ErlryKar1"
      },
      "outputs": [],
      "source": [
        "import torch\n",
        "from torchvision import datasets, transforms\n",
        "import matplotlib.pyplot as plt"
      ]
    },
    {
      "cell_type": "markdown",
      "source": [
        "## 구글 드라이브와 연동"
      ],
      "metadata": {
        "id": "UnryzWPOKn8n"
      }
    },
    {
      "cell_type": "code",
      "source": [
        "from google.colab import drive\n",
        "drive.mount('/content/drive')"
      ],
      "metadata": {
        "colab": {
          "base_uri": "https://localhost:8080/"
        },
        "id": "JNCu7Q-YKjTV",
        "outputId": "9cdc2604-ae50-446b-f921-b49eff682065"
      },
      "execution_count": 3,
      "outputs": [
        {
          "output_type": "stream",
          "name": "stdout",
          "text": [
            "Mounted at /content/drive\n"
          ]
        }
      ]
    },
    {
      "cell_type": "markdown",
      "source": [
        "## 구글 GPU 사용"
      ],
      "metadata": {
        "id": "20f3TkIKLINI"
      }
    },
    {
      "cell_type": "code",
      "source": [
        "DEVICE = \"cuda\" if torch.cuda.is_available() else \"cpu\"\n",
        "print(DEVICE)"
      ],
      "metadata": {
        "colab": {
          "base_uri": "https://localhost:8080/"
        },
        "id": "wRcem-LUKvVe",
        "outputId": "42bbc64b-f7a7-4b8d-9096-34987846d679"
      },
      "execution_count": 4,
      "outputs": [
        {
          "output_type": "stream",
          "name": "stdout",
          "text": [
            "cuda\n"
          ]
        }
      ]
    },
    {
      "cell_type": "markdown",
      "source": [
        "## train_DS와 test_DS"
      ],
      "metadata": {
        "id": "v4_usiCLL1qW"
      }
    },
    {
      "cell_type": "code",
      "source": [
        "transform = transforms.ToTensor()\n",
        "train_DS = datasets.MNIST(root=\"/content/drive/MyDrive/Colab Notebooks/data\", train=True, download=True, transform=transform)\n",
        "test_DS = datasets.MNIST(root=\"/content/drive/MyDrive/Colab Notebooks/data\", train=False, download=True, transform=transform)"
      ],
      "metadata": {
        "id": "F94Yfv4bLNxc"
      },
      "execution_count": 5,
      "outputs": []
    },
    {
      "cell_type": "code",
      "source": [
        "print(train_DS)\n",
        "print(test_DS)\n",
        "print(len(train_DS))\n",
        "print(len(test_DS))"
      ],
      "metadata": {
        "colab": {
          "base_uri": "https://localhost:8080/"
        },
        "id": "lRcGfao6Mla7",
        "outputId": "044c7c3d-e9c7-4a09-cecd-f6497acc0fcb"
      },
      "execution_count": 6,
      "outputs": [
        {
          "output_type": "stream",
          "name": "stdout",
          "text": [
            "Dataset MNIST\n",
            "    Number of datapoints: 60000\n",
            "    Root location: /content/drive/MyDrive/Colab Notebooks/data\n",
            "    Split: Train\n",
            "    StandardTransform\n",
            "Transform: ToTensor()\n",
            "Dataset MNIST\n",
            "    Number of datapoints: 10000\n",
            "    Root location: /content/drive/MyDrive/Colab Notebooks/data\n",
            "    Split: Test\n",
            "    StandardTransform\n",
            "Transform: ToTensor()\n",
            "60000\n",
            "10000\n"
          ]
        }
      ]
    },
    {
      "cell_type": "code",
      "source": [
        "train_DS.classes"
      ],
      "metadata": {
        "colab": {
          "base_uri": "https://localhost:8080/"
        },
        "id": "19x5qu2UMxTP",
        "outputId": "35c919c9-dff6-4f8f-b82f-b43f02b5759a"
      },
      "execution_count": 7,
      "outputs": [
        {
          "output_type": "execute_result",
          "data": {
            "text/plain": [
              "['0 - zero',\n",
              " '1 - one',\n",
              " '2 - two',\n",
              " '3 - three',\n",
              " '4 - four',\n",
              " '5 - five',\n",
              " '6 - six',\n",
              " '7 - seven',\n",
              " '8 - eight',\n",
              " '9 - nine']"
            ]
          },
          "metadata": {},
          "execution_count": 7
        }
      ]
    },
    {
      "cell_type": "code",
      "source": [
        "train_DS.class_to_idx"
      ],
      "metadata": {
        "colab": {
          "base_uri": "https://localhost:8080/"
        },
        "id": "ph322vQlM9sQ",
        "outputId": "be338e4b-b469-46cb-c364-cea7bcaa9819"
      },
      "execution_count": 8,
      "outputs": [
        {
          "output_type": "execute_result",
          "data": {
            "text/plain": [
              "{'0 - zero': 0,\n",
              " '1 - one': 1,\n",
              " '2 - two': 2,\n",
              " '3 - three': 3,\n",
              " '4 - four': 4,\n",
              " '5 - five': 5,\n",
              " '6 - six': 6,\n",
              " '7 - seven': 7,\n",
              " '8 - eight': 8,\n",
              " '9 - nine': 9}"
            ]
          },
          "metadata": {},
          "execution_count": 8
        }
      ]
    },
    {
      "cell_type": "code",
      "source": [
        "train_DS.data.shape"
      ],
      "metadata": {
        "colab": {
          "base_uri": "https://localhost:8080/"
        },
        "id": "ib00TVGJNDcz",
        "outputId": "f05bfd68-7107-4ca1-b946-758783c03908"
      },
      "execution_count": 9,
      "outputs": [
        {
          "output_type": "execute_result",
          "data": {
            "text/plain": [
              "torch.Size([60000, 28, 28])"
            ]
          },
          "metadata": {},
          "execution_count": 9
        }
      ]
    },
    {
      "cell_type": "code",
      "source": [
        "train_DS.data[0]"
      ],
      "metadata": {
        "colab": {
          "base_uri": "https://localhost:8080/"
        },
        "id": "m98badaQNJlP",
        "outputId": "abcb0fa4-845f-4d49-854e-107fafa13c8a"
      },
      "execution_count": 10,
      "outputs": [
        {
          "output_type": "execute_result",
          "data": {
            "text/plain": [
              "tensor([[  0,   0,   0,   0,   0,   0,   0,   0,   0,   0,   0,   0,   0,   0,\n",
              "           0,   0,   0,   0,   0,   0,   0,   0,   0,   0,   0,   0,   0,   0],\n",
              "        [  0,   0,   0,   0,   0,   0,   0,   0,   0,   0,   0,   0,   0,   0,\n",
              "           0,   0,   0,   0,   0,   0,   0,   0,   0,   0,   0,   0,   0,   0],\n",
              "        [  0,   0,   0,   0,   0,   0,   0,   0,   0,   0,   0,   0,   0,   0,\n",
              "           0,   0,   0,   0,   0,   0,   0,   0,   0,   0,   0,   0,   0,   0],\n",
              "        [  0,   0,   0,   0,   0,   0,   0,   0,   0,   0,   0,   0,   0,   0,\n",
              "           0,   0,   0,   0,   0,   0,   0,   0,   0,   0,   0,   0,   0,   0],\n",
              "        [  0,   0,   0,   0,   0,   0,   0,   0,   0,   0,   0,   0,   0,   0,\n",
              "           0,   0,   0,   0,   0,   0,   0,   0,   0,   0,   0,   0,   0,   0],\n",
              "        [  0,   0,   0,   0,   0,   0,   0,   0,   0,   0,   0,   0,   3,  18,\n",
              "          18,  18, 126, 136, 175,  26, 166, 255, 247, 127,   0,   0,   0,   0],\n",
              "        [  0,   0,   0,   0,   0,   0,   0,   0,  30,  36,  94, 154, 170, 253,\n",
              "         253, 253, 253, 253, 225, 172, 253, 242, 195,  64,   0,   0,   0,   0],\n",
              "        [  0,   0,   0,   0,   0,   0,   0,  49, 238, 253, 253, 253, 253, 253,\n",
              "         253, 253, 253, 251,  93,  82,  82,  56,  39,   0,   0,   0,   0,   0],\n",
              "        [  0,   0,   0,   0,   0,   0,   0,  18, 219, 253, 253, 253, 253, 253,\n",
              "         198, 182, 247, 241,   0,   0,   0,   0,   0,   0,   0,   0,   0,   0],\n",
              "        [  0,   0,   0,   0,   0,   0,   0,   0,  80, 156, 107, 253, 253, 205,\n",
              "          11,   0,  43, 154,   0,   0,   0,   0,   0,   0,   0,   0,   0,   0],\n",
              "        [  0,   0,   0,   0,   0,   0,   0,   0,   0,  14,   1, 154, 253,  90,\n",
              "           0,   0,   0,   0,   0,   0,   0,   0,   0,   0,   0,   0,   0,   0],\n",
              "        [  0,   0,   0,   0,   0,   0,   0,   0,   0,   0,   0, 139, 253, 190,\n",
              "           2,   0,   0,   0,   0,   0,   0,   0,   0,   0,   0,   0,   0,   0],\n",
              "        [  0,   0,   0,   0,   0,   0,   0,   0,   0,   0,   0,  11, 190, 253,\n",
              "          70,   0,   0,   0,   0,   0,   0,   0,   0,   0,   0,   0,   0,   0],\n",
              "        [  0,   0,   0,   0,   0,   0,   0,   0,   0,   0,   0,   0,  35, 241,\n",
              "         225, 160, 108,   1,   0,   0,   0,   0,   0,   0,   0,   0,   0,   0],\n",
              "        [  0,   0,   0,   0,   0,   0,   0,   0,   0,   0,   0,   0,   0,  81,\n",
              "         240, 253, 253, 119,  25,   0,   0,   0,   0,   0,   0,   0,   0,   0],\n",
              "        [  0,   0,   0,   0,   0,   0,   0,   0,   0,   0,   0,   0,   0,   0,\n",
              "          45, 186, 253, 253, 150,  27,   0,   0,   0,   0,   0,   0,   0,   0],\n",
              "        [  0,   0,   0,   0,   0,   0,   0,   0,   0,   0,   0,   0,   0,   0,\n",
              "           0,  16,  93, 252, 253, 187,   0,   0,   0,   0,   0,   0,   0,   0],\n",
              "        [  0,   0,   0,   0,   0,   0,   0,   0,   0,   0,   0,   0,   0,   0,\n",
              "           0,   0,   0, 249, 253, 249,  64,   0,   0,   0,   0,   0,   0,   0],\n",
              "        [  0,   0,   0,   0,   0,   0,   0,   0,   0,   0,   0,   0,   0,   0,\n",
              "          46, 130, 183, 253, 253, 207,   2,   0,   0,   0,   0,   0,   0,   0],\n",
              "        [  0,   0,   0,   0,   0,   0,   0,   0,   0,   0,   0,   0,  39, 148,\n",
              "         229, 253, 253, 253, 250, 182,   0,   0,   0,   0,   0,   0,   0,   0],\n",
              "        [  0,   0,   0,   0,   0,   0,   0,   0,   0,   0,  24, 114, 221, 253,\n",
              "         253, 253, 253, 201,  78,   0,   0,   0,   0,   0,   0,   0,   0,   0],\n",
              "        [  0,   0,   0,   0,   0,   0,   0,   0,  23,  66, 213, 253, 253, 253,\n",
              "         253, 198,  81,   2,   0,   0,   0,   0,   0,   0,   0,   0,   0,   0],\n",
              "        [  0,   0,   0,   0,   0,   0,  18, 171, 219, 253, 253, 253, 253, 195,\n",
              "          80,   9,   0,   0,   0,   0,   0,   0,   0,   0,   0,   0,   0,   0],\n",
              "        [  0,   0,   0,   0,  55, 172, 226, 253, 253, 253, 253, 244, 133,  11,\n",
              "           0,   0,   0,   0,   0,   0,   0,   0,   0,   0,   0,   0,   0,   0],\n",
              "        [  0,   0,   0,   0, 136, 253, 253, 253, 212, 135, 132,  16,   0,   0,\n",
              "           0,   0,   0,   0,   0,   0,   0,   0,   0,   0,   0,   0,   0,   0],\n",
              "        [  0,   0,   0,   0,   0,   0,   0,   0,   0,   0,   0,   0,   0,   0,\n",
              "           0,   0,   0,   0,   0,   0,   0,   0,   0,   0,   0,   0,   0,   0],\n",
              "        [  0,   0,   0,   0,   0,   0,   0,   0,   0,   0,   0,   0,   0,   0,\n",
              "           0,   0,   0,   0,   0,   0,   0,   0,   0,   0,   0,   0,   0,   0],\n",
              "        [  0,   0,   0,   0,   0,   0,   0,   0,   0,   0,   0,   0,   0,   0,\n",
              "           0,   0,   0,   0,   0,   0,   0,   0,   0,   0,   0,   0,   0,   0]],\n",
              "       dtype=torch.uint8)"
            ]
          },
          "metadata": {},
          "execution_count": 10
        }
      ]
    },
    {
      "cell_type": "code",
      "source": [
        "plt.imshow(train_DS.data[0], cmap='gray')\n",
        "plt.colorbar()"
      ],
      "metadata": {
        "colab": {
          "base_uri": "https://localhost:8080/",
          "height": 447
        },
        "id": "2FvI8ZLFNPju",
        "outputId": "3ac7a89a-dbed-4f13-8983-61d2164c2187"
      },
      "execution_count": 11,
      "outputs": [
        {
          "output_type": "execute_result",
          "data": {
            "text/plain": [
              "<matplotlib.colorbar.Colorbar at 0x7a2289726f10>"
            ]
          },
          "metadata": {},
          "execution_count": 11
        },
        {
          "output_type": "display_data",
          "data": {
            "text/plain": [
              "<Figure size 640x480 with 2 Axes>"
            ],
            "image/png": "[encoded data removed]"
          },
          "metadata": {}
        }
      ]
    },
    {
      "cell_type": "code",
      "source": [
        "print(train_DS.targets)\n",
        "print(train_DS.targets.shape)"
      ],
      "metadata": {
        "colab": {
          "base_uri": "https://localhost:8080/"
        },
        "id": "w_pVYoYBNXA5",
        "outputId": "30c1de4b-f475-4085-fc05-530d94d0a85c"
      },
      "execution_count": 12,
      "outputs": [
        {
          "output_type": "stream",
          "name": "stdout",
          "text": [
            "tensor([5, 0, 4,  ..., 5, 6, 8])\n",
            "torch.Size([60000])\n"
          ]
        }
      ]
    },
    {
      "cell_type": "markdown",
      "source": [
        "## DataLoader 구경"
      ],
      "metadata": {
        "id": "AKCI0dB0VJIe"
      }
    },
    {
      "cell_type": "code",
      "source": [
        "BATCH_SIZE = 32\n",
        "train_DL = torch.utils.data.DataLoader(train_DS, batch_size=BATCH_SIZE, shuffle=True)\n",
        "test_DL = torch.utils.data.DataLoader(test_DS, batch_size=BATCH_SIZE, shuffle=True)"
      ],
      "metadata": {
        "id": "MiHwz9E9NnQF"
      },
      "execution_count": 13,
      "outputs": []
    },
    {
      "cell_type": "code",
      "source": [
        "train_DL.dataset"
      ],
      "metadata": {
        "colab": {
          "base_uri": "https://localhost:8080/"
        },
        "id": "0fVHV6BPVYTQ",
        "outputId": "9273b991-fdfc-4d5a-9b3f-eaf6c722013d"
      },
      "execution_count": 14,
      "outputs": [
        {
          "output_type": "execute_result",
          "data": {
            "text/plain": [
              "Dataset MNIST\n",
              "    Number of datapoints: 60000\n",
              "    Root location: /content/drive/MyDrive/Colab Notebooks/data\n",
              "    Split: Train\n",
              "    StandardTransform\n",
              "Transform: ToTensor()"
            ]
          },
          "metadata": {},
          "execution_count": 14
        }
      ]
    },
    {
      "cell_type": "code",
      "source": [
        "x_batch, y_batch = next(iter(train_DL))\n",
        "# ToTensor의 역할\n",
        "# 1. tensor로 바꾸고\n",
        "# 2. 개채행열로 바꾸고\n",
        "# 3. 0~1 사이로 바꾸고 (int -> float)\n",
        "print(type(train_DS.data))\n",
        "print(train_DS.data.shape)\n",
        "print(train_DS.data.dtype)\n",
        "print(train_DS.data[0])\n",
        "\n",
        "print(type(x_batch))\n",
        "print(x_batch.shape)\n",
        "print(x_batch.dtype)\n",
        "print(x_batch[0])\n",
        "\n",
        "plt.imshow(x_batch[0].squeeze(), cmap='gray')\n",
        "plt.colorbar()\n",
        "print(y_batch[0])"
      ],
      "metadata": {
        "colab": {
          "base_uri": "https://localhost:8080/",
          "height": 1000
        },
        "id": "BPnx_IGIVZju",
        "outputId": "d2e31b24-9f6c-4065-a354-7ded35db1597"
      },
      "execution_count": 15,
      "outputs": [
        {
          "output_type": "stream",
          "name": "stdout",
          "text": [
            "<class 'torch.Tensor'>\n",
            "torch.Size([60000, 28, 28])\n",
            "torch.uint8\n",
            "tensor([[  0,   0,   0,   0,   0,   0,   0,   0,   0,   0,   0,   0,   0,   0,\n",
            "           0,   0,   0,   0,   0,   0,   0,   0,   0,   0,   0,   0,   0,   0],\n",
            "        [  0,   0,   0,   0,   0,   0,   0,   0,   0,   0,   0,   0,   0,   0,\n",
            "           0,   0,   0,   0,   0,   0,   0,   0,   0,   0,   0,   0,   0,   0],\n",
            "        [  0,   0,   0,   0,   0,   0,   0,   0,   0,   0,   0,   0,   0,   0,\n",
            "           0,   0,   0,   0,   0,   0,   0,   0,   0,   0,   0,   0,   0,   0],\n",
            "        [  0,   0,   0,   0,   0,   0,   0,   0,   0,   0,   0,   0,   0,   0,\n",
            "           0,   0,   0,   0,   0,   0,   0,   0,   0,   0,   0,   0,   0,   0],\n",
            "        [  0,   0,   0,   0,   0,   0,   0,   0,   0,   0,   0,   0,   0,   0,\n",
            "           0,   0,   0,   0,   0,   0,   0,   0,   0,   0,   0,   0,   0,   0],\n",
            "        [  0,   0,   0,   0,   0,   0,   0,   0,   0,   0,   0,   0,   3,  18,\n",
            "          18,  18, 126, 136, 175,  26, 166, 255, 247, 127,   0,   0,   0,   0],\n",
            "        [  0,   0,   0,   0,   0,   0,   0,   0,  30,  36,  94, 154, 170, 253,\n",
            "         253, 253, 253, 253, 225, 172, 253, 242, 195,  64,   0,   0,   0,   0],\n",
            "        [  0,   0,   0,   0,   0,   0,   0,  49, 238, 253, 253, 253, 253, 253,\n",
            "         253, 253, 253, 251,  93,  82,  82,  56,  39,   0,   0,   0,   0,   0],\n",
            "        [  0,   0,   0,   0,   0,   0,   0,  18, 219, 253, 253, 253, 253, 253,\n",
            "         198, 182, 247, 241,   0,   0,   0,   0,   0,   0,   0,   0,   0,   0],\n",
            "        [  0,   0,   0,   0,   0,   0,   0,   0,  80, 156, 107, 253, 253, 205,\n",
            "          11,   0,  43, 154,   0,   0,   0,   0,   0,   0,   0,   0,   0,   0],\n",
            "        [  0,   0,   0,   0,   0,   0,   0,   0,   0,  14,   1, 154, 253,  90,\n",
            "           0,   0,   0,   0,   0,   0,   0,   0,   0,   0,   0,   0,   0,   0],\n",
            "        [  0,   0,   0,   0,   0,   0,   0,   0,   0,   0,   0, 139, 253, 190,\n",
            "           2,   0,   0,   0,   0,   0,   0,   0,   0,   0,   0,   0,   0,   0],\n",
            "        [  0,   0,   0,   0,   0,   0,   0,   0,   0,   0,   0,  11, 190, 253,\n",
            "          70,   0,   0,   0,   0,   0,   0,   0,   0,   0,   0,   0,   0,   0],\n",
            "        [  0,   0,   0,   0,   0,   0,   0,   0,   0,   0,   0,   0,  35, 241,\n",
            "         225, 160, 108,   1,   0,   0,   0,   0,   0,   0,   0,   0,   0,   0],\n",
            "        [  0,   0,   0,   0,   0,   0,   0,   0,   0,   0,   0,   0,   0,  81,\n",
            "         240, 253, 253, 119,  25,   0,   0,   0,   0,   0,   0,   0,   0,   0],\n",
            "        [  0,   0,   0,   0,   0,   0,   0,   0,   0,   0,   0,   0,   0,   0,\n",
            "          45, 186, 253, 253, 150,  27,   0,   0,   0,   0,   0,   0,   0,   0],\n",
            "        [  0,   0,   0,   0,   0,   0,   0,   0,   0,   0,   0,   0,   0,   0,\n",
            "           0,  16,  93, 252, 253, 187,   0,   0,   0,   0,   0,   0,   0,   0],\n",
            "        [  0,   0,   0,   0,   0,   0,   0,   0,   0,   0,   0,   0,   0,   0,\n",
            "           0,   0,   0, 249, 253, 249,  64,   0,   0,   0,   0,   0,   0,   0],\n",
            "        [  0,   0,   0,   0,   0,   0,   0,   0,   0,   0,   0,   0,   0,   0,\n",
            "          46, 130, 183, 253, 253, 207,   2,   0,   0,   0,   0,   0,   0,   0],\n",
            "        [  0,   0,   0,   0,   0,   0,   0,   0,   0,   0,   0,   0,  39, 148,\n",
            "         229, 253, 253, 253, 250, 182,   0,   0,   0,   0,   0,   0,   0,   0],\n",
            "        [  0,   0,   0,   0,   0,   0,   0,   0,   0,   0,  24, 114, 221, 253,\n",
            "         253, 253, 253, 201,  78,   0,   0,   0,   0,   0,   0,   0,   0,   0],\n",
            "        [  0,   0,   0,   0,   0,   0,   0,   0,  23,  66, 213, 253, 253, 253,\n",
            "         253, 198,  81,   2,   0,   0,   0,   0,   0,   0,   0,   0,   0,   0],\n",
            "        [  0,   0,   0,   0,   0,   0,  18, 171, 219, 253, 253, 253, 253, 195,\n",
            "          80,   9,   0,   0,   0,   0,   0,   0,   0,   0,   0,   0,   0,   0],\n",
            "        [  0,   0,   0,   0,  55, 172, 226, 253, 253, 253, 253, 244, 133,  11,\n",
            "           0,   0,   0,   0,   0,   0,   0,   0,   0,   0,   0,   0,   0,   0],\n",
            "        [  0,   0,   0,   0, 136, 253, 253, 253, 212, 135, 132,  16,   0,   0,\n",
            "           0,   0,   0,   0,   0,   0,   0,   0,   0,   0,   0,   0,   0,   0],\n",
            "        [  0,   0,   0,   0,   0,   0,   0,   0,   0,   0,   0,   0,   0,   0,\n",
            "           0,   0,   0,   0,   0,   0,   0,   0,   0,   0,   0,   0,   0,   0],\n",
            "        [  0,   0,   0,   0,   0,   0,   0,   0,   0,   0,   0,   0,   0,   0,\n",
            "           0,   0,   0,   0,   0,   0,   0,   0,   0,   0,   0,   0,   0,   0],\n",
            "        [  0,   0,   0,   0,   0,   0,   0,   0,   0,   0,   0,   0,   0,   0,\n",
            "           0,   0,   0,   0,   0,   0,   0,   0,   0,   0,   0,   0,   0,   0]],\n",
            "       dtype=torch.uint8)\n",
            "<class 'torch.Tensor'>\n",
            "torch.Size([32, 1, 28, 28])\n",
            "torch.float32\n",
            "tensor([[[0.0000, 0.0000, 0.0000, 0.0000, 0.0000, 0.0000, 0.0000, 0.0000,\n",
            "          0.0000, 0.0000, 0.0000, 0.0000, 0.0000, 0.0000, 0.0000, 0.0000,\n",
            "          0.0000, 0.0000, 0.0000, 0.0000, 0.0000, 0.0000, 0.0000, 0.0000,\n",
            "          0.0000, 0.0000, 0.0000, 0.0000],\n",
            "         [0.0000, 0.0000, 0.0000, 0.0000, 0.0000, 0.0000, 0.0000, 0.0000,\n",
            "          0.0000, 0.0000, 0.0000, 0.0000, 0.0000, 0.0000, 0.0000, 0.0000,\n",
            "          0.0000, 0.0000, 0.0000, 0.0000, 0.0000, 0.0000, 0.0000, 0.0000,\n",
            "          0.0000, 0.0000, 0.0000, 0.0000],\n",
            "         [0.0000, 0.0000, 0.0000, 0.0000, 0.0000, 0.0000, 0.0000, 0.0000,\n",
            "          0.0000, 0.0000, 0.0000, 0.0000, 0.0000, 0.0000, 0.0000, 0.0000,\n",
            "          0.0000, 0.0000, 0.0000, 0.0000, 0.0000, 0.0000, 0.0000, 0.0000,\n",
            "          0.0000, 0.0000, 0.0000, 0.0000],\n",
            "         [0.0000, 0.0000, 0.0000, 0.0000, 0.0000, 0.0000, 0.0000, 0.0000,\n",
            "          0.0000, 0.0000, 0.0000, 0.0000, 0.0000, 0.0000, 0.0000, 0.0000,\n",
            "          0.0000, 0.0000, 0.0000, 0.0000, 0.0000, 0.0000, 0.0000, 0.0000,\n",
            "          0.0000, 0.0000, 0.0000, 0.0000],\n",
            "         [0.0000, 0.0000, 0.0000, 0.0000, 0.0000, 0.0000, 0.0000, 0.0000,\n",
            "          0.0000, 0.0000, 0.0000, 0.0000, 0.0000, 0.0000, 0.0000, 0.0000,\n",
            "          0.0000, 0.0000, 0.0000, 0.0000, 0.0000, 0.0000, 0.0000, 0.0000,\n",
            "          0.0000, 0.0000, 0.0000, 0.0000],\n",
            "         [0.0000, 0.0000, 0.0000, 0.0000, 0.0000, 0.0000, 0.0000, 0.0000,\n",
            "          0.0000, 0.0000, 0.0000, 0.0000, 0.0000, 0.0000, 0.0510, 0.0941,\n",
            "          0.0941, 0.0941, 0.0941, 0.0431, 0.0000, 0.0000, 0.0000, 0.0000,\n",
            "          0.0000, 0.0000, 0.0000, 0.0000],\n",
            "         [0.0000, 0.0000, 0.0000, 0.0000, 0.0000, 0.0000, 0.0000, 0.0000,\n",
            "          0.0000, 0.0000, 0.0000, 0.0000, 0.1490, 0.3882, 0.8314, 0.9882,\n",
            "          0.9882, 0.9882, 0.9882, 0.7961, 0.6314, 0.3059, 0.1176, 0.0000,\n",
            "          0.0000, 0.0000, 0.0000, 0.0000],\n",
            "         [0.0000, 0.0000, 0.0000, 0.0000, 0.0000, 0.0000, 0.0000, 0.0000,\n",
            "          0.0000, 0.1490, 0.5569, 0.7216, 0.9412, 0.9882, 0.9922, 0.9882,\n",
            "          0.9882, 0.9882, 0.9882, 0.9922, 0.9882, 0.9882, 0.8902, 0.0667,\n",
            "          0.0000, 0.0000, 0.0000, 0.0000],\n",
            "         [0.0000, 0.0000, 0.0000, 0.0000, 0.0000, 0.0000, 0.0000, 0.0000,\n",
            "          0.1686, 0.9137, 0.9882, 0.9882, 0.9882, 0.9882, 0.9922, 0.7569,\n",
            "          0.6275, 0.6275, 0.6275, 0.8275, 0.9882, 0.9882, 0.9882, 0.6196,\n",
            "          0.0000, 0.0000, 0.0000, 0.0000],\n",
            "         [0.0000, 0.0000, 0.0000, 0.0000, 0.0000, 0.0000, 0.0000, 0.1686,\n",
            "          0.9020, 0.9922, 0.9882, 0.9882, 0.9882, 0.9882, 0.2941, 0.0314,\n",
            "          0.0000, 0.0000, 0.0000, 0.0510, 0.3765, 0.8667, 0.9882, 0.9882,\n",
            "          0.0000, 0.0000, 0.0000, 0.0000],\n",
            "         [0.0000, 0.0000, 0.0000, 0.0000, 0.0000, 0.0000, 0.0000, 0.3647,\n",
            "          0.9922, 1.0000, 0.9922, 0.9922, 0.7529, 0.2471, 0.0000, 0.0000,\n",
            "          0.0000, 0.0000, 0.0000, 0.0000, 0.1020, 0.8706, 0.9922, 0.9922,\n",
            "          0.0000, 0.0000, 0.0000, 0.0000],\n",
            "         [0.0000, 0.0000, 0.0000, 0.0000, 0.0000, 0.0000, 0.0000, 0.2980,\n",
            "          0.9725, 0.9922, 0.7922, 0.3608, 0.0667, 0.0000, 0.0000, 0.0000,\n",
            "          0.0000, 0.0000, 0.0000, 0.0000, 0.4706, 0.9882, 0.9882, 0.9882,\n",
            "          0.0000, 0.0000, 0.0000, 0.0000],\n",
            "         [0.0000, 0.0000, 0.0000, 0.0000, 0.0000, 0.0000, 0.0000, 0.0000,\n",
            "          0.2471, 0.2706, 0.0980, 0.0000, 0.0000, 0.0000, 0.0000, 0.0000,\n",
            "          0.0000, 0.0000, 0.0000, 0.3176, 0.8941, 0.9882, 0.9882, 0.5333,\n",
            "          0.0000, 0.0000, 0.0000, 0.0000],\n",
            "         [0.0000, 0.0000, 0.0000, 0.0000, 0.0000, 0.0000, 0.0000, 0.0000,\n",
            "          0.0000, 0.0000, 0.0000, 0.0000, 0.0000, 0.0000, 0.0000, 0.0000,\n",
            "          0.0000, 0.0000, 0.1686, 0.9922, 0.9882, 0.9882, 0.8549, 0.0549,\n",
            "          0.0000, 0.0000, 0.0000, 0.0000],\n",
            "         [0.0000, 0.0000, 0.0000, 0.0000, 0.0000, 0.0000, 0.0000, 0.0000,\n",
            "          0.0000, 0.0000, 0.0000, 0.0000, 0.0000, 0.0000, 0.0000, 0.0000,\n",
            "          0.0000, 0.1686, 0.9020, 0.9922, 0.9882, 0.8667, 0.3451, 0.0000,\n",
            "          0.0000, 0.0000, 0.0000, 0.0000],\n",
            "         [0.0000, 0.0000, 0.0000, 0.0000, 0.0000, 0.0000, 0.0000, 0.0000,\n",
            "          0.0000, 0.0510, 0.3804, 0.5412, 0.9137, 0.9922, 1.0000, 0.9922,\n",
            "          0.7882, 0.9922, 0.9922, 1.0000, 0.9373, 0.4510, 0.0000, 0.0000,\n",
            "          0.0000, 0.0000, 0.0000, 0.0000],\n",
            "         [0.0000, 0.0000, 0.0000, 0.0000, 0.0000, 0.0000, 0.0510, 0.3490,\n",
            "          0.6314, 0.8314, 0.9882, 0.9882, 0.9882, 0.9882, 0.9922, 0.9882,\n",
            "          0.9882, 0.9882, 0.9882, 0.9922, 0.7608, 0.2549, 0.0000, 0.0000,\n",
            "          0.0000, 0.0000, 0.0000, 0.0000],\n",
            "         [0.0000, 0.0000, 0.0000, 0.0000, 0.0000, 0.0510, 0.4706, 0.9882,\n",
            "          0.9882, 0.8706, 0.9412, 0.7176, 0.7176, 0.9647, 0.9922, 0.9882,\n",
            "          0.9882, 0.9882, 0.9882, 0.9922, 0.9882, 0.9176, 0.7216, 0.3137,\n",
            "          0.0000, 0.0000, 0.0000, 0.0000],\n",
            "         [0.0000, 0.0000, 0.0000, 0.0000, 0.0353, 0.6824, 0.9882, 0.9882,\n",
            "          0.8235, 0.0980, 0.1451, 0.1020, 0.7333, 0.9725, 0.9922, 0.9882,\n",
            "          0.9882, 0.8549, 0.9569, 0.9922, 0.9882, 0.9882, 0.9882, 0.9882,\n",
            "          0.0000, 0.0000, 0.0000, 0.0000],\n",
            "         [0.0000, 0.0000, 0.0000, 0.0000, 0.2980, 0.9882, 0.9882, 0.8235,\n",
            "          0.0863, 0.0000, 0.3725, 0.9255, 0.9882, 0.9882, 0.9922, 0.6980,\n",
            "          0.2118, 0.0549, 0.0824, 0.3373, 0.8275, 0.9882, 0.9882, 0.9882,\n",
            "          0.0000, 0.0000, 0.0000, 0.0000],\n",
            "         [0.0000, 0.0000, 0.0000, 0.0000, 0.7922, 0.9922, 0.9922, 0.8275,\n",
            "          0.7490, 1.0000, 0.9922, 0.9922, 0.9922, 0.9529, 0.6196, 0.0000,\n",
            "          0.0000, 0.0000, 0.0000, 0.0000, 0.0000, 0.3333, 0.8235, 0.9843,\n",
            "          0.0000, 0.0000, 0.0000, 0.0000],\n",
            "         [0.0000, 0.0000, 0.0000, 0.0000, 0.9098, 0.9882, 0.9882, 0.9882,\n",
            "          0.9882, 0.9922, 0.9882, 0.8549, 0.4392, 0.1961, 0.0000, 0.0000,\n",
            "          0.0000, 0.0000, 0.0000, 0.0000, 0.0000, 0.0000, 0.0000, 0.3294,\n",
            "          0.0000, 0.0000, 0.0000, 0.0000],\n",
            "         [0.0000, 0.0000, 0.0000, 0.0000, 0.4196, 0.9882, 0.9882, 0.9882,\n",
            "          0.9882, 0.8431, 0.6353, 0.0745, 0.0000, 0.0000, 0.0000, 0.0000,\n",
            "          0.0000, 0.0000, 0.0000, 0.0000, 0.0000, 0.0000, 0.0000, 0.0000,\n",
            "          0.0000, 0.0000, 0.0000, 0.0000],\n",
            "         [0.0000, 0.0000, 0.0000, 0.0000, 0.0196, 0.4667, 0.6275, 0.2588,\n",
            "          0.1765, 0.0824, 0.0000, 0.0000, 0.0000, 0.0000, 0.0000, 0.0000,\n",
            "          0.0000, 0.0000, 0.0000, 0.0000, 0.0000, 0.0000, 0.0000, 0.0000,\n",
            "          0.0000, 0.0000, 0.0000, 0.0000],\n",
            "         [0.0000, 0.0000, 0.0000, 0.0000, 0.0000, 0.0000, 0.0000, 0.0000,\n",
            "          0.0000, 0.0000, 0.0000, 0.0000, 0.0000, 0.0000, 0.0000, 0.0000,\n",
            "          0.0000, 0.0000, 0.0000, 0.0000, 0.0000, 0.0000, 0.0000, 0.0000,\n",
            "          0.0000, 0.0000, 0.0000, 0.0000],\n",
            "         [0.0000, 0.0000, 0.0000, 0.0000, 0.0000, 0.0000, 0.0000, 0.0000,\n",
            "          0.0000, 0.0000, 0.0000, 0.0000, 0.0000, 0.0000, 0.0000, 0.0000,\n",
            "          0.0000, 0.0000, 0.0000, 0.0000, 0.0000, 0.0000, 0.0000, 0.0000,\n",
            "          0.0000, 0.0000, 0.0000, 0.0000],\n",
            "         [0.0000, 0.0000, 0.0000, 0.0000, 0.0000, 0.0000, 0.0000, 0.0000,\n",
            "          0.0000, 0.0000, 0.0000, 0.0000, 0.0000, 0.0000, 0.0000, 0.0000,\n",
            "          0.0000, 0.0000, 0.0000, 0.0000, 0.0000, 0.0000, 0.0000, 0.0000,\n",
            "          0.0000, 0.0000, 0.0000, 0.0000],\n",
            "         [0.0000, 0.0000, 0.0000, 0.0000, 0.0000, 0.0000, 0.0000, 0.0000,\n",
            "          0.0000, 0.0000, 0.0000, 0.0000, 0.0000, 0.0000, 0.0000, 0.0000,\n",
            "          0.0000, 0.0000, 0.0000, 0.0000, 0.0000, 0.0000, 0.0000, 0.0000,\n",
            "          0.0000, 0.0000, 0.0000, 0.0000]]])\n",
            "tensor(2)\n"
          ]
        },
        {
          "output_type": "display_data",
          "data": {
            "text/plain": [
              "<Figure size 640x480 with 2 Axes>"
            ],
            "image/png": "[encoded data removed]"
          },
          "metadata": {}
        }
      ]
    },
    {
      "cell_type": "markdown",
      "source": [
        "## 본격적으로 model 만들기!"
      ],
      "metadata": {
        "id": "uw7bUzFBXV8U"
      }
    },
    {
      "cell_type": "code",
      "source": [
        "from torch import nn\n",
        "\n",
        "class MLP(nn.Module):\n",
        "  def __init__(self):\n",
        "    super().__init__()\n",
        "    self.fcs = nn.Sequential(nn.Linear(28*28, 100),\n",
        "                             nn.ReLU(),\n",
        "                             nn.Linear(100,10))\n",
        "  def forward(self, x):\n",
        "    x = torch.flatten(x, start_dim=1)\n",
        "    x = self.fcs(x)\n",
        "    return x"
      ],
      "metadata": {
        "id": "iEUtIGVjVxDo"
      },
      "execution_count": 16,
      "outputs": []
    },
    {
      "cell_type": "code",
      "source": [
        "# flatten 확인\n",
        "x_batch, _ = next(iter(train_DL))\n",
        "print(x_batch.shape)\n",
        "flat_images = torch.flatten(x_batch)\n",
        "print(flat_images.shape)\n",
        "flat_images2 = torch.flatten(x_batch, start_dim=1)\n",
        "print(flat_images2.shape)"
      ],
      "metadata": {
        "colab": {
          "base_uri": "https://localhost:8080/"
        },
        "id": "nARzvyWuW22C",
        "outputId": "a3df17e2-c920-455e-9b15-7ec4160b7e0f"
      },
      "execution_count": 17,
      "outputs": [
        {
          "output_type": "stream",
          "name": "stdout",
          "text": [
            "torch.Size([32, 1, 28, 28])\n",
            "torch.Size([25088])\n",
            "torch.Size([32, 784])\n"
          ]
        }
      ]
    },
    {
      "cell_type": "code",
      "source": [
        "model = MLP().to(DEVICE)\n",
        "print(model)\n",
        "x_batch, _ = next(iter(train_DL))\n",
        "print(model(x_batch.to(DEVICE)).shape)"
      ],
      "metadata": {
        "colab": {
          "base_uri": "https://localhost:8080/"
        },
        "id": "sZhYexitX2q3",
        "outputId": "aecca4e6-7c23-4791-82e9-99724e5a17bb"
      },
      "execution_count": 18,
      "outputs": [
        {
          "output_type": "stream",
          "name": "stdout",
          "text": [
            "MLP(\n",
            "  (fcs): Sequential(\n",
            "    (0): Linear(in_features=784, out_features=100, bias=True)\n",
            "    (1): ReLU()\n",
            "    (2): Linear(in_features=100, out_features=10, bias=True)\n",
            "  )\n",
            ")\n",
            "torch.Size([32, 10])\n"
          ]
        }
      ]
    },
    {
      "cell_type": "code",
      "source": [
        "from torch import optim\n",
        "\n",
        "LR = 1e-3\n",
        "EPOCH = 5\n",
        "criterion = nn.CrossEntropyLoss()\n",
        "optimizer = optim.Adam(model.parameters(), lr=LR)\n",
        "\n",
        "def Train(model, train_DL, criterion, optimizer, EPOCH):\n",
        "  loss_history = []\n",
        "  NoT=len(train_DL.dataset)\n",
        "\n",
        "  model.train() # train mode로 전환\n",
        "  for ep in range(EPOCH):\n",
        "    rloss=0 # running loss\n",
        "    for x_batch, y_batch in train_DL:\n",
        "      x_batch = x_batch.to(DEVICE)\n",
        "      y_batch = y_batch.to(DEVICE)\n",
        "      # inference\n",
        "      y_hat = model(x_batch)\n",
        "      #loss\n",
        "      loss = criterion(y_hat, y_batch)\n",
        "      # update\n",
        "      optimizer.zero_grad() # gradient 누적을 막기 위한 초기화\n",
        "      loss.backward() # backpropagation\n",
        "      optimizer.step() # weight update\n",
        "      # loss accumulation\n",
        "      loss_b = loss.item() * x_batch.shape[0] # batch loss\n",
        "      rloss += loss_b\n",
        "  # print loss\n",
        "    loss_e = rloss/NoT # epoch loss\n",
        "    loss_history += [loss_e]\n",
        "    print(f\"Epoch: {ep+1}, train loss: {loss_e:.3f}\")\n",
        "    print(\"-\"*20)\n",
        "\n",
        "  return loss_history"
      ],
      "metadata": {
        "id": "EQyCSKgQYedp"
      },
      "execution_count": 19,
      "outputs": []
    },
    {
      "cell_type": "markdown",
      "source": [
        "## Cross Entropy 확인(왜 모델에 softmax를 안붙였을까?)"
      ],
      "metadata": {
        "id": "Xe4b3u-Kb6SR"
      }
    },
    {
      "cell_type": "code",
      "source": [
        "# cross entropy 구하는 여러가지 방법\n",
        "import torch.nn.functional as F\n",
        "\n",
        "y_hat = torch.randn(3, 5) # data는 세 개, 5 종류로 분류하는 문제 가정\n",
        "print(y_hat) # 가로 축으로 합이 1이 아님, 즉, softmax 통과 전\n",
        "y_batch = torch.randint(5, (3,))\n",
        "print(y_batch)\n",
        "\n",
        "# 방법 1\n",
        "loss = F.cross_entropy(y_hat, y_batch)\n",
        "print(loss)\n",
        "\n",
        "# 방법 2\n",
        "criterion = nn.CrossEntropyLoss()\n",
        "print(criterion(y_hat, y_batch))\n",
        "\n",
        "# 방법 3\n",
        "soft = nn.Softmax(dim=1)\n",
        "y_hat_soft = soft(y_hat)\n",
        "print(y_hat_soft)\n",
        "loss=0\n",
        "for i, val in enumerate(y_hat_soft):\n",
        "  print(i, val)\n",
        "  loss += -torch.log(val[y_batch[i]])\n",
        "print(loss/3) # 평균이 내장되어 있음"
      ],
      "metadata": {
        "colab": {
          "base_uri": "https://localhost:8080/"
        },
        "id": "4MQv3eYMarie",
        "outputId": "f8c4254c-fe8a-46a9-f5e7-bf381fe2d833"
      },
      "execution_count": 20,
      "outputs": [
        {
          "output_type": "stream",
          "name": "stdout",
          "text": [
            "tensor([[-1.4712,  0.3670, -1.2509,  0.8779,  1.1579],\n",
            "        [-0.4828, -1.6586, -0.8527, -0.4073,  0.7890],\n",
            "        [ 0.8477,  0.4297,  1.0082,  0.1090, -1.3444]])\n",
            "tensor([0, 3, 3])\n",
            "tensor(2.4266)\n",
            "tensor(2.4266)\n",
            "tensor([[0.0304, 0.1912, 0.0379, 0.3187, 0.4217],\n",
            "        [0.1505, 0.0464, 0.1040, 0.1623, 0.5368],\n",
            "        [0.2922, 0.1924, 0.3431, 0.1396, 0.0326]])\n",
            "0 tensor([0.0304, 0.1912, 0.0379, 0.3187, 0.4217])\n",
            "1 tensor([0.1505, 0.0464, 0.1040, 0.1623, 0.5368])\n",
            "2 tensor([0.2922, 0.1924, 0.3431, 0.1396, 0.0326])\n",
            "tensor(2.4266)\n"
          ]
        }
      ]
    },
    {
      "cell_type": "code",
      "source": [
        "loss_history = Train(model, train_DL, criterion, optimizer, EPOCH)\n",
        "print(loss_history)\n",
        "plt.plot(range(1, EPOCH+1), loss_history)\n",
        "plt.xlabel(\"epoch\")\n",
        "plt.ylabel(\"loss\")\n",
        "plt.title(\"Train Loss\")\n",
        "plt.grid()"
      ],
      "metadata": {
        "colab": {
          "base_uri": "https://localhost:8080/",
          "height": 663
        },
        "id": "9eUhCFVkcKXO",
        "outputId": "868aff07-596b-46f9-e3b6-2f95dbfabd97"
      },
      "execution_count": 21,
      "outputs": [
        {
          "output_type": "stream",
          "name": "stdout",
          "text": [
            "Epoch: 1, train loss: 0.319\n",
            "--------------------\n",
            "Epoch: 2, train loss: 0.144\n",
            "--------------------\n",
            "Epoch: 3, train loss: 0.099\n",
            "--------------------\n",
            "Epoch: 4, train loss: 0.076\n",
            "--------------------\n",
            "Epoch: 5, train loss: 0.059\n",
            "--------------------\n",
            "[0.3185861741522948, 0.14428985484689474, 0.09865436024243633, 0.07576935665160417, 0.058978947652379675]\n"
          ]
        },
        {
          "output_type": "display_data",
          "data": {
            "text/plain": [
              "<Figure size 640x480 with 1 Axes>"
            ],
            "image/png": "[encoded data removed]"
          },
          "metadata": {}
        }
      ]
    },
    {
      "cell_type": "markdown",
      "source": [
        "## 모델 저장하기 & 불러오기"
      ],
      "metadata": {
        "id": "5_6BpBAliAvA"
      }
    },
    {
      "cell_type": "code",
      "source": [
        "model.state_dict()"
      ],
      "metadata": {
        "colab": {
          "base_uri": "https://localhost:8080/"
        },
        "id": "sTtEwyetisx1",
        "outputId": "ec995d4a-97c0-4940-df20-75ac3d0a3e1a"
      },
      "execution_count": 22,
      "outputs": [
        {
          "output_type": "execute_result",
          "data": {
            "text/plain": [
              "OrderedDict([('fcs.0.weight',\n",
              "              tensor([[ 0.0061,  0.0113,  0.0195,  ...,  0.0115,  0.0179,  0.0239],\n",
              "                      [ 0.0216, -0.0243, -0.0013,  ..., -0.0050,  0.0045,  0.0234],\n",
              "                      [ 0.0274, -0.0119,  0.0245,  ...,  0.0088,  0.0051,  0.0081],\n",
              "                      ...,\n",
              "                      [-0.0069,  0.0327,  0.0218,  ..., -0.0254, -0.0126, -0.0150],\n",
              "                      [ 0.0325, -0.0204,  0.0162,  ..., -0.0159,  0.0246, -0.0145],\n",
              "                      [ 0.0343, -0.0190, -0.0253,  ..., -0.0239, -0.0131,  0.0137]],\n",
              "                     device='cuda:0')),\n",
              "             ('fcs.0.bias',\n",
              "              tensor([ 0.1936, -0.0264, -0.0727, -0.0402,  0.0620,  0.0976, -0.1505,  0.0969,\n",
              "                       0.2202,  0.0177,  0.0787,  0.2078,  0.1329, -0.0360,  0.0399,  0.0089,\n",
              "                      -0.1364,  0.0347,  0.2690, -0.1111,  0.0923, -0.0027,  0.0909,  0.1822,\n",
              "                      -0.0247, -0.0029, -0.0140,  0.1576, -0.0127,  0.0865,  0.0240,  0.0241,\n",
              "                       0.0390,  0.0262, -0.0450,  0.0974, -0.0332,  0.1617,  0.0363,  0.0587,\n",
              "                       0.1458, -0.0979,  0.1184,  0.0608, -0.0126,  0.0444, -0.1043,  0.1176,\n",
              "                      -0.1082, -0.0345,  0.1141,  0.0310,  0.1150, -0.0672,  0.1628,  0.0339,\n",
              "                      -0.0373, -0.0701, -0.0374, -0.1047, -0.0382, -0.0463,  0.0392,  0.1844,\n",
              "                       0.0155,  0.0146,  0.0674, -0.0426,  0.1707, -0.0882,  0.0746, -0.2202,\n",
              "                       0.0521,  0.1769, -0.0656,  0.1684, -0.0052,  0.1241,  0.0582,  0.0438,\n",
              "                       0.0880, -0.1057, -0.0455,  0.0107, -0.0185,  0.3497, -0.0967, -0.0351,\n",
              "                       0.3047,  0.0361, -0.1987, -0.0028,  0.0272,  0.1067,  0.0354, -0.0891,\n",
              "                      -0.0286,  0.0276,  0.0047,  0.3042], device='cuda:0')),\n",
              "             ('fcs.2.weight',\n",
              "              tensor([[ 1.3439e-01, -6.0836e-02,  4.2089e-02,  2.7733e-02, -4.4600e-01,\n",
              "                       -6.8947e-01,  1.6883e-01,  1.4828e-01, -1.6527e-01, -3.8351e-02,\n",
              "                        8.6190e-02, -9.0666e-01,  3.7557e-02, -5.6308e-02,  2.1199e-01,\n",
              "                       -2.1332e-02,  1.6217e-01,  2.6555e-01,  3.1224e-01, -2.2599e-01,\n",
              "                       -3.0999e-01,  1.5136e-01,  8.0056e-02,  1.2815e-01,  6.4460e-02,\n",
              "                       -1.8719e-01, -3.4786e-01,  3.2941e-02, -3.3963e-01,  1.3938e-01,\n",
              "                        1.5552e-01,  1.2900e-01,  6.5368e-03, -4.4161e-01, -8.9154e-02,\n",
              "                        1.5795e-01, -2.0584e-02, -3.4038e-01,  1.9815e-01,  1.3680e-01,\n",
              "                       -4.3527e-01,  5.4914e-02, -5.5036e-01, -3.6705e-01,  1.9727e-01,\n",
              "                        4.2167e-02,  1.5164e-01,  7.8483e-02, -9.9790e-02,  5.3502e-02,\n",
              "                       -5.4424e-01, -3.6006e-01, -2.9789e-01, -8.1589e-02,  3.0536e-02,\n",
              "                        1.6994e-01, -7.0449e-02, -2.0807e-01,  9.5542e-04,  1.3545e-01,\n",
              "                       -3.8438e-02, -9.8260e-02,  7.9249e-02, -1.3578e-01,  1.2268e-01,\n",
              "                       -3.4775e-02, -4.3907e-01,  1.8415e-01, -3.5123e-01,  1.3640e-01,\n",
              "                        5.9881e-02,  2.3435e-01,  3.4243e-02, -4.4534e-01, -7.8192e-01,\n",
              "                        6.7214e-02, -8.1424e-01,  6.4127e-02, -9.1527e-02, -5.1988e-01,\n",
              "                       -5.9529e-01,  7.7800e-02,  2.0837e-01,  7.2562e-02,  8.2508e-02,\n",
              "                       -4.7715e-01,  1.3044e-01, -4.5635e-03,  6.1545e-02,  1.2723e-01,\n",
              "                       -4.1046e-03, -1.4777e-01, -3.7374e-02,  3.0571e-03, -1.8505e-01,\n",
              "                        5.2357e-02,  1.2003e-01,  1.6725e-01,  1.6578e-03,  1.9360e-01],\n",
              "                      [ 4.1310e-01, -1.9573e-01, -1.3516e-01,  2.3075e-01,  1.0256e-01,\n",
              "                        1.1023e-01, -1.9762e-01,  2.6904e-01, -4.0285e-01,  9.2405e-02,\n",
              "                       -3.1643e-01, -3.1665e-01,  6.9360e-02, -7.8094e-02,  8.7219e-02,\n",
              "                        2.9141e-01, -3.1173e-01,  7.0232e-02,  5.3232e-01,  1.3721e-01,\n",
              "                        1.0352e-01,  2.5988e-01, -3.0812e-01, -2.8745e-01, -1.4154e-01,\n",
              "                        5.6309e-01, -9.5521e-02,  1.5274e-01,  2.4565e-01, -2.8987e-01,\n",
              "                       -2.2241e-01, -2.4168e-01, -6.0135e-02,  1.5040e-01,  1.8695e-02,\n",
              "                       -5.0485e-02, -3.5649e-02, -6.0948e-01, -1.2072e-01, -3.9184e-01,\n",
              "                        2.0812e-01, -1.2357e-01,  8.1376e-02, -1.2080e-01, -1.3050e-01,\n",
              "                        1.7583e-01, -2.2030e-01,  2.1662e-01, -2.6504e-02, -3.0968e-01,\n",
              "                       -8.4811e-02, -7.7791e-02,  3.4242e-01,  1.2434e-01,  2.0698e-02,\n",
              "                        1.4813e-01,  7.6695e-02,  1.2006e-01, -2.6329e-01, -1.6022e-01,\n",
              "                       -3.2020e-03, -4.5728e-02,  2.4179e-01, -1.8263e-01, -3.7919e-01,\n",
              "                        6.8832e-02, -1.3032e-01, -3.5107e-01,  1.5994e-01, -4.0933e-01,\n",
              "                       -3.5499e-01, -2.1212e-02, -2.9063e-01, -5.7754e-03, -1.6490e-01,\n",
              "                       -1.0540e-01,  6.8236e-03, -2.7676e-01,  1.5820e-01,  1.5255e-01,\n",
              "                        5.7499e-01, -2.5113e-01,  2.2924e-01, -2.3578e-01,  1.5709e-01,\n",
              "                        1.8107e-01,  1.1679e-01,  1.2681e-02,  1.4836e-01, -2.5051e-01,\n",
              "                       -1.8043e-01, -6.7716e-02,  2.3339e-01,  1.0855e-01, -3.2873e-01,\n",
              "                       -2.6535e-01, -4.7522e-01, -2.5706e-01, -5.8536e-01,  1.6656e-01],\n",
              "                      [ 2.2469e-02, -6.1786e-01,  2.3969e-01,  8.1707e-02, -1.3047e-01,\n",
              "                       -2.2844e-02, -3.7400e-01, -2.8758e-01, -1.1174e-01, -3.8220e-01,\n",
              "                        9.5676e-02, -3.7330e-01, -6.1372e-02,  5.8642e-02, -1.1348e-01,\n",
              "                        1.3869e-01, -1.0471e-01,  1.8883e-01, -1.1282e-01,  1.4655e-01,\n",
              "                        2.1780e-01,  4.5074e-02, -1.5673e-01,  5.1462e-02,  1.2523e-01,\n",
              "                       -5.8668e-04,  1.5111e-02, -7.2730e-02,  1.9672e-01,  5.4970e-02,\n",
              "                       -1.0424e-01,  7.0071e-02, -2.0699e-01, -4.1150e-02, -1.0671e-02,\n",
              "                        1.9679e-01, -4.6472e-02,  2.7030e-01,  2.4819e-01, -2.1008e-01,\n",
              "                        7.9047e-02,  1.1551e-01, -7.8223e-02, -5.4852e-02, -2.8922e-01,\n",
              "                        1.7033e-01,  6.4989e-02,  1.8455e-01,  7.6135e-02, -6.4440e-03,\n",
              "                        2.2100e-01,  1.3011e-01, -5.6146e-01, -7.9501e-03,  3.4170e-01,\n",
              "                        1.8301e-01,  5.6080e-02, -7.5728e-02, -2.0089e-01, -1.4967e-01,\n",
              "                       -8.7068e-03,  5.7562e-02,  2.0600e-01, -5.9034e-01,  1.9898e-01,\n",
              "                       -4.3720e-01,  3.8410e-01,  1.2174e-01,  2.5682e-01,  8.4364e-02,\n",
              "                       -1.0159e-01,  3.3436e-02,  3.2526e-01, -1.0039e-01, -3.2638e-01,\n",
              "                       -2.7086e-01,  2.8524e-01,  6.9505e-02,  6.8265e-02,  3.6275e-01,\n",
              "                       -2.7649e-01,  1.0319e-01,  1.7168e-01,  1.7391e-02,  1.8067e-01,\n",
              "                       -5.9243e-01,  5.1277e-03, -2.0211e-02, -7.6858e-01, -1.3746e-01,\n",
              "                        6.1451e-02,  1.3216e-02, -5.1095e-02, -6.0216e-03,  1.6620e-02,\n",
              "                        3.2035e-02, -3.1941e-02,  2.9513e-01,  1.3090e-03,  1.6631e-01],\n",
              "                      [ 3.3752e-03,  2.0015e-01,  9.4890e-02,  1.5410e-01,  9.3719e-02,\n",
              "                        7.7618e-02, -2.6026e-01,  2.9734e-01, -1.8851e-01,  1.6441e-02,\n",
              "                        6.6805e-02,  4.3828e-01, -1.8256e-02, -5.8070e-02, -1.7793e-01,\n",
              "                        1.2127e-01,  7.1667e-02, -2.2219e-01, -3.5424e-01,  2.4966e-01,\n",
              "                       -2.4006e-01, -2.4928e-01, -7.4016e-02, -1.9832e-01,  1.3985e-01,\n",
              "                        2.9808e-01,  1.2078e-01, -3.4041e-01,  1.8726e-01,  4.1692e-02,\n",
              "                        1.3663e-01, -2.1502e-01,  3.1371e-01,  1.9184e-01,  5.3414e-02,\n",
              "                       -4.1144e-01,  4.5016e-02, -2.2674e-01,  1.3813e-01,  2.7086e-01,\n",
              "                       -1.5351e-01,  2.1842e-02,  5.8741e-02, -3.1346e-01, -5.8136e-02,\n",
              "                        3.6775e-02, -1.3937e-02, -8.0807e-01,  1.2561e-01,  7.6118e-02,\n",
              "                       -4.2238e-01,  2.6231e-01, -4.9795e-01, -1.4568e-02, -2.2491e-01,\n",
              "                       -1.6859e-02,  8.7003e-02,  9.0763e-02,  9.9638e-02,  6.2940e-02,\n",
              "                       -8.9618e-02,  1.4030e-02, -3.2641e-01,  9.5615e-02,  7.7350e-02,\n",
              "                       -3.8855e-01, -1.6019e-01, -8.9774e-02, -9.1617e-02,  2.3877e-02,\n",
              "                        1.3999e-02,  1.0381e-01,  3.2459e-01, -2.7835e-01,  1.8798e-01,\n",
              "                       -5.2486e-01, -3.8519e-02, -4.4091e-01,  7.1108e-02, -1.3767e-01,\n",
              "                        2.2110e-01,  2.6280e-02,  7.6406e-02, -2.4520e-02, -1.6346e-01,\n",
              "                       -2.8284e-01,  1.4166e-02, -6.0820e-02, -3.5536e-01,  5.3294e-02,\n",
              "                        8.4282e-02, -1.2343e-01, -2.4873e-01, -8.8901e-02,  4.9033e-02,\n",
              "                       -4.8954e-02, -2.6864e-02, -1.4239e-02, -1.9719e-01,  4.1009e-02],\n",
              "                      [ 1.6279e-01,  9.2995e-02, -1.1562e+00, -5.5475e-01,  7.4942e-02,\n",
              "                        1.4616e-01, -1.7394e-01, -5.2849e-01, -5.8313e-01,  9.8431e-02,\n",
              "                        7.7480e-02,  1.3798e-01, -9.1178e-02, -5.6757e-02, -3.2776e-01,\n",
              "                        2.4443e-01, -7.0400e-01, -3.3733e-01, -6.7835e-01, -4.5683e-01,\n",
              "                        5.1272e-02,  9.5576e-02,  7.3789e-02,  2.3468e-01, -3.0196e-01,\n",
              "                        3.9260e-01,  1.6364e-01,  3.2322e-02,  2.2439e-01,  6.8904e-02,\n",
              "                       -1.7585e-01,  1.1059e-01, -3.0251e-01, -5.1484e-01, -6.8491e-02,\n",
              "                        4.2239e-01,  4.4757e-02,  2.8562e-01, -2.6374e-01, -6.7292e-01,\n",
              "                        9.1693e-02, -4.7221e-02,  6.4690e-02,  1.3858e-01,  6.2953e-02,\n",
              "                       -4.6070e-01, -2.9280e-01,  2.2921e-01, -1.2652e-01,  1.0964e-01,\n",
              "                        8.7483e-02, -6.1634e-01,  8.5847e-02, -1.1445e-01,  1.7528e-01,\n",
              "                       -2.3643e-02,  5.8650e-02,  1.8723e-01,  6.6379e-02,  9.4695e-02,\n",
              "                        8.4827e-02, -6.7017e-02,  1.9344e-02, -1.1163e-01, -1.8949e-02,\n",
              "                        2.7019e-01, -1.6923e-01, -2.0409e-01, -9.2074e-02, -4.8389e-01,\n",
              "                        7.8211e-02, -4.6050e-01, -7.2784e-02,  2.0541e-01,  8.8923e-02,\n",
              "                        3.3307e-01, -6.0375e-01,  1.2088e-01, -1.4488e-01,  1.6118e-01,\n",
              "                       -3.1863e-01, -4.2165e-01,  1.4124e-01,  1.6126e-01, -1.3434e-01,\n",
              "                        2.1797e-01, -3.0558e-01, -1.1668e-02, -1.6786e-01,  8.0702e-02,\n",
              "                       -1.9975e-01,  7.4685e-02,  9.8012e-02, -3.7520e-01,  1.3038e-01,\n",
              "                       -2.8512e-02,  5.3913e-02, -5.5529e-01,  1.0162e-01,  1.8188e-01],\n",
              "                      [-2.0789e-01, -1.4906e-01, -1.0007e-01, -6.1540e-02,  3.7307e-03,\n",
              "                        1.6003e-01,  7.5205e-03,  1.8950e-01,  5.8228e-01,  2.0625e-02,\n",
              "                        6.6888e-02,  3.7391e-01,  4.3301e-02,  6.6219e-02,  9.0851e-04,\n",
              "                       -3.2344e-01,  2.1741e-01, -5.0184e-01,  3.3213e-01, -2.3065e-01,\n",
              "                       -3.0848e-01, -3.4963e-01,  7.1991e-02,  1.7573e-01,  1.7629e-01,\n",
              "                       -8.0896e-01,  1.1114e-01,  8.1697e-02, -6.4366e-01,  1.0140e-01,\n",
              "                        1.8126e-01, -5.0120e-02,  1.1021e-01,  2.7625e-01, -9.1603e-02,\n",
              "                       -5.6025e-01,  4.7403e-02, -2.2646e-01, -4.3399e-01,  1.9638e-01,\n",
              "                       -6.7459e-01,  7.7379e-02,  8.1484e-02,  1.3193e-01, -1.3764e-01,\n",
              "                        1.2326e-01,  5.1529e-02, -1.0410e-01, -4.6352e-03,  8.3716e-02,\n",
              "                        1.1910e-01,  2.0232e-01,  1.2575e-01, -6.9476e-02,  5.9959e-02,\n",
              "                       -7.4309e-01,  6.2829e-02, -3.4272e-01, -6.8049e-02, -2.0068e-02,\n",
              "                        9.9862e-02,  6.3872e-02, -1.9961e-01,  2.4014e-01, -2.1093e-02,\n",
              "                        7.3876e-02,  2.1002e-01,  1.0803e-01,  9.2055e-02, -3.0526e-01,\n",
              "                        1.1282e-01, -1.4701e-01, -3.3309e-02,  8.8135e-02,  1.6105e-01,\n",
              "                        2.1793e-01,  3.7297e-01,  6.1401e-02,  5.1790e-02, -2.6756e-01,\n",
              "                        3.5375e-01, -2.8833e-02, -1.1796e-01, -5.4332e-02, -1.8051e-01,\n",
              "                        1.4985e-01, -7.5351e-02, -6.6192e-03,  4.2605e-01,  5.7014e-02,\n",
              "                       -4.7792e-02, -1.0042e-01, -2.1624e-01,  8.1455e-02, -1.7712e-02,\n",
              "                       -2.7544e-01, -1.7833e-01,  5.4517e-02,  2.2571e-01,  6.4084e-02],\n",
              "                      [ 1.1995e-01, -3.7408e-01, -2.5634e-01, -4.3881e-01,  8.5088e-03,\n",
              "                       -4.9531e-01,  4.3138e-01, -1.1898e-01,  1.8862e-01,  8.6868e-02,\n",
              "                        1.7926e-01, -7.9085e-01, -5.5947e-02,  6.4555e-02,  1.5237e-01,\n",
              "                        1.0685e-01,  2.1373e-01,  1.1662e-01,  1.4025e-01, -1.4185e-01,\n",
              "                       -8.8249e-02,  3.8219e-01, -1.0189e-01,  1.4751e-01, -6.7298e-01,\n",
              "                       -3.2948e-01, -2.2741e-01, -3.3187e-01, -7.2988e-01,  9.0090e-02,\n",
              "                       -3.7570e-01,  9.8863e-02,  1.9896e-01,  1.3081e-01, -3.2820e-03,\n",
              "                       -2.6725e-01, -6.3420e-02,  9.9240e-02, -9.4968e-02,  5.6519e-02,\n",
              "                        3.6894e-01,  1.0930e-01,  4.3608e-02, -1.1947e-01,  1.3934e-01,\n",
              "                        4.1624e-02,  1.0689e-01, -5.9561e-02, -5.3502e-01, -3.3361e-01,\n",
              "                        2.5810e-01, -3.6948e-01,  3.7094e-01, -8.2832e-02,  3.3947e-03,\n",
              "                       -2.8188e-02, -4.8283e-02, -4.4902e-01, -5.0449e-02, -3.6115e-02,\n",
              "                       -5.7809e-02,  8.4200e-03,  4.4722e-02, -3.0573e-02, -1.9905e-01,\n",
              "                        1.1917e-01,  1.4083e-01, -5.1888e-01,  9.3469e-02,  1.2047e-01,\n",
              "                        1.2002e-01, -7.0025e-02,  2.1235e-01,  7.8200e-02, -5.3776e-01,\n",
              "                        1.6318e-01, -1.1727e-01,  1.4899e-01,  1.1936e-01, -4.4370e-01,\n",
              "                       -8.0974e-01, -3.9732e-01,  2.6017e-02,  1.0037e-01,  8.0960e-02,\n",
              "                       -4.4312e-01,  9.6448e-02, -8.6772e-02,  1.7480e-01, -1.1695e-01,\n",
              "                        6.5806e-03,  2.1270e-01, -6.4452e-01,  2.5743e-01,  7.9406e-02,\n",
              "                       -8.2831e-03,  1.0566e-01, -3.6140e-02,  1.9040e-01,  2.1108e-02],\n",
              "                      [ 3.1715e-01,  1.1477e-02,  2.3465e-01,  2.2871e-02,  6.9010e-02,\n",
              "                       -4.4922e-02, -3.8043e-01,  1.2566e-01,  4.1665e-01,  1.0037e-01,\n",
              "                       -2.9976e-01, -2.1729e-01, -2.1268e-01, -1.0149e-01,  8.5854e-02,\n",
              "                        2.9801e-02, -5.9907e-01,  6.2624e-03,  2.9102e-01,  2.1759e-01,\n",
              "                        1.0322e-01,  3.3003e-01, -5.8545e-02,  3.4603e-01,  1.2103e-01,\n",
              "                        7.7966e-02, -4.3073e-01, -1.4514e-01, -3.7633e-02, -6.1946e-01,\n",
              "                        1.3752e-01, -8.0938e-02, -3.3672e-01, -1.2748e-01, -6.2870e-02,\n",
              "                        2.0980e-01, -5.8877e-02,  3.6787e-02,  2.0461e-01,  2.7512e-03,\n",
              "                        1.3952e-01, -1.7073e-01, -2.5074e-01,  1.1783e-01,  6.9572e-02,\n",
              "                       -4.8746e-01, -2.7834e-01,  2.2391e-01,  5.1259e-02, -5.5888e-01,\n",
              "                       -4.2496e-01,  2.7513e-01, -4.9786e-02, -2.5197e-01, -5.1992e-01,\n",
              "                       -1.2677e-01,  1.0613e-03,  7.6167e-02,  5.6084e-02, -9.7182e-02,\n",
              "                       -8.5400e-02, -6.6493e-02,  4.2496e-02,  3.1096e-02,  1.7366e-01,\n",
              "                       -1.6053e-01,  1.5977e-01,  1.1384e-01, -1.1645e-01,  7.0907e-02,\n",
              "                       -1.4856e-01, -2.5308e-01,  2.8956e-01,  3.1360e-01, -1.3491e-01,\n",
              "                        2.7968e-01,  5.8220e-01, -1.0018e-01, -2.8941e-01,  1.9289e-01,\n",
              "                       -3.8362e-02, -6.4651e-02, -1.6360e-01, -3.7860e-01,  1.1606e-01,\n",
              "                        2.0165e-01, -5.2740e-01, -2.2019e-02, -2.1969e-01, -5.4812e-02,\n",
              "                       -2.0018e-01, -4.3041e-01,  2.4838e-01, -2.1347e-04, -2.9909e-02,\n",
              "                        1.4056e-01,  3.5536e-02,  1.4077e-01, -3.4652e-01,  3.7720e-01],\n",
              "                      [-3.9385e-01,  5.5728e-02,  6.0048e-02, -5.1098e-02,  2.2689e-01,\n",
              "                        4.8006e-02, -9.3624e-02, -3.1626e-01, -1.3470e-02,  8.7326e-02,\n",
              "                        6.8727e-02, -2.7508e-01,  6.0380e-02, -8.3331e-02, -1.8512e-01,\n",
              "                       -4.1822e-02,  3.4621e-02,  1.8457e-01, -6.3442e-01, -5.7952e-02,\n",
              "                        1.5447e-02, -5.5829e-01,  7.9515e-02, -2.4102e-01, -2.8626e-02,\n",
              "                       -3.4219e-01,  1.1653e-01,  1.6677e-02,  2.6181e-02, -6.8332e-02,\n",
              "                        1.4365e-01,  2.0105e-01, -2.4644e-01, -1.0165e-01, -6.3747e-02,\n",
              "                       -7.5165e-02,  1.5952e-02, -7.4313e-01, -3.9981e-01, -8.3050e-02,\n",
              "                        1.6992e-01,  1.1766e-01,  1.4748e-01,  2.4342e-01, -3.6164e-02,\n",
              "                       -1.2234e-02,  4.7040e-02, -4.0032e-02,  1.5102e-01,  4.0107e-02,\n",
              "                       -2.8906e-01, -3.5914e-02, -2.4265e-01,  1.8495e-01, -5.9747e-01,\n",
              "                       -1.5833e-01,  3.3040e-02,  1.7487e-01,  1.5792e-01,  4.8355e-02,\n",
              "                       -9.8598e-03, -3.8253e-02,  2.3163e-01,  1.5640e-01, -7.4671e-01,\n",
              "                        2.5157e-01,  2.1128e-01,  7.1938e-02,  1.2108e-01, -4.7398e-02,\n",
              "                        1.0161e-01,  2.0658e-01, -5.3348e-01, -3.0642e-01, -2.7774e-03,\n",
              "                       -3.3051e-01, -3.5577e-01,  2.1893e-01,  1.1567e-01,  9.0755e-02,\n",
              "                       -7.4051e-01,  2.3929e-02, -5.9460e-01, -1.7604e-03,  6.3043e-02,\n",
              "                       -2.1132e-02,  5.0043e-02,  1.1485e-02, -4.4886e-02,  1.5851e-01,\n",
              "                        9.2966e-02,  1.7060e-01, -3.2067e-01, -2.4890e-02,  1.2777e-01,\n",
              "                        9.1944e-02,  2.1880e-02, -7.2833e-02,  2.5968e-01, -5.5839e-01],\n",
              "                      [-5.1288e-01,  2.2737e-01, -1.2910e-01,  1.6595e-01, -2.0243e-01,\n",
              "                        2.0471e-01,  3.5064e-01, -3.7550e-02, -2.7439e-01,  5.8649e-02,\n",
              "                       -3.4688e-01,  1.8192e-01, -1.5359e-01, -1.1105e-02,  2.1816e-01,\n",
              "                       -6.9367e-01,  7.2757e-02, -1.7845e-01, -4.3710e-01, -8.7589e-01,\n",
              "                        2.2975e-01, -4.6473e-01,  6.1468e-02, -5.4255e-01, -5.2313e-02,\n",
              "                       -5.9179e-02, -9.3364e-02,  3.5798e-02,  1.6820e-01, -4.9107e-01,\n",
              "                        1.1072e-01,  8.1331e-02, -4.6680e-01, -1.0250e-01, -3.5486e-02,\n",
              "                        8.4134e-02, -3.2039e-02,  2.6972e-01,  1.0795e-01,  5.4438e-02,\n",
              "                       -8.0092e-02,  1.1492e-01,  2.5020e-02,  1.1363e-01,  5.7410e-02,\n",
              "                       -2.5966e-01,  6.2139e-02,  1.7625e-01,  1.3440e-01, -9.0211e-02,\n",
              "                        2.5776e-01, -1.0232e-01, -2.0795e-02,  3.4533e-02,  1.5152e-01,\n",
              "                        2.0374e-01, -2.2621e-02,  9.0557e-02,  7.4985e-02,  6.9255e-02,\n",
              "                       -8.2274e-02,  8.4552e-02, -5.7476e-01,  1.8067e-01,  2.5778e-01,\n",
              "                       -6.6411e-02, -7.1752e-01,  1.6905e-01, -5.1358e-01,  1.6074e-01,\n",
              "                       -1.8282e-02,  2.2128e-01, -6.8112e-01,  1.4002e-02,  2.9375e-01,\n",
              "                        4.1698e-02, -7.8711e-01, -2.8583e-01, -1.1327e-01, -1.6589e-01,\n",
              "                        8.5986e-02,  1.1133e-01,  3.3917e-02, -6.5830e-02, -3.4314e-01,\n",
              "                        1.1574e-01, -1.2500e-02,  3.8201e-02,  2.4515e-01, -7.5548e-02,\n",
              "                       -6.1805e-02,  1.1757e-01,  9.0353e-02, -1.8719e-01,  3.1540e-02,\n",
              "                        1.8918e-01,  9.7513e-02, -2.4067e-01,  1.2602e-02, -3.0746e-01]],\n",
              "                     device='cuda:0')),\n",
              "             ('fcs.2.bias',\n",
              "              tensor([-0.0360,  0.1137, -0.1265, -0.0839,  0.0751,  0.0498, -0.0408,  0.1047,\n",
              "                       0.0245, -0.0052], device='cuda:0'))])"
            ]
          },
          "metadata": {},
          "execution_count": 22
        }
      ]
    },
    {
      "cell_type": "code",
      "source": [
        "save_model_path = \"/content/drive/MyDrive/Colab Notebooks/results/MLP.pt\"\n",
        "torch.save(model.state_dict(), save_model_path)"
      ],
      "metadata": {
        "id": "hHgMXlX-fnV1"
      },
      "execution_count": 23,
      "outputs": []
    },
    {
      "cell_type": "code",
      "source": [
        "load_model = MLP().to(DEVICE)\n",
        "load_model.load_state_dict(torch.load(save_model_path, map_location=DEVICE))\n",
        "# map_location 있어야 GPU로 학습했던거 현재 DEVICE로 불러올 수 있음"
      ],
      "metadata": {
        "colab": {
          "base_uri": "https://localhost:8080/"
        },
        "id": "0DapLTlfiL7M",
        "outputId": "fafc8101-fe12-4eae-a23e-3aa4d65e2ce0"
      },
      "execution_count": 24,
      "outputs": [
        {
          "output_type": "execute_result",
          "data": {
            "text/plain": [
              "<All keys matched successfully>"
            ]
          },
          "metadata": {},
          "execution_count": 24
        }
      ]
    },
    {
      "cell_type": "markdown",
      "source": [
        "## 모델 테스트하기"
      ],
      "metadata": {
        "id": "KK9ZVJYhjWCW"
      }
    },
    {
      "cell_type": "code",
      "source": [
        "def Test(model, test_DL):\n",
        "  model.eval() # test mode로 전환\n",
        "  with torch.no_grad():\n",
        "    rcorrect = 0\n",
        "    for x_batch, y_batch in test_DL:\n",
        "      x_batch = x_batch.to(DEVICE)\n",
        "      y_batch = y_batch.to(DEVICE)\n",
        "      # inference\n",
        "      y_hat = model(x_batch)\n",
        "      # corrects accumulation\n",
        "      pred = y_hat.argmax(dim=1)\n",
        "      corrects_b = torch.sum(pred==y_batch).item() # torch.eq(pred, y_batch)\n",
        "      rcorrect += corrects_b\n",
        "    accuracy_e  =rcorrect/len(test_DL.dataset)*100\n",
        "  print(f\"Test accuracy: {rcorrect}/{len(test_DL.dataset)} ({accuracy_e:.1f} %)\")\n",
        "  return round(accuracy_e,1)"
      ],
      "metadata": {
        "id": "qSzOsybojMqS"
      },
      "execution_count": 32,
      "outputs": []
    },
    {
      "cell_type": "code",
      "source": [
        "Test(load_model, test_DL)"
      ],
      "metadata": {
        "colab": {
          "base_uri": "https://localhost:8080/"
        },
        "id": "oStt4_Y0jg_P",
        "outputId": "87131c7b-b809-4103-e2e5-eb9b4a906809"
      },
      "execution_count": 33,
      "outputs": [
        {
          "output_type": "stream",
          "name": "stdout",
          "text": [
            "Test accuracy: 9770/10000 (97.7 %)\n"
          ]
        },
        {
          "output_type": "execute_result",
          "data": {
            "text/plain": [
              "97.7"
            ]
          },
          "metadata": {},
          "execution_count": 33
        }
      ]
    },
    {
      "cell_type": "code",
      "source": [
        "def Test_plot(model, test_DL):\n",
        "  model.eval()\n",
        "  with torch.no_grad():\n",
        "    x_batch, y_batch = next(iter(test_DL))\n",
        "    x_batch = x_batch.to(DEVICE)\n",
        "    y_hat = model(x_batch)\n",
        "    pred = y_hat.argmax(dim=1)\n",
        "\n",
        "  x_batch = x_batch.to(\"cpu\")\n",
        "  plt.figure(figsize=(8,4))\n",
        "  for idx in range(6):\n",
        "    plt.subplot(2,3, idx+1, xticks=[], yticks=[])\n",
        "    plt.imshow(x_batch[idx].permute(1,2,0).squeeze(), cmap=\"gray\")\n",
        "    pred_class = test_DL.dataset.classes[pred[idx]]\n",
        "    true_class = test_DL.dataset.classes[y_batch[idx]]\n",
        "    plt.title(f\"{pred_class} ({true_class})\", color=\"g\" if pred_class==False else \"r\")"
      ],
      "metadata": {
        "id": "bG3a3cuGQvdG"
      },
      "execution_count": 37,
      "outputs": []
    },
    {
      "cell_type": "code",
      "source": [
        "Test_plot(load_model, test_DL)"
      ],
      "metadata": {
        "colab": {
          "base_uri": "https://localhost:8080/",
          "height": 367
        },
        "id": "A9hfaChwSBgW",
        "outputId": "34787cbc-f6c6-4216-fb97-5cf492d101d7"
      },
      "execution_count": 38,
      "outputs": [
        {
          "output_type": "display_data",
          "data": {
            "text/plain": [
              "<Figure size 800x400 with 6 Axes>"
            ],
            "image/png": "[encoded data removed]"
          },
          "metadata": {}
        }
      ]
    },
    {
      "cell_type": "code",
      "source": [
        "# 파라미터 수 구하기\n",
        "def count_params(model):\n",
        "  num = sum([p.numel() for p in model.parameters() if p.requires_grad])\n",
        "  return num"
      ],
      "metadata": {
        "id": "cpOmxU0ESXbI"
      },
      "execution_count": 39,
      "outputs": []
    },
    {
      "cell_type": "code",
      "source": [
        "print(count_params(load_model))"
      ],
      "metadata": {
        "colab": {
          "base_uri": "https://localhost:8080/"
        },
        "id": "GMM96ER0S5Eh",
        "outputId": "b6c4d0e8-35e2-460c-8b4f-ce66e1ccd6f1"
      },
      "execution_count": 40,
      "outputs": [
        {
          "output_type": "stream",
          "name": "stdout",
          "text": [
            "79510\n"
          ]
        }
      ]
    },
    {
      "cell_type": "code",
      "source": [
        "def get_conf(model, test_DL):\n",
        "  N = len(test_DL.dataset.classes)\n",
        "  model.eval()\n",
        "  with torch.no_grad():\n",
        "    confusion = torch.zeros(N,N)\n",
        "    for x_batch, y_batch in test_DL:\n",
        "      x_batch = x_batch.to(DEVICE)\n",
        "      y_batch = y_batch.to(DEVICE)\n",
        "      # inference\n",
        "      y_hat = model(x_batch)\n",
        "      # accuracy\n",
        "      pred = y_hat.argmax(dim=1)\n",
        "      confusion += torch.bincount(N * y_batch.cpu() + pred.cpu(), minlength=N**2).reshape(N,N)\n",
        "      # confusion matrix는 무조건 10*10이 되어야 하는데 만약 마지막 label에 대해 예측을 모두 실패하면 100개보다\n",
        "\n",
        "  confusion = confusion.numpy()\n",
        "  return confusion"
      ],
      "metadata": {
        "id": "1bdDWPfIS7NO"
      },
      "execution_count": 42,
      "outputs": []
    },
    {
      "cell_type": "code",
      "source": [
        "confusion = get_conf(load_model, test_DL)\n",
        "plt.imshow(confusion)"
      ],
      "metadata": {
        "colab": {
          "base_uri": "https://localhost:8080/",
          "height": 447
        },
        "id": "oMZgq9meTXvE",
        "outputId": "7fc6b005-d26c-455d-e58a-5e74e95e0bae"
      },
      "execution_count": 43,
      "outputs": [
        {
          "output_type": "execute_result",
          "data": {
            "text/plain": [
              "<matplotlib.image.AxesImage at 0x7a224f60ea90>"
            ]
          },
          "metadata": {},
          "execution_count": 43
        },
        {
          "output_type": "display_data",
          "data": {
            "text/plain": [
              "<Figure size 640x480 with 1 Axes>"
            ],
            "image/png": "[encoded data removed]"
          },
          "metadata": {}
        }
      ]
    },
    {
      "cell_type": "code",
      "source": [
        "import numpy as np\n",
        "\n",
        "def plot_confusion_matrix(confusion, classes=None):\n",
        "  N = confusion.shape[0]\n",
        "  accuracy=np.trace(confusion)/np.sum(confusion)*100\n",
        "\n",
        "  # confusion = confusion/np.sum(confusion, axis=1)\n",
        "  plt.figure(figsize=(10,7))\n",
        "  plt.imshow(confusion, cmap=\"Blues\")\n",
        "  plt.title(\"confusion matrix\")\n",
        "  plt.colorbar()\n",
        "\n",
        "  for i in range(N):\n",
        "    for j in range(N):\n",
        "      plt.text(j,i, round(confusion[i,j]),\n",
        "               horizontalalignment=\"center\", fontsize=10,\n",
        "               color=\"white\" if confusion[i,j] > np.max(confusion) / 1.5 else \"black\")\n",
        "\n",
        "  if classes is not None:\n",
        "    plt.xticks(range(N), classes)\n",
        "    plt.yticks(range(N), classes)\n",
        "  else:\n",
        "    plt.xticks(range(N))\n",
        "    plt.yticks(range(N))\n",
        "\n",
        "  plt.xlabel(f\"Predicted label \\n accuracy ={accuracy:.1f} %\")\n",
        "  plt.ylabel(\"True label\")"
      ],
      "metadata": {
        "id": "pL7mBP2eUQVQ"
      },
      "execution_count": 44,
      "outputs": []
    },
    {
      "cell_type": "code",
      "source": [
        "confusion = get_conf(load_model, test_DL)\n",
        "plot_confusion_matrix(confusion, test_DL.dataset.classes)\n",
        "plt.xticks(rotation=45)"
      ],
      "metadata": {
        "colab": {
          "base_uri": "https://localhost:8080/",
          "height": 889
        },
        "id": "wQzvarfYVqsN",
        "outputId": "5e902caa-4464-44b4-e4de-acbc71a0dc53"
      },
      "execution_count": 46,
      "outputs": [
        {
          "output_type": "execute_result",
          "data": {
            "text/plain": [
              "(array([0, 1, 2, 3, 4, 5, 6, 7, 8, 9]),\n",
              " [Text(0, 0, '0 - zero'),\n",
              "  Text(1, 0, '1 - one'),\n",
              "  Text(2, 0, '2 - two'),\n",
              "  Text(3, 0, '3 - three'),\n",
              "  Text(4, 0, '4 - four'),\n",
              "  Text(5, 0, '5 - five'),\n",
              "  Text(6, 0, '6 - six'),\n",
              "  Text(7, 0, '7 - seven'),\n",
              "  Text(8, 0, '8 - eight'),\n",
              "  Text(9, 0, '9 - nine')])"
            ]
          },
          "metadata": {},
          "execution_count": 46
        },
        {
          "output_type": "display_data",
          "data": {
            "text/plain": [
              "<Figure size 1000x700 with 2 Axes>"
            ],
            "image/png": "[encoded data removed]"
          },
          "metadata": {}
        }
      ]
    },
    {
      "cell_type": "code",
      "source": [],
      "metadata": {
        "id": "FgnBZGZaV6Cy"
      },
      "execution_count": null,
      "outputs": []
    }
  ]
}