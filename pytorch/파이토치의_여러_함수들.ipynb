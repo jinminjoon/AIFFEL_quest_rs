{
  "nbformat": 4,
  "nbformat_minor": 0,
  "metadata": {
    "colab": {
      "provenance": []
    },
    "kernelspec": {
      "name": "python3",
      "display_name": "Python 3"
    },
    "language_info": {
      "name": "python"
    }
  },
  "cells": [
    {
      "cell_type": "markdown",
      "source": [
        "## pytorch의 여러 함수들"
      ],
      "metadata": {
        "id": "mtR6evV5Sfto"
      }
    },
    {
      "cell_type": "code",
      "execution_count": 2,
      "metadata": {
        "colab": {
          "base_uri": "https://localhost:8080/"
        },
        "id": "asZ1uoCVSUlX",
        "outputId": "b1fabbb1-7677-4068-d4be-131672a98972"
      },
      "outputs": [
        {
          "output_type": "stream",
          "name": "stdout",
          "text": [
            "tensor([[ 0.5910, -0.3941,  2.1592],\n",
            "        [-2.2214, -0.5378, -0.0987],\n",
            "        [-0.0584, -0.5756, -2.3267]])\n",
            "tensor([[0.4735, 0.7915, 0.5021],\n",
            "        [0.2150, 0.6552, 0.7331],\n",
            "        [0.9446, 0.1125, 0.9754]])\n"
          ]
        }
      ],
      "source": [
        "import torch\n",
        "A=torch.randn(3,3) # Normal의 n\n",
        "B=torch.rand(3,3) # 이건 uniform\n",
        "print(A)\n",
        "print(B)"
      ]
    },
    {
      "cell_type": "code",
      "source": [
        "A=torch.randn(3,3)\n",
        "print(A)\n",
        "print(torch.abs(A))\n",
        "print(torch.sqrt(torch.abs(A)))\n",
        "print(torch.exp(A))\n",
        "print(torch.log(torch.abs(A)))\n",
        "print(torch.log(torch.exp(torch.tensor(1)))) #torch.exp(torch.tensor(1)) = e^1\n",
        "print(torch.log10(torch.tensor(10)))\n",
        "print(torch.log2(torch.tensor(2)))\n",
        "print(torch.round(A)) # 반올림\n",
        "print(torch.round(A,decimals=2)) # 소수점 둘째자리까지\n",
        "print(torch.floor(A)) # 내림\n",
        "print(torch.ceil(A)) # 올림"
      ],
      "metadata": {
        "colab": {
          "base_uri": "https://localhost:8080/"
        },
        "id": "ZEHTZnrZSocu",
        "outputId": "f636b495-1c21-41ce-d3fb-6a48a342ed9a"
      },
      "execution_count": 12,
      "outputs": [
        {
          "output_type": "stream",
          "name": "stdout",
          "text": [
            "tensor([[-0.3299, -0.3710, -0.5799],\n",
            "        [-1.1479, -0.2503,  2.4098],\n",
            "        [ 0.2846,  0.3883, -0.2061]])\n",
            "tensor([[0.3299, 0.3710, 0.5799],\n",
            "        [1.1479, 0.2503, 2.4098],\n",
            "        [0.2846, 0.3883, 0.2061]])\n",
            "tensor([[0.5744, 0.6091, 0.7615],\n",
            "        [1.0714, 0.5003, 1.5523],\n",
            "        [0.5335, 0.6232, 0.4540]])\n",
            "tensor([[ 0.7190,  0.6900,  0.5599],\n",
            "        [ 0.3173,  0.7786, 11.1314],\n",
            "        [ 1.3293,  1.4745,  0.8137]])\n",
            "tensor([[-1.1089, -0.9915, -0.5448],\n",
            "        [ 0.1380, -1.3850,  0.8795],\n",
            "        [-1.2565, -0.9459, -1.5793]])\n",
            "tensor(1.)\n",
            "tensor(1.)\n",
            "tensor(1.)\n",
            "tensor([[-0., -0., -1.],\n",
            "        [-1., -0.,  2.],\n",
            "        [ 0.,  0., -0.]])\n",
            "tensor([[-0.3300, -0.3700, -0.5800],\n",
            "        [-1.1500, -0.2500,  2.4100],\n",
            "        [ 0.2800,  0.3900, -0.2100]])\n",
            "tensor([[-1., -1., -1.],\n",
            "        [-2., -1.,  2.],\n",
            "        [ 0.,  0., -1.]])\n",
            "tensor([[-0., -0., -0.],\n",
            "        [-1., -0.,  3.],\n",
            "        [ 1.,  1., -0.]])\n"
          ]
        }
      ]
    },
    {
      "cell_type": "code",
      "source": [
        "print(torch.sin(torch.tensor(torch.pi/6))) # type(torch.pi) <- float임 만약 tensor와 연산하면 tensor로 바꿔줌\n",
        "print(torch.cos(torch.tensor(torch.pi/3)))\n",
        "print(torch.tan(torch.tensor(torch.pi/4)))\n",
        "type(torch.tensor(1)/6)"
      ],
      "metadata": {
        "colab": {
          "base_uri": "https://localhost:8080/"
        },
        "id": "t4kaTCniS3ao",
        "outputId": "080442e3-44d3-48e5-8ccc-fa870fd0079b"
      },
      "execution_count": 13,
      "outputs": [
        {
          "output_type": "stream",
          "name": "stdout",
          "text": [
            "tensor(0.5000)\n",
            "tensor(0.5000)\n",
            "tensor(1.)\n"
          ]
        },
        {
          "output_type": "execute_result",
          "data": {
            "text/plain": [
              "torch.Tensor"
            ]
          },
          "metadata": {},
          "execution_count": 13
        }
      ]
    },
    {
      "cell_type": "code",
      "source": [
        "torch.nan # not a number\n",
        "print(torch.log(torch.tensor(-1)))\n",
        "print(torch.isnan(torch.tensor([1,2,torch.nan,3,4])))\n",
        "print(torch.isinf(torch.tensor([1,2,3,4,torch.inf])))"
      ],
      "metadata": {
        "colab": {
          "base_uri": "https://localhost:8080/"
        },
        "id": "IOEi5vjrWACB",
        "outputId": "0cfa3773-049a-4bc7-91d5-e6f1079a07cd"
      },
      "execution_count": 17,
      "outputs": [
        {
          "output_type": "stream",
          "name": "stdout",
          "text": [
            "tensor(nan)\n",
            "tensor([False, False,  True, False, False])\n",
            "tensor([False, False, False, False,  True])\n"
          ]
        }
      ]
    },
    {
      "cell_type": "code",
      "source": [
        "A=torch.randn(3,4)\n",
        "print(A)\n",
        "print(torch.max(A))\n",
        "print(torch.max(A,dim=0))\n",
        "print(torch.max(A,dim=1))\n",
        "print(torch.max(A,dim=0, keepdims=True))\n",
        "print(torch.max(A,dim=1, keepdims=True))\n",
        "print(torch.min(A,dim=0))\n",
        "print(torch.min(A,dim=1))\n",
        "print(torch.argmax(A))\n",
        "print(torch.argmax(A,dim=0)) # 각 열에서 가장 큰 애가 존재하는 인덱스\n",
        "print(torch.argmax(A,dim=1)) # 각 행에서 가장 큰 애가 존재하는 인덱스"
      ],
      "metadata": {
        "colab": {
          "base_uri": "https://localhost:8080/"
        },
        "id": "4YGakysTWNIh",
        "outputId": "fc558dc1-96a3-4f8f-8962-557502667967"
      },
      "execution_count": 32,
      "outputs": [
        {
          "output_type": "stream",
          "name": "stdout",
          "text": [
            "tensor([[-1.1538, -1.0885,  0.9943, -1.9872],\n",
            "        [ 0.8381, -1.7978, -0.6919, -0.9166],\n",
            "        [-0.3482, -1.4777, -0.0706,  2.0760]])\n",
            "tensor(2.0760)\n",
            "torch.return_types.max(\n",
            "values=tensor([ 0.8381, -1.0885,  0.9943,  2.0760]),\n",
            "indices=tensor([1, 0, 0, 2]))\n",
            "torch.return_types.max(\n",
            "values=tensor([0.9943, 0.8381, 2.0760]),\n",
            "indices=tensor([2, 0, 3]))\n",
            "torch.return_types.max(\n",
            "values=tensor([[ 0.8381, -1.0885,  0.9943,  2.0760]]),\n",
            "indices=tensor([[1, 0, 0, 2]]))\n",
            "torch.return_types.max(\n",
            "values=tensor([[0.9943],\n",
            "        [0.8381],\n",
            "        [2.0760]]),\n",
            "indices=tensor([[2],\n",
            "        [0],\n",
            "        [3]]))\n",
            "torch.return_types.min(\n",
            "values=tensor([-1.1538, -1.7978, -0.6919, -1.9872]),\n",
            "indices=tensor([0, 1, 1, 0]))\n",
            "torch.return_types.min(\n",
            "values=tensor([-1.9872, -1.7978, -1.4777]),\n",
            "indices=tensor([3, 1, 1]))\n",
            "tensor(11)\n",
            "tensor([1, 0, 0, 2])\n",
            "tensor([2, 0, 3])\n"
          ]
        }
      ]
    },
    {
      "cell_type": "code",
      "source": [
        "a = torch.randn(6,1)\n",
        "print(a)\n",
        "a_sorted=torch.sort(a,dim=0)\n",
        "print(a_sorted)\n",
        "\n",
        "a=torch.randn(6,1)\n",
        "print(a)\n",
        "print(a.sort(dim=0))\n",
        "print(a.sort(dim=0, descending=True))\n",
        "\n",
        "print(torch.max(a))\n",
        "print(a.max())\n",
        "print(torch.abs(a))\n",
        "print(a.abs())"
      ],
      "metadata": {
        "colab": {
          "base_uri": "https://localhost:8080/"
        },
        "id": "u8EMmruBWlsF",
        "outputId": "28c2140c-f802-466d-cc3e-8e6aab6b1f0d"
      },
      "execution_count": 37,
      "outputs": [
        {
          "output_type": "stream",
          "name": "stdout",
          "text": [
            "tensor([[-0.9294],\n",
            "        [-0.9247],\n",
            "        [ 1.0041],\n",
            "        [-0.6959],\n",
            "        [-1.3397],\n",
            "        [ 0.3180]])\n",
            "torch.return_types.sort(\n",
            "values=tensor([[-1.3397],\n",
            "        [-0.9294],\n",
            "        [-0.9247],\n",
            "        [-0.6959],\n",
            "        [ 0.3180],\n",
            "        [ 1.0041]]),\n",
            "indices=tensor([[4],\n",
            "        [0],\n",
            "        [1],\n",
            "        [3],\n",
            "        [5],\n",
            "        [2]]))\n",
            "tensor([[-0.2183],\n",
            "        [ 0.0819],\n",
            "        [ 0.5626],\n",
            "        [-0.8123],\n",
            "        [-0.9496],\n",
            "        [-1.3570]])\n",
            "torch.return_types.sort(\n",
            "values=tensor([[-1.3570],\n",
            "        [-0.9496],\n",
            "        [-0.8123],\n",
            "        [-0.2183],\n",
            "        [ 0.0819],\n",
            "        [ 0.5626]]),\n",
            "indices=tensor([[5],\n",
            "        [4],\n",
            "        [3],\n",
            "        [0],\n",
            "        [1],\n",
            "        [2]]))\n",
            "torch.return_types.sort(\n",
            "values=tensor([[ 0.5626],\n",
            "        [ 0.0819],\n",
            "        [-0.2183],\n",
            "        [-0.8123],\n",
            "        [-0.9496],\n",
            "        [-1.3570]]),\n",
            "indices=tensor([[2],\n",
            "        [1],\n",
            "        [0],\n",
            "        [3],\n",
            "        [4],\n",
            "        [5]]))\n",
            "tensor(0.5626)\n",
            "tensor(0.5626)\n",
            "tensor([[0.2183],\n",
            "        [0.0819],\n",
            "        [0.5626],\n",
            "        [0.8123],\n",
            "        [0.9496],\n",
            "        [1.3570]])\n",
            "tensor([[0.2183],\n",
            "        [0.0819],\n",
            "        [0.5626],\n",
            "        [0.8123],\n",
            "        [0.9496],\n",
            "        [1.3570]])\n"
          ]
        }
      ]
    },
    {
      "cell_type": "code",
      "source": [
        "A=torch.randn(3,4)\n",
        "print(A)\n",
        "print(torch.sum(A))\n",
        "print(torch.sum(A,dim=1))\n",
        "print(torch.sum(A,dim=1,keepdims=True))\n",
        "print(torch.mean(A))\n",
        "print(torch.mean(A,dim=1))\n",
        "print(torch.mean(A,dim=1,keepdims=True))\n",
        "print(torch.std(A)) # standard deviation 표준 편차\n",
        "print(A.sum(dim=1, keepdims=True))\n",
        "print(A.mean(dim=1, keepdims=True))\n",
        "print(A.std())"
      ],
      "metadata": {
        "colab": {
          "base_uri": "https://localhost:8080/"
        },
        "id": "XHqTcai6X3Yf",
        "outputId": "7f929953-1144-4b49-8b2e-0fb07884dfe6"
      },
      "execution_count": 42,
      "outputs": [
        {
          "output_type": "stream",
          "name": "stdout",
          "text": [
            "tensor([[ 0.2685,  0.6577, -1.5920, -1.0083],\n",
            "        [ 0.0849,  0.2832, -0.5456, -0.1676],\n",
            "        [ 0.4668, -0.7181, -1.9943, -1.1485]])\n",
            "tensor(-5.4133)\n",
            "tensor([-1.6742, -0.3450, -3.3941])\n",
            "tensor([[-1.6742],\n",
            "        [-0.3450],\n",
            "        [-3.3941]])\n",
            "tensor(-0.4511)\n",
            "tensor([-0.4185, -0.0863, -0.8485])\n",
            "tensor([[-0.4185],\n",
            "        [-0.0863],\n",
            "        [-0.8485]])\n",
            "tensor(0.8558)\n",
            "tensor([[-1.6742],\n",
            "        [-0.3450],\n",
            "        [-3.3941]])\n",
            "tensor([[-0.4185],\n",
            "        [-0.0863],\n",
            "        [-0.8485]])\n",
            "tensor(0.8558)\n"
          ]
        }
      ]
    },
    {
      "cell_type": "code",
      "source": [
        "A=torch.randint(1,5,size=(12,))\n",
        "print(A)\n",
        "print(A.shape)\n",
        "\n",
        "B=A.reshape(2,2,3)\n",
        "print(B)\n",
        "print(B.ndim)"
      ],
      "metadata": {
        "colab": {
          "base_uri": "https://localhost:8080/"
        },
        "id": "yogtzxiadKFV",
        "outputId": "8c63e02a-fbe5-4200-8162-59df4a3fb601"
      },
      "execution_count": 45,
      "outputs": [
        {
          "output_type": "stream",
          "name": "stdout",
          "text": [
            "tensor([3, 3, 2, 1, 3, 1, 1, 1, 3, 1, 3, 4])\n",
            "torch.Size([12])\n",
            "tensor([[[3, 3, 2],\n",
            "         [1, 3, 1]],\n",
            "\n",
            "        [[1, 1, 3],\n",
            "         [1, 3, 4]]])\n",
            "3\n"
          ]
        }
      ]
    },
    {
      "cell_type": "code",
      "source": [
        "A=torch.arange(20,)\n",
        "print(A)\n",
        "print(A.reshape(4,5))\n",
        "print(A.reshape(4,-1).shape) # 4개 행이 되도록 열의 수를 맞춰준다!\n",
        "print(A.reshape(2,5,-1).shape)\n",
        "print(A.reshape(2,-1,5).shape)\n",
        "print(A.reshape(1,-1).shape) # 2 차원 행 벡터\n",
        "print(A.reshape(-1,1).shape)"
      ],
      "metadata": {
        "colab": {
          "base_uri": "https://localhost:8080/"
        },
        "id": "u_b_vgNmjjez",
        "outputId": "d7925037-8ade-4946-955e-38b9d038003a"
      },
      "execution_count": 53,
      "outputs": [
        {
          "output_type": "stream",
          "name": "stdout",
          "text": [
            "tensor([ 0,  1,  2,  3,  4,  5,  6,  7,  8,  9, 10, 11, 12, 13, 14, 15, 16, 17,\n",
            "        18, 19])\n",
            "tensor([[ 0,  1,  2,  3,  4],\n",
            "        [ 5,  6,  7,  8,  9],\n",
            "        [10, 11, 12, 13, 14],\n",
            "        [15, 16, 17, 18, 19]])\n",
            "torch.Size([4, 5])\n",
            "torch.Size([2, 5, 2])\n",
            "torch.Size([2, 2, 5])\n",
            "torch.Size([1, 20])\n",
            "torch.Size([20, 1])\n"
          ]
        }
      ]
    },
    {
      "cell_type": "code",
      "source": [
        "a=torch.tensor([1,2,3])\n",
        "b=torch.tensor([2,2,1])\n",
        "print(torch.sum(a*b))\n",
        "\n",
        "a=a.reshape(3,1)\n",
        "b=b.reshape(3,1)\n",
        "print(a.transpose(1,0)@b)\n",
        "print(a.permute(1,0)@b)\n",
        "print(a.T@b)\n",
        "print(a.t()@b)\n",
        "\n",
        "A=torch.randn(4,3,6)\n",
        "print(A.permute(1,2,0).shape)\n",
        "print(A.transpose(2,1).shape)\n",
        "print(A.transpose(1,2).shape)"
      ],
      "metadata": {
        "colab": {
          "base_uri": "https://localhost:8080/"
        },
        "id": "eJx8ddkTj_aX",
        "outputId": "572f5e18-eca5-40a7-d62b-0c13a8b564ca"
      },
      "execution_count": 64,
      "outputs": [
        {
          "output_type": "stream",
          "name": "stdout",
          "text": [
            "tensor(9)\n",
            "tensor([[9]])\n",
            "tensor([[9]])\n",
            "tensor([[9]])\n",
            "tensor([[9]])\n",
            "torch.Size([3, 6, 4])\n",
            "torch.Size([4, 6, 3])\n",
            "torch.Size([4, 6, 3])\n"
          ]
        }
      ]
    },
    {
      "cell_type": "code",
      "source": [
        "x=torch.randn(2,3,4,5,6)\n",
        "print(x[1,2,:,:,:].shape)"
      ],
      "metadata": {
        "colab": {
          "base_uri": "https://localhost:8080/"
        },
        "id": "9ED1EeqalABY",
        "outputId": "465f6624-ebc8-4674-a25c-4d93b8e2cb40"
      },
      "execution_count": 66,
      "outputs": [
        {
          "output_type": "stream",
          "name": "stdout",
          "text": [
            "torch.Size([4, 5, 6])\n"
          ]
        }
      ]
    },
    {
      "cell_type": "code",
      "source": [
        "A=torch.ones(3,4)\n",
        "B=torch.zeros(3,4)\n",
        "C=torch.vstack([A,B])\n",
        "D=torch.hstack([A,B])\n",
        "E=torch.cat([A,B],dim=0)\n",
        "F=torch.cat([A,B],dim=1)\n",
        "print(F)"
      ],
      "metadata": {
        "colab": {
          "base_uri": "https://localhost:8080/"
        },
        "id": "DBVqA_T9oE5T",
        "outputId": "fc939244-826d-4a4f-db4c-1d62597d095a"
      },
      "execution_count": 71,
      "outputs": [
        {
          "output_type": "stream",
          "name": "stdout",
          "text": [
            "tensor([[1., 1., 1., 1., 0., 0., 0., 0.],\n",
            "        [1., 1., 1., 1., 0., 0., 0., 0.],\n",
            "        [1., 1., 1., 1., 0., 0., 0., 0.]])\n"
          ]
        }
      ]
    },
    {
      "cell_type": "code",
      "source": [
        "A=torch.randn(1,1,1,3,1,1,1,4,1,1,1)\n",
        "print(A.shape)\n",
        "print(A.squeeze().shape)\n",
        "print(A.squeeze(dim=(0,2,4,5)).shape)"
      ],
      "metadata": {
        "colab": {
          "base_uri": "https://localhost:8080/"
        },
        "id": "DY_RWm4Woe14",
        "outputId": "90f7853f-3567-47be-8863-e8e24184ded5"
      },
      "execution_count": 78,
      "outputs": [
        {
          "output_type": "stream",
          "name": "stdout",
          "text": [
            "torch.Size([1, 1, 1, 3, 1, 1, 1, 4, 1, 1, 1])\n",
            "torch.Size([3, 4])\n",
            "torch.Size([1, 3, 1, 4, 1, 1, 1])\n"
          ]
        }
      ]
    },
    {
      "cell_type": "code",
      "source": [
        "A = torch.randn(3,4)\n",
        "print(A)\n",
        "print(A.unsqueeze(dim=0).shape)\n",
        "print(A.unsqueeze(dim=1).shape)\n",
        "print(A.unsqueeze(dim=2).shape)\n",
        "print(A.reshape(1,3,4).shape)\n",
        "print(A.reshape(3,1,4).shape)\n",
        "print(A.reshape(3,4,1).shape)"
      ],
      "metadata": {
        "colab": {
          "base_uri": "https://localhost:8080/"
        },
        "id": "iclP1dMVpcY3",
        "outputId": "d7151e09-6363-4807-e715-8242322271d9"
      },
      "execution_count": 89,
      "outputs": [
        {
          "output_type": "stream",
          "name": "stdout",
          "text": [
            "tensor([[ 0.8127, -1.2238, -0.2967, -0.2984],\n",
            "        [ 0.8551,  0.0790,  0.0600,  0.0857],\n",
            "        [ 0.2904, -2.5049, -2.3006,  0.7772]])\n",
            "torch.Size([1, 3, 4])\n",
            "torch.Size([3, 1, 4])\n",
            "torch.Size([3, 4, 1])\n",
            "torch.Size([1, 3, 4])\n",
            "torch.Size([3, 1, 4])\n",
            "torch.Size([3, 4, 1])\n"
          ]
        }
      ]
    },
    {
      "cell_type": "code",
      "source": [
        "A=torch.ones(3,4)\n",
        "B=torch.zeros(3,4)\n",
        "A=A.unsqueeze(dim=0)\n",
        "B=B.unsqueeze(dim=0)\n",
        "C=torch.cat([A,B],dim=0)\n",
        "print(C)\n",
        "print(C.shape)"
      ],
      "metadata": {
        "colab": {
          "base_uri": "https://localhost:8080/"
        },
        "id": "fmnwAmguqOz1",
        "outputId": "a76b8266-31a4-4c68-d38f-8d99c9d1a58a"
      },
      "execution_count": 99,
      "outputs": [
        {
          "output_type": "stream",
          "name": "stdout",
          "text": [
            "tensor([[[1., 1., 1., 1.],\n",
            "         [1., 1., 1., 1.],\n",
            "         [1., 1., 1., 1.]],\n",
            "\n",
            "        [[0., 0., 0., 0.],\n",
            "         [0., 0., 0., 0.],\n",
            "         [0., 0., 0., 0.]]])\n",
            "torch.Size([2, 3, 4])\n"
          ]
        }
      ]
    },
    {
      "cell_type": "code",
      "source": [
        "A=torch.ones(3,4)\n",
        "B=torch.zeros(3,4)\n",
        "C=torch.stack([A,B])\n",
        "print(C) # unsqueeze 안하고 stack으로 하면 되긴함. (차원을 추가(default는 dim=0에)해서 쌓아줌)\n",
        "# 근데 차원을 추가해서 쌓는 방식이다보니 A,B shape이 완전히 일치해야함. concat은 달라도 쌓을 차원 이외 차원들만 맞으면 됨"
      ],
      "metadata": {
        "colab": {
          "base_uri": "https://localhost:8080/"
        },
        "id": "LLoxWE5aqWmS",
        "outputId": "993c6920-ef39-4ffe-992b-1b22694e2096"
      },
      "execution_count": 100,
      "outputs": [
        {
          "output_type": "stream",
          "name": "stdout",
          "text": [
            "tensor([[[1., 1., 1., 1.],\n",
            "         [1., 1., 1., 1.],\n",
            "         [1., 1., 1., 1.]],\n",
            "\n",
            "        [[0., 0., 0., 0.],\n",
            "         [0., 0., 0., 0.],\n",
            "         [0., 0., 0., 0.]]])\n"
          ]
        }
      ]
    },
    {
      "cell_type": "code",
      "source": [
        "import torch\n",
        "A=torch.tensor([[1,2],[3,4]])\n",
        "B=A.clone()\n",
        "B[0,0] = 100\n",
        "print(B)\n",
        "print(A)"
      ],
      "metadata": {
        "colab": {
          "base_uri": "https://localhost:8080/"
        },
        "id": "ZC0Vcre_ro3V",
        "outputId": "c55fa524-d196-439e-8846-d8e142fe22c4"
      },
      "execution_count": 106,
      "outputs": [
        {
          "output_type": "stream",
          "name": "stdout",
          "text": [
            "tensor([[100,   2],\n",
            "        [  3,   4]])\n",
            "tensor([[1, 2],\n",
            "        [3, 4]])\n"
          ]
        }
      ]
    },
    {
      "cell_type": "markdown",
      "source": [
        "## @에 대해 설명"
      ],
      "metadata": {
        "id": "6aP1CzwQuycW"
      }
    },
    {
      "cell_type": "code",
      "source": [
        "A=torch.randn(5,7)\n",
        "B=torch.randn(7,10)\n",
        "C=A@B\n",
        "print(C.shape)\n",
        "\n",
        "A=torch.randn(32,5,7)\n",
        "B=torch.randn(32,7,10)\n",
        "C=A@B\n",
        "print(C.shape)"
      ],
      "metadata": {
        "colab": {
          "base_uri": "https://localhost:8080/"
        },
        "id": "UGJcpid3teDM",
        "outputId": "90d874d1-1663-420c-95b7-860899ff4c6f"
      },
      "execution_count": 109,
      "outputs": [
        {
          "output_type": "stream",
          "name": "stdout",
          "text": [
            "torch.Size([5, 10])\n",
            "torch.Size([32, 5, 10])\n"
          ]
        }
      ]
    },
    {
      "cell_type": "code",
      "source": [
        "A=torch.randn(32,5,7)\n",
        "B=torch.randn(7,10)\n",
        "C=A@B\n",
        "print(C.shape)"
      ],
      "metadata": {
        "colab": {
          "base_uri": "https://localhost:8080/"
        },
        "id": "QjDvLp8Bu507",
        "outputId": "7d3f6631-a204-4fdb-eca3-a5bc103188ef"
      },
      "execution_count": 111,
      "outputs": [
        {
          "output_type": "stream",
          "name": "stdout",
          "text": [
            "torch.Size([32, 5, 10])\n"
          ]
        }
      ]
    },
    {
      "cell_type": "markdown",
      "source": [
        "## numpy<->torch 왔다갔다 기능"
      ],
      "metadata": {
        "id": "H-KyVBVKwthP"
      }
    },
    {
      "cell_type": "code",
      "source": [
        "import numpy as np\n",
        "import torch\n",
        "\n",
        "a=np.array([1,2,3])\n",
        "b=torch.tensor([1,2,3])\n",
        "A=torch.tensor(a)\n",
        "B=b.numpy()\n",
        "print(type(A))\n",
        "print(type(B))"
      ],
      "metadata": {
        "colab": {
          "base_uri": "https://localhost:8080/"
        },
        "id": "HxBAVr_Evhs-",
        "outputId": "6e5c5f47-4c3d-4491-8dae-dfb0fd097e91"
      },
      "execution_count": 112,
      "outputs": [
        {
          "output_type": "stream",
          "name": "stdout",
          "text": [
            "<class 'torch.Tensor'>\n",
            "<class 'numpy.ndarray'>\n"
          ]
        }
      ]
    },
    {
      "cell_type": "code",
      "source": [],
      "metadata": {
        "id": "tOTJmADdw9sc"
      },
      "execution_count": null,
      "outputs": []
    }
  ]
}