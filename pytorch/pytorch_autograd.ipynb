{
  "nbformat": 4,
  "nbformat_minor": 0,
  "metadata": {
    "colab": {
      "provenance": []
    },
    "kernelspec": {
      "name": "python3",
      "display_name": "Python 3"
    },
    "language_info": {
      "name": "python"
    }
  },
  "cells": [
    {
      "cell_type": "markdown",
      "source": [
        "## 딥러닝을 가능케한 autograd"
      ],
      "metadata": {
        "id": "Z6DEgK-KTYg1"
      }
    },
    {
      "cell_type": "code",
      "execution_count": 2,
      "metadata": {
        "colab": {
          "base_uri": "https://localhost:8080/"
        },
        "id": "IH0wfLctTVch",
        "outputId": "aafc05e3-9c7c-4551-a85c-8ff9336a4f35"
      },
      "outputs": [
        {
          "output_type": "stream",
          "name": "stdout",
          "text": [
            "tensor([1.], requires_grad=True)\n"
          ]
        }
      ],
      "source": [
        "import torch\n",
        "x=torch.tensor([1.], requires_grad=True) # float 이여야해서 1.\n",
        "print(x)"
      ]
    },
    {
      "cell_type": "code",
      "source": [
        "x=torch.tensor([1.])\n",
        "print(x)\n",
        "print(x.requires_grad)\n",
        "\n",
        "x.requires_grad=True\n",
        "print(x)\n",
        "print(x.requires_grad)"
      ],
      "metadata": {
        "colab": {
          "base_uri": "https://localhost:8080/"
        },
        "id": "NL_pvhIwTf9X",
        "outputId": "5989a65c-1557-4cb2-a307-1aa139c9d76c"
      },
      "execution_count": 5,
      "outputs": [
        {
          "output_type": "stream",
          "name": "stdout",
          "text": [
            "tensor([1.])\n",
            "False\n",
            "tensor([1.], requires_grad=True)\n",
            "True\n"
          ]
        }
      ]
    },
    {
      "cell_type": "code",
      "source": [
        "x=torch.tensor([1.],requires_grad=True)\n",
        "y=x**2\n",
        "print(y) # PowBackward0 가 붙어있다!\n",
        "\n",
        "print(x.grad)\n",
        "y.backward()\n",
        "print(x.grad) # y=x**2을 미분한 2x의 x 값에 1을 대입한 gradient 값"
      ],
      "metadata": {
        "colab": {
          "base_uri": "https://localhost:8080/"
        },
        "id": "jlvPo0e0T04I",
        "outputId": "e53ddaf0-233e-4ab3-e799-a044b0c3ed87"
      },
      "execution_count": 7,
      "outputs": [
        {
          "output_type": "stream",
          "name": "stdout",
          "text": [
            "tensor([1.], grad_fn=<PowBackward0>)\n",
            "None\n",
            "tensor([2.])\n"
          ]
        }
      ]
    },
    {
      "cell_type": "code",
      "source": [
        "x=torch.tensor([1.], requires_grad=True)\n",
        "y=x**2\n",
        "print(y)\n",
        "y.retain_grad() # 이걸 하면 y.grad도 볼 수 있다.\n",
        "\n",
        "z=3*y\n",
        "print(z) # MulBackward0 가 붙어있다!\n",
        "\n",
        "z.backward()\n",
        "print(x.grad) # chain rule로 알아냄\n",
        "print(y.grad) # warning! 중간건 안된다"
      ],
      "metadata": {
        "colab": {
          "base_uri": "https://localhost:8080/"
        },
        "id": "m8fbZOxKUYNU",
        "outputId": "f9c8f20e-04ff-48c8-9f13-e12285b14b97"
      },
      "execution_count": 12,
      "outputs": [
        {
          "output_type": "stream",
          "name": "stdout",
          "text": [
            "tensor([1.], grad_fn=<PowBackward0>)\n",
            "tensor([3.], grad_fn=<MulBackward0>)\n",
            "tensor([6.])\n",
            "tensor([3.])\n"
          ]
        }
      ]
    },
    {
      "cell_type": "code",
      "source": [
        "x=torch.tensor([1.], requires_grad=True)\n",
        "y=x**2\n",
        "z=3*y\n",
        "\n",
        "y.backward() # 이렇게하면 y에서부터 뒤로 넘어감 (backward)\n",
        "print(x.grad)"
      ],
      "metadata": {
        "colab": {
          "base_uri": "https://localhost:8080/"
        },
        "id": "aR9FlhhEWKFd",
        "outputId": "a54b7c32-d52b-4133-c726-32c62177822c"
      },
      "execution_count": 13,
      "outputs": [
        {
          "output_type": "stream",
          "name": "stdout",
          "text": [
            "tensor([2.])\n"
          ]
        }
      ]
    },
    {
      "cell_type": "code",
      "source": [
        "x=torch.tensor([1.], requires_grad=True)\n",
        "a=x**2\n",
        "b=a+1\n",
        "print(b) # AddBackward0 가 붙어있다!\n",
        "c=b**2\n",
        "c.backward()\n",
        "print(x.grad)"
      ],
      "metadata": {
        "colab": {
          "base_uri": "https://localhost:8080/"
        },
        "id": "6wvfSOxJXwSK",
        "outputId": "8e776d9a-b83b-45a5-a6e8-cbc19a34b67f"
      },
      "execution_count": 14,
      "outputs": [
        {
          "output_type": "stream",
          "name": "stdout",
          "text": [
            "tensor([2.], grad_fn=<AddBackward0>)\n"
          ]
        }
      ]
    },
    {
      "cell_type": "code",
      "source": [
        "x=torch.tensor([1.],requires_grad=True)\n",
        "y=torch.tensor([1.],requires_grad=True)\n",
        "z=2*x**2 + y**2\n",
        "print(z)\n",
        "z.backward()\n",
        "print(x.grad)\n",
        "print(y.grad)"
      ],
      "metadata": {
        "colab": {
          "base_uri": "https://localhost:8080/"
        },
        "id": "lbjLoaL9aIfX",
        "outputId": "c85b8002-30b0-4e6a-9d01-b06f9b66e7ed"
      },
      "execution_count": 17,
      "outputs": [
        {
          "output_type": "stream",
          "name": "stdout",
          "text": [
            "tensor([3.], grad_fn=<AddBackward0>)\n",
            "tensor([4.])\n",
            "tensor([2.])\n"
          ]
        }
      ]
    },
    {
      "cell_type": "code",
      "source": [
        "x=torch.tensor([1.],requires_grad=True)\n",
        "y=torch.tensor([1.],requires_grad=True)\n",
        "z=y*x**2\n",
        "z.backward()\n",
        "print(x.grad)\n",
        "print(y.grad)"
      ],
      "metadata": {
        "colab": {
          "base_uri": "https://localhost:8080/"
        },
        "id": "g9doZd_FYy7R",
        "outputId": "83dea312-bf63-456d-a1b3-860f65e16cf9"
      },
      "execution_count": 15,
      "outputs": [
        {
          "output_type": "stream",
          "name": "stdout",
          "text": [
            "tensor([2.])\n",
            "tensor([1.])\n"
          ]
        }
      ]
    },
    {
      "cell_type": "code",
      "source": [
        "x=torch.tensor([1.,2.,3.], requires_grad=True)\n",
        "y=torch.sum(x**2) # x1**2 + x2**2 + x3**2\n",
        "y.backward()\n",
        "\n",
        "print(y)\n",
        "print(x.grad) # 스칼라를 벡터로 미분"
      ],
      "metadata": {
        "colab": {
          "base_uri": "https://localhost:8080/"
        },
        "id": "pdJBKfi1aApr",
        "outputId": "01c2ea00-c4ea-4ead-9664-1a6924a88054"
      },
      "execution_count": 18,
      "outputs": [
        {
          "output_type": "stream",
          "name": "stdout",
          "text": [
            "tensor(14., grad_fn=<SumBackward0>)\n",
            "tensor([2., 4., 6.])\n"
          ]
        }
      ]
    },
    {
      "cell_type": "code",
      "source": [
        "x=torch.tensor([2.],requires_grad=True)\n",
        "x2=x.detach() # detach는 requires_grad=False 인 새로운 텐서를 만드는 것\n",
        "print(x)\n",
        "print(x2)\n",
        "y=x**2\n",
        "print(y)\n",
        "y2=x2**2\n",
        "print(y2)"
      ],
      "metadata": {
        "colab": {
          "base_uri": "https://localhost:8080/"
        },
        "id": "Ki_qjAW0a93s",
        "outputId": "e010a390-1fa3-4013-b666-e21b19f9f94c"
      },
      "execution_count": 22,
      "outputs": [
        {
          "output_type": "stream",
          "name": "stdout",
          "text": [
            "tensor([2.], requires_grad=True)\n",
            "tensor([2.])\n",
            "tensor([4.], grad_fn=<PowBackward0>)\n",
            "tensor([4.])\n"
          ]
        }
      ]
    },
    {
      "cell_type": "code",
      "source": [
        "# detach 사용 용도\n",
        "x=torch.tensor([1.], requires_grad=True)\n",
        "y=x**2\n",
        "z=y.detach() # x로 만든 것을 상수로 사용하고 싶은 것. y.requires_grad=False\n",
        "w=y+z # x**2+1과 같다\n",
        "w.backward()\n",
        "print(x.grad)"
      ],
      "metadata": {
        "colab": {
          "base_uri": "https://localhost:8080/"
        },
        "id": "KQpbbPBXbtv7",
        "outputId": "1027e42f-567d-44bb-823a-0ef67202a159"
      },
      "execution_count": 23,
      "outputs": [
        {
          "output_type": "stream",
          "name": "stdout",
          "text": [
            "tensor([2.])\n"
          ]
        }
      ]
    },
    {
      "cell_type": "code",
      "source": [
        "# 많이 쓰이는 torch.no_grad\n",
        "x=torch.tensor([1.], requires_grad=True)\n",
        "# chain rule을 위해 계속 grad_fn을 update하니까 grad_fn 잠시 안계산하고 싶을 때 torch.no_grad\n",
        "# 모델 테스트 시에는 불필요하게 메모리 쓸 필요 없기 때문!\n",
        "with torch.no_grad():\n",
        "  y=x**2\n",
        "  print(x.requires_grad)\n",
        "  print(y) # with 안에서 계산되는 애는 grad_fn이 안붙음\n",
        "print(x.requires_grad)\n",
        "# y.backward() # 에러가 발생한다\n",
        "y=x**2\n",
        "print(y)\n",
        "\n",
        "x=torch.tensor([1.], requires_grad=True)\n",
        "x.requires_grad=False\n",
        "y=x**2\n",
        "print(x.requires_grad)\n",
        "print(y)\n",
        "#y.backward() # 에러가 발생"
      ],
      "metadata": {
        "colab": {
          "base_uri": "https://localhost:8080/"
        },
        "id": "J8y-c5vRcmWu",
        "outputId": "55f6b033-0a1c-4cf7-fe97-de4813339f49"
      },
      "execution_count": 28,
      "outputs": [
        {
          "output_type": "stream",
          "name": "stdout",
          "text": [
            "True\n",
            "tensor([1.])\n",
            "True\n",
            "tensor([1.], grad_fn=<PowBackward0>)\n",
            "False\n",
            "tensor([1.])\n"
          ]
        }
      ]
    },
    {
      "cell_type": "code",
      "source": [
        "#!pip install torchviz\n",
        "from torchviz import make_dot\n",
        "x=torch.tensor([1.],requires_grad=True)\n",
        "# make_dot(x)\n",
        "# make_dot(x**2) # (1) 이라고 써있는 것은 shape를 나타냄\n",
        "# make_dot(x**2+1)\n",
        "# make_dot((x**2+1)**2)\n",
        "\n",
        "y=2*x\n",
        "z=3+x\n",
        "r=y+z\n",
        "make_dot(r)"
      ],
      "metadata": {
        "colab": {
          "base_uri": "https://localhost:8080/",
          "height": 382
        },
        "id": "baVeoNbJdUHr",
        "outputId": "615cec24-a160-4b2a-a106-a095c62b955a"
      },
      "execution_count": 30,
      "outputs": [
        {
          "output_type": "execute_result",
          "data": {
            "image/svg+xml": "<?xml version=\"1.0\" encoding=\"UTF-8\" standalone=\"no\"?>\n<!DOCTYPE svg PUBLIC \"-//W3C//DTD SVG 1.1//EN\"\n \"http://www.w3.org/Graphics/SVG/1.1/DTD/svg11.dtd\">\n<!-- Generated by graphviz version 2.43.0 (0)\n -->\n<!-- Title: %3 Pages: 1 -->\n<svg width=\"204pt\" height=\"271pt\"\n viewBox=\"0.00 0.00 204.00 271.00\" xmlns=\"http://www.w3.org/2000/svg\" xmlns:xlink=\"http://www.w3.org/1999/xlink\">\n<g id=\"graph0\" class=\"graph\" transform=\"scale(1 1) rotate(0) translate(4 267)\">\n<title>%3</title>\n<polygon fill=\"white\" stroke=\"transparent\" points=\"-4,4 -4,-267 200,-267 200,4 -4,4\"/>\n<!-- 133220492552400 -->\n<g id=\"node1\" class=\"node\">\n<title>133220492552400</title>\n<polygon fill=\"#caff70\" stroke=\"black\" points=\"124.5,-31 70.5,-31 70.5,0 124.5,0 124.5,-31\"/>\n<text text-anchor=\"middle\" x=\"97.5\" y=\"-7\" font-family=\"monospace\" font-size=\"10.00\"> (1)</text>\n</g>\n<!-- 133220501695328 -->\n<g id=\"node2\" class=\"node\">\n<title>133220501695328</title>\n<polygon fill=\"lightgrey\" stroke=\"black\" points=\"142,-86 53,-86 53,-67 142,-67 142,-86\"/>\n<text text-anchor=\"middle\" x=\"97.5\" y=\"-74\" font-family=\"monospace\" font-size=\"10.00\">AddBackward0</text>\n</g>\n<!-- 133220501695328&#45;&gt;133220492552400 -->\n<g id=\"edge6\" class=\"edge\">\n<title>133220501695328&#45;&gt;133220492552400</title>\n<path fill=\"none\" stroke=\"black\" d=\"M97.5,-66.79C97.5,-60.07 97.5,-50.4 97.5,-41.34\"/>\n<polygon fill=\"black\" stroke=\"black\" points=\"101,-41.19 97.5,-31.19 94,-41.19 101,-41.19\"/>\n</g>\n<!-- 133220501696336 -->\n<g id=\"node3\" class=\"node\">\n<title>133220501696336</title>\n<polygon fill=\"lightgrey\" stroke=\"black\" points=\"89,-141 0,-141 0,-122 89,-122 89,-141\"/>\n<text text-anchor=\"middle\" x=\"44.5\" y=\"-129\" font-family=\"monospace\" font-size=\"10.00\">MulBackward0</text>\n</g>\n<!-- 133220501696336&#45;&gt;133220501695328 -->\n<g id=\"edge1\" class=\"edge\">\n<title>133220501696336&#45;&gt;133220501695328</title>\n<path fill=\"none\" stroke=\"black\" d=\"M53.25,-121.75C60.97,-114.03 72.4,-102.6 81.72,-93.28\"/>\n<polygon fill=\"black\" stroke=\"black\" points=\"84.31,-95.64 88.91,-86.09 79.36,-90.69 84.31,-95.64\"/>\n</g>\n<!-- 133220502203376 -->\n<g id=\"node4\" class=\"node\">\n<title>133220502203376</title>\n<polygon fill=\"lightgrey\" stroke=\"black\" points=\"148,-196 47,-196 47,-177 148,-177 148,-196\"/>\n<text text-anchor=\"middle\" x=\"97.5\" y=\"-184\" font-family=\"monospace\" font-size=\"10.00\">AccumulateGrad</text>\n</g>\n<!-- 133220502203376&#45;&gt;133220501696336 -->\n<g id=\"edge2\" class=\"edge\">\n<title>133220502203376&#45;&gt;133220501696336</title>\n<path fill=\"none\" stroke=\"black\" d=\"M88.75,-176.75C81.03,-169.03 69.6,-157.6 60.28,-148.28\"/>\n<polygon fill=\"black\" stroke=\"black\" points=\"62.64,-145.69 53.09,-141.09 57.69,-150.64 62.64,-145.69\"/>\n</g>\n<!-- 133220501698400 -->\n<g id=\"node6\" class=\"node\">\n<title>133220501698400</title>\n<polygon fill=\"lightgrey\" stroke=\"black\" points=\"196,-141 107,-141 107,-122 196,-122 196,-141\"/>\n<text text-anchor=\"middle\" x=\"151.5\" y=\"-129\" font-family=\"monospace\" font-size=\"10.00\">AddBackward0</text>\n</g>\n<!-- 133220502203376&#45;&gt;133220501698400 -->\n<g id=\"edge5\" class=\"edge\">\n<title>133220502203376&#45;&gt;133220501698400</title>\n<path fill=\"none\" stroke=\"black\" d=\"M106.42,-176.75C114.28,-169.03 125.93,-157.6 135.42,-148.28\"/>\n<polygon fill=\"black\" stroke=\"black\" points=\"138.06,-150.59 142.75,-141.09 133.16,-145.6 138.06,-150.59\"/>\n</g>\n<!-- 133220492551728 -->\n<g id=\"node5\" class=\"node\">\n<title>133220492551728</title>\n<polygon fill=\"lightblue\" stroke=\"black\" points=\"124.5,-263 70.5,-263 70.5,-232 124.5,-232 124.5,-263\"/>\n<text text-anchor=\"middle\" x=\"97.5\" y=\"-239\" font-family=\"monospace\" font-size=\"10.00\"> (1)</text>\n</g>\n<!-- 133220492551728&#45;&gt;133220502203376 -->\n<g id=\"edge3\" class=\"edge\">\n<title>133220492551728&#45;&gt;133220502203376</title>\n<path fill=\"none\" stroke=\"black\" d=\"M97.5,-231.92C97.5,-224.22 97.5,-214.69 97.5,-206.43\"/>\n<polygon fill=\"black\" stroke=\"black\" points=\"101,-206.25 97.5,-196.25 94,-206.25 101,-206.25\"/>\n</g>\n<!-- 133220501698400&#45;&gt;133220501695328 -->\n<g id=\"edge4\" class=\"edge\">\n<title>133220501698400&#45;&gt;133220501695328</title>\n<path fill=\"none\" stroke=\"black\" d=\"M142.58,-121.75C134.72,-114.03 123.07,-102.6 113.58,-93.28\"/>\n<polygon fill=\"black\" stroke=\"black\" points=\"115.84,-90.6 106.25,-86.09 110.94,-95.59 115.84,-90.6\"/>\n</g>\n</g>\n</svg>\n",
            "text/plain": [
              "<graphviz.graphs.Digraph at 0x792aca479c10>"
            ]
          },
          "metadata": {},
          "execution_count": 30
        }
      ]
    },
    {
      "cell_type": "code",
      "source": [],
      "metadata": {
        "id": "3h7JL3eBgvSW"
      },
      "execution_count": null,
      "outputs": []
    }
  ]
}