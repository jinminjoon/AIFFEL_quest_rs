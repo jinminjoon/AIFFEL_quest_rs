{
  "nbformat": 4,
  "nbformat_minor": 0,
  "metadata": {
    "colab": {
      "provenance": []
    },
    "kernelspec": {
      "name": "python3",
      "display_name": "Python 3"
    },
    "language_info": {
      "name": "python"
    }
  },
  "cells": [
    {
      "cell_type": "code",
      "execution_count": 1,
      "metadata": {
        "colab": {
          "base_uri": "https://localhost:8080/"
        },
        "id": "NBGmOqbyzS84",
        "outputId": "f11a5745-19ae-43cc-fad4-0bd6d44bef7b"
      },
      "outputs": [
        {
          "output_type": "stream",
          "name": "stdout",
          "text": [
            "tensor([[[ 0,  1,  2,  3],\n",
            "         [ 4,  5,  6,  7],\n",
            "         [ 8,  9, 10, 11]],\n",
            "\n",
            "        [[12, 13, 14, 15],\n",
            "         [16, 17, 18, 19],\n",
            "         [20, 21, 22, 23]]])\n",
            "torch.Size([2, 3, 4])\n",
            "tensor(6)\n",
            "torch.Size([1, 1, 1, 1, 4])\n"
          ]
        }
      ],
      "source": [
        "import torch\n",
        "# 3차원 행렬 인덱싱\n",
        "A=torch.tensor([[[0,1,2,3],[4,5,6,7],[8,9,10,11]],\n",
        "                [[12,13,14,15],[16,17,18,19],[20,21,22,23]]])\n",
        "print(A)\n",
        "print(A.shape)\n",
        "print(A[0,1,2])\n",
        "a=torch.tensor([[[[[1,2,3,4]]]]])\n",
        "print(a.shape)"
      ]
    },
    {
      "cell_type": "code",
      "source": [
        "# 리스트로 인덱싱\n",
        "print(A)\n",
        "A[[0,1,1,0],[0,1,2,1],[3,3,2,1]]"
      ],
      "metadata": {
        "colab": {
          "base_uri": "https://localhost:8080/"
        },
        "id": "qDAH765gzyu8",
        "outputId": "5d312d9f-fb3b-4df2-fc35-2bff73085fdc"
      },
      "execution_count": 2,
      "outputs": [
        {
          "output_type": "stream",
          "name": "stdout",
          "text": [
            "tensor([[[ 0,  1,  2,  3],\n",
            "         [ 4,  5,  6,  7],\n",
            "         [ 8,  9, 10, 11]],\n",
            "\n",
            "        [[12, 13, 14, 15],\n",
            "         [16, 17, 18, 19],\n",
            "         [20, 21, 22, 23]]])\n"
          ]
        },
        {
          "output_type": "execute_result",
          "data": {
            "text/plain": [
              "tensor([ 3, 19, 22,  5])"
            ]
          },
          "metadata": {},
          "execution_count": 2
        }
      ]
    },
    {
      "cell_type": "code",
      "source": [
        "# boolean 인덱싱\n",
        "a=[1,2,3,4,5,3,3]\n",
        "print(a==3) # 여러개 값 들어있는 리스트랑 3 달랑 하나랑 같냐? 다르다!\n",
        "A=torch.tensor([[1,2,3,4],[5,3,7,3]])\n",
        "print(A>3) # 리스트와 달리 각 성분에 대해 비교해 줌\n",
        "print(A[A>3]) # True, False가 담긴 행렬로 인덱싱 가능!\n",
        "A[A>3]=100\n",
        "print(A) # 그러면 어떤 것도 가능하다!(3보다 큰 애들은 100으로 바꿔줘)\n",
        "A=torch.tensor([[1,2],[3,4],[5,6],[7,8]])\n",
        "B=torch.tensor([True, False, False, True]) # 참고로 그냥 리스트여도 됨\n",
        "print(A[B,:]) # 0행, 3행 슬라이싱\n",
        "\n",
        "b=torch.tensor([1,2,3,4])\n",
        "print(b[[True,True,False,False]])\n",
        "c=[1,2,3,4]\n",
        "# c[[True,True,False,False]] # error!"
      ],
      "metadata": {
        "colab": {
          "base_uri": "https://localhost:8080/"
        },
        "id": "zdgXt2XR1W6U",
        "outputId": "c52723b2-894a-42e5-825f-b08898669038"
      },
      "execution_count": 8,
      "outputs": [
        {
          "output_type": "stream",
          "name": "stdout",
          "text": [
            "False\n",
            "tensor([[False, False, False,  True],\n",
            "        [ True, False,  True, False]])\n",
            "tensor([4, 5, 7])\n",
            "tensor([[  1,   2,   3, 100],\n",
            "        [100,   3, 100,   3]])\n",
            "tensor([[1, 2],\n",
            "        [7, 8]])\n",
            "tensor([1, 2])\n"
          ]
        }
      ]
    },
    {
      "cell_type": "code",
      "source": [
        "# tensor로 인덱싱\n",
        "a=torch.tensor([1,2,3,4,5])\n",
        "A=a[2]\n",
        "print(A)\n",
        "A=a[torch.tensor(2)] # torch.tensor를 안에다가?\n",
        "print(A)\n",
        "A=a[torch.tensor([2,3,4])]\n",
        "print(A)\n",
        "A=a[torch.tensor([[2,2,2],[3,3,3]])]\n",
        "print(A) # 인덱싱된 애들로 2행 3열짜리 행렬을 만든다.\n",
        "a=torch.tensor([1,2,3])\n",
        "print(a[torch.tensor([[1,1,1],[2,2,2]])])\n",
        "a=torch.tensor([[1,2,3],[4,5,6]])\n",
        "print(a[torch.tensor(0)])\n",
        "A=a[torch.tensor([[0,1],[1,1]])]\n",
        "print(A)\n",
        "print(A.shape)"
      ],
      "metadata": {
        "colab": {
          "base_uri": "https://localhost:8080/"
        },
        "id": "uODfqh701ovn",
        "outputId": "6d3cb536-4728-4517-d61a-e6ab5357df4f"
      },
      "execution_count": 18,
      "outputs": [
        {
          "output_type": "stream",
          "name": "stdout",
          "text": [
            "tensor(3)\n",
            "tensor(3)\n",
            "tensor([3, 4, 5])\n",
            "tensor([[3, 3, 3],\n",
            "        [4, 4, 4]])\n",
            "tensor([[2, 2, 2],\n",
            "        [3, 3, 3]])\n",
            "tensor([1, 2, 3])\n",
            "tensor([[[1, 2, 3],\n",
            "         [4, 5, 6]],\n",
            "\n",
            "        [[4, 5, 6],\n",
            "         [4, 5, 6]]])\n",
            "torch.Size([2, 2, 3])\n"
          ]
        }
      ]
    },
    {
      "cell_type": "code",
      "source": [
        "A=torch.tensor([[1,2,6],[3,4,7],[5,6,2],[7,8,9]])\n",
        "print(A)\n",
        "print()\n",
        "#print(A.shape)\n",
        "print()\n",
        "# 1. A[몇 번째 행이냐, 몇 번째 열이냐]\n",
        "#print(A[0,1])\n",
        "#print()\n",
        "# 2-1. A[[몇 번째 행이냐, 몇 번째 행이냐],[몇 번째 열이냐, 몇 번째 열이냐]]\n",
        "print(A[[0,2,3,1,2],[1,1,0,0,0]])\n",
        "print()\n",
        "# 2-2. A[[[몇 번째 행이냐], [몇 번째 행이냐]], [[몇 번째 열이냐], [몇 번째 열이냐]]] ==> 결과가 행렬형태가 되도록 인덱싱\n",
        "print(A[[[0,2],[3,1]], [[0,2],[1,0]]])\n",
        "print()\n",
        "# 3. a[tensor(bool)] => A와 같은 shape을 가지는 tensor형 bool이 어디에 True를 가지고 있냐\n",
        "print(A[torch.tensor([[False,True,True],[False,False,False],[False,False,True],[False,True,False]])])\n",
        "print()\n",
        "print(A[A==2]) # 마스킹 같은 걸 할 수 있음\n",
        "print()\n",
        "# 4. A[몇 번째 값에 True가 있냐, 몇 번째 값에 True가 있냐]\n",
        "print(A[[True,False,False,False],[False,True,True]])\n",
        "print()\n",
        "# 5. A[tensor] ==> 몇 번째 것을 어떻게 쌓을거냐\n",
        "print(A[torch.tensor([1,1,2,2,2])])"
      ],
      "metadata": {
        "id": "StCbsj2n4bGn",
        "colab": {
          "base_uri": "https://localhost:8080/"
        },
        "outputId": "99b3a495-e220-44a3-f8f8-5b5d6b99bda8"
      },
      "execution_count": 30,
      "outputs": [
        {
          "output_type": "stream",
          "name": "stdout",
          "text": [
            "tensor([[1, 2, 6],\n",
            "        [3, 4, 7],\n",
            "        [5, 6, 2],\n",
            "        [7, 8, 9]])\n",
            "\n",
            "\n",
            "tensor([2, 6, 7, 3, 5])\n",
            "\n",
            "tensor([[1, 2],\n",
            "        [8, 3]])\n",
            "\n",
            "tensor([2, 6, 2, 8])\n",
            "\n",
            "tensor([2, 2])\n",
            "\n",
            "tensor([2, 6])\n",
            "\n",
            "tensor([[3, 4, 7],\n",
            "        [3, 4, 7],\n",
            "        [5, 6, 2],\n",
            "        [5, 6, 2],\n",
            "        [5, 6, 2]])\n"
          ]
        }
      ]
    },
    {
      "cell_type": "code",
      "source": [],
      "metadata": {
        "id": "AvsKHDSjKFca"
      },
      "execution_count": null,
      "outputs": []
    }
  ]
}