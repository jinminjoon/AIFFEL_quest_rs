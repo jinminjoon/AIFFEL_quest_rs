{
  "nbformat": 4,
  "nbformat_minor": 0,
  "metadata": {
    "colab": {
      "provenance": []
    },
    "kernelspec": {
      "name": "python3",
      "display_name": "Python 3"
    },
    "language_info": {
      "name": "python"
    }
  },
  "cells": [
    {
      "cell_type": "code",
      "execution_count": 1,
      "metadata": {
        "id": "06dupt5indv8"
      },
      "outputs": [],
      "source": [
        "import pandas as pd\n",
        "data = pd.read_csv(\"every_worker.csv\",encoding='utf-8-sig')"
      ]
    },
    {
      "cell_type": "code",
      "source": [
        "data = data[['pid','year','p_age','p_econstat','p_edu','p_job_status','p_job_begin','p_employ_type','p_hours','job_name','산업명','p_jobtype','p_sex','p_wage']]"
      ],
      "metadata": {
        "id": "IQdSGH4rQuYR"
      },
      "execution_count": 2,
      "outputs": []
    },
    {
      "cell_type": "code",
      "source": [
        "data = data.dropna()#40444개 ->39774개"
      ],
      "metadata": {
        "id": "hXE_c5xBHK8e"
      },
      "execution_count": 3,
      "outputs": []
    },
    {
      "cell_type": "code",
      "source": [
        "def age_group(age):\n",
        "    if age <= 29:\n",
        "        return 1\n",
        "    elif age <= 39:\n",
        "        return 2\n",
        "    elif age <= 49:\n",
        "        return 3\n",
        "    elif age <= 59:\n",
        "        return 4\n",
        "    else:\n",
        "        return 5"
      ],
      "metadata": {
        "id": "6BoSsln0dqY_"
      },
      "execution_count": 4,
      "outputs": []
    },
    {
      "cell_type": "code",
      "source": [
        "def map_edu(val):\n",
        "    if val in [1, 2]:\n",
        "        return 1\n",
        "    elif val == 3:\n",
        "        return 2\n",
        "    elif val in [4, 5]:\n",
        "        return 3\n",
        "    elif val == 6:\n",
        "        return 4\n",
        "    else:\n",
        "        return pd.NA  # 결측치 처리"
      ],
      "metadata": {
        "id": "5asXpYiMeyTD"
      },
      "execution_count": 5,
      "outputs": []
    },
    {
      "cell_type": "code",
      "source": [
        "data[\"hourly_wage\"] = (data[\"p_wage\"]*10000) / (data[\"p_hours\"] * 4.345)\n",
        "data['year'] = pd.to_numeric(data['year'], errors='coerce')\n",
        "data['p_job_begin'] = data['p_job_begin'].str.replace(r'm.*', '', regex=True)\n",
        "data['p_job_begin'] = pd.to_numeric(data['p_job_begin'], errors='coerce')\n",
        "data['경력기간'] = data['year'] - data['p_job_begin']\n",
        "data['경력기간'] = data.groupby('pid')['경력기간'].transform('max')\n",
        "data['different_year'] = data['year'].map({2017: 0, 2018: 1, 2019: 0, 2020: 1})\n",
        "data['p_sex'] = data['p_sex'].map({1: 0, 2: 1})\n",
        "data['p_age'] = data['p_age'].apply(age_group)\n",
        "data['p_edu'] = data['p_edu'].apply(map_edu)\n",
        "data['p_job_status'] = data['p_job_status'].replace(2, 0)\n",
        "data = data[~data['p_job_status'].isin([3, 4, 5])].copy()"
      ],
      "metadata": {
        "id": "6sv01KlKQ2FS"
      },
      "execution_count": 6,
      "outputs": []
    },
    {
      "cell_type": "markdown",
      "source": [
        "## 업종, 직종 전처리"
      ],
      "metadata": {
        "id": "9L94T5ETs4wp"
      }
    },
    {
      "cell_type": "code",
      "source": [
        "# 2. 직종 분류 함수\n",
        "def classify_job(job_name):\n",
        "    if pd.isna(job_name):\n",
        "        return \"기타\"\n",
        "    elif any(x in job_name for x in [\"관리\", \"전문\", \"연구\", \"의사\", \"변호사\", \"교수\", \"엔지니어\", \"기획\"]):\n",
        "        return \"관리자, 전문가 및 관련종사자\"\n",
        "    elif any(x in job_name for x in [\"사무\", \"행정\", \"회계\", \"총무\", \"비서\"]):\n",
        "        return \"사무종사자\"\n",
        "    elif any(x in job_name for x in [\"판매\", \"서비스\", \"요리\", \"식당\", \"접객\", \"농업\", \"어업\", \"호텔\", \"숙박\"]):\n",
        "        return \"서비스, 판매종사자 등\"\n",
        "    elif any(x in job_name for x in [\"기계\", \"조작\", \"조립\", \"정비\", \"운전\", \"생산\", \"설비\", \"제조\", \"전기\", \"공\", \"배선\"]):\n",
        "        return \"기능, 기계조작, 조립종사자\"\n",
        "    elif any(x in job_name for x in [\"청소\", \"미화\", \"노무\", \"단순\", \"경비\", \"하역\"]):\n",
        "        return \"단순노무종사자\"\n",
        "    else:\n",
        "        return \"기타\"\n",
        "\n",
        "# 3. 업종 분류 함수\n",
        "def classify_industry(ind_name):\n",
        "    if pd.isna(ind_name):\n",
        "        return \"기타\"\n",
        "    elif any(x in ind_name for x in [\"농업\", \"광업\", \"제조\", \"건설\", \"전기\", \"수도\", \"에너지\"]):\n",
        "        return \"농업, 광업, 제조업, 전기, 수도, 건설\"\n",
        "    elif any(x in ind_name for x in [\"도매\", \"소매\", \"유통\", \"운수\", \"물류\", \"택배\", \"숙박\", \"음식\", \"식당\"]):\n",
        "        return \"도매, 운수, 숙박\"\n",
        "    elif any(x in ind_name for x in [\"정보\", \"통신\", \"IT\", \"금융\", \"보험\", \"부동산\", \"관리\", \"시설\"]):\n",
        "        return \"정보, 금융, 부동산, 시설관리\"\n",
        "    elif any(x in ind_name for x in [\"교육\", \"병원\", \"보건\", \"의료\", \"공공\", \"연구\", \"대학\", \"행정\"]):\n",
        "        return \"전문, 공공, 교육, 보건\"\n",
        "    elif any(x in ind_name for x in [\"예술\", \"문화\", \"종교\", \"협회\", \"국제\", \"자가\", \"외교\"]):\n",
        "        return \"예술, 협회, 자가, 국제\"\n",
        "    elif any(x in ind_name for x in [\"청소\", \"방제\", \"환경\", \"위생\"]):\n",
        "        return \"청소 및 환경관리 서비스\"\n",
        "    else:\n",
        "        return \"기타\""
      ],
      "metadata": {
        "id": "B4y_GUixbchM"
      },
      "execution_count": 7,
      "outputs": []
    },
    {
      "cell_type": "code",
      "source": [
        "# 4. 분류 적용\n",
        "data['직종'] = data['job_name'].apply(classify_job)\n",
        "data['업종'] = data['산업명'].apply(classify_industry)"
      ],
      "metadata": {
        "id": "KdA5_2fpg1c3"
      },
      "execution_count": 8,
      "outputs": []
    },
    {
      "cell_type": "markdown",
      "source": [
        "## 최저임금영향집단, 최저임금미만집단 분류"
      ],
      "metadata": {
        "id": "DsNMXNmfzfQs"
      }
    },
    {
      "cell_type": "code",
      "source": [
        "# 연도별 최저임금\n",
        "min_wage_dict = {\n",
        "    2017: 6470,\n",
        "    2018: 7530,\n",
        "    2019: 8350,\n",
        "    2020: 8590\n",
        "}\n",
        "\n",
        "# 시급 대비 최저임금 비율 계산\n",
        "data['minwage_ratio'] = data.apply(\n",
        "    lambda row: row['hourly_wage'] / min_wage_dict.get(row['year'], 1)\n",
        "    if pd.notna(row['hourly_wage']) else pd.NA,\n",
        "    axis=1\n",
        ")\n",
        "\n",
        "# 개인별 연도별 시급 비율 pivot 테이블 생성\n",
        "pivot = data.pivot_table(index='pid', columns='year', values='minwage_ratio')\n",
        "\n",
        "# 함수 정의: 영향집단 vs 미만집단\n",
        "def label_minwage_group(row):\n",
        "    # 최저임금 영향집단\n",
        "    cond_before = (row.get(2017, 0) >= 1.0) or (row.get(2019, 0) >= 1.0)\n",
        "    cond_after  = (row.get(2018, 0) < 1.0) or (row.get(2020, 0) < 1.0)\n",
        "    if cond_before and cond_after:\n",
        "        return \"최저임금 영향집단\"\n",
        "\n",
        "    # 최저임금 미만집단: 2017년 기준 80% 이상이며, 전체 연도 모두 0.8 이상\n",
        "    min_all_above_80 = all((pd.isna(v) or v >= 0.8) for v in row)\n",
        "    if row.get(2017, 0) >= 0.8 and min_all_above_80:\n",
        "        return \"최저임금 미만집단\"\n",
        "\n",
        "    # 나머지는 분석 제외\n",
        "    return pd.NA\n",
        "\n",
        "# 집단 부여\n",
        "pivot['임금집단'] = pivot.apply(label_minwage_group, axis=1)\n",
        "\n",
        "# 원본 데이터와 병합\n",
        "data = data.merge(pivot[['임금집단']], left_on='pid', right_index=True, how='left')"
      ],
      "metadata": {
        "id": "CRPJOomutJ0M"
      },
      "execution_count": 9,
      "outputs": []
    },
    {
      "cell_type": "code",
      "source": [
        "data1 = data[data['임금집단']=='최저임금 영향집단']\n",
        "data2 = data[data['임금집단']=='최저임금 미만집단']\n",
        "print(len(data1),len(data2))"
      ],
      "metadata": {
        "colab": {
          "base_uri": "https://localhost:8080/"
        },
        "id": "5oa-k0XitMDg",
        "outputId": "3f1fe53f-6115-471f-a542-8d6535eec13c"
      },
      "execution_count": 10,
      "outputs": [
        {
          "output_type": "stream",
          "name": "stdout",
          "text": [
            "2815 18360\n"
          ]
        }
      ]
    },
    {
      "cell_type": "code",
      "source": [
        "import pandas as pd\n",
        "import numpy as np\n",
        "\n",
        "# 1. 정규직/비정규직 분류 (p_job_status: 0=정규직, 1=비정규직)\n",
        "data2['고용형태'] = data2['p_job_status'].map({0.0: '비정규직', 1.0: '정규직'})\n",
        "\n",
        "# 분석 변수 설정\n",
        "group_vars = {\n",
        "    '연령': 'p_age',  # 이미 그룹화된 값 (1~5)\n",
        "    '학력': 'p_edu',  # map_edu() 적용된 값 (1~4)\n",
        "    '근로시간': lambda df: np.where(df['p_hours'] <= 40, '주40시간이하', '주40시간초과'),\n",
        "    '경력년수': lambda df: pd.cut(df['경력기간'], bins=[-1, 4, 9, 14, np.inf],\n",
        "                               labels=['5년 미만', '5~10년미만', '10~15년미만', '15년이상']),\n",
        "    '업종': '업종',\n",
        "    '직종': '직종'\n",
        "}\n",
        "\n",
        "# 기초통계 요약 결과를 저장할 리스트\n",
        "summary_table = []\n",
        "\n",
        "# 연도별 & 고용형태별 반복\n",
        "for year in [2017, 2019]:\n",
        "    for emp_type in ['정규직', '비정규직']:\n",
        "        subset = data2[(data2['year'] == year) & (data2['고용형태'] == emp_type)]\n",
        "\n",
        "        row = {\n",
        "            '연도': year,\n",
        "            '고용형태': emp_type,\n",
        "            '개체 수': len(subset)\n",
        "        }\n",
        "\n",
        "        for label, var in group_vars.items():\n",
        "            col_data = pd.Series(var(subset)) if callable(var) else subset[var]\n",
        "            value_counts = col_data.value_counts(normalize=True).mul(100).round(1)\n",
        "            for category, percent in value_counts.items():\n",
        "                row[f'{label}_{category}'] = percent\n",
        "\n",
        "        summary_table.append(row)\n",
        "\n",
        "# 결과 데이터프레임 생성\n",
        "summary_df = pd.DataFrame(summary_table)\n",
        "\n",
        "# 결과 확인\n",
        "print(summary_df)"
      ],
      "metadata": {
        "id": "zO64xk_y66Sr",
        "colab": {
          "base_uri": "https://localhost:8080/"
        },
        "outputId": "ffc281c5-7d85-44d3-d6c1-daa8fc9eee67"
      },
      "execution_count": 19,
      "outputs": [
        {
          "output_type": "stream",
          "name": "stdout",
          "text": [
            "     연도  고용형태  개체 수  연령_3  연령_2  연령_4  연령_1  연령_5  학력_4  학력_3  ...  \\\n",
            "0  2017   정규직  4667  32.6  31.4  17.5  13.2   5.3  40.1  27.6  ...   \n",
            "1  2017  비정규직   773  24.7  18.4  19.3  19.1  18.5  27.4  22.1  ...   \n",
            "2  2019   정규직  3839  36.7  28.0  21.3   7.6   6.4  40.9  27.5  ...   \n",
            "3  2019  비정규직   482  22.2  20.5  21.2  11.4  24.7  28.8  19.5  ...   \n",
            "\n",
            "   업종_도매, 운수, 숙박  업종_정보, 금융, 부동산, 시설관리  업종_예술, 협회, 자가, 국제  업종_청소 및 환경관리 서비스  \\\n",
            "0           13.9                   9.8                0.7               0.3   \n",
            "1           21.1                  12.0                0.5               1.0   \n",
            "2           14.0                   9.9                0.8               0.4   \n",
            "3           19.7                  13.1                0.6               0.6   \n",
            "\n",
            "   직종_사무종사자  직종_기타  직종_기능, 기계조작, 조립종사자  직종_관리자, 전문가 및 관련종사자  직종_서비스, 판매종사자 등  \\\n",
            "0      28.4   26.4                25.8                  9.2              8.1   \n",
            "1      10.5   31.8                13.3                  8.9             26.4   \n",
            "2      28.1   26.0                26.7                  9.9              7.6   \n",
            "3      10.8   34.0                12.4                 10.8             22.4   \n",
            "\n",
            "   직종_단순노무종사자  \n",
            "0         2.1  \n",
            "1         9.1  \n",
            "2         1.6  \n",
            "3         9.5  \n",
            "\n",
            "[4 rows x 31 columns]\n"
          ]
        },
        {
          "output_type": "stream",
          "name": "stderr",
          "text": [
            "<ipython-input-19-82d15fdff2aa>:5: SettingWithCopyWarning: \n",
            "A value is trying to be set on a copy of a slice from a DataFrame.\n",
            "Try using .loc[row_indexer,col_indexer] = value instead\n",
            "\n",
            "See the caveats in the documentation: https://pandas.pydata.org/pandas-docs/stable/user_guide/indexing.html#returning-a-view-versus-a-copy\n",
            "  data2['고용형태'] = data2['p_job_status'].map({0.0: '비정규직', 1.0: '정규직'})\n"
          ]
        }
      ]
    },
    {
      "cell_type": "code",
      "source": [
        "data1['p_age'].value_counts()"
      ],
      "metadata": {
        "colab": {
          "base_uri": "https://localhost:8080/",
          "height": 272
        },
        "id": "YxIfyKNozF7q",
        "outputId": "c47cde57-657c-4abc-ccb6-c8c77cbf1913"
      },
      "execution_count": 23,
      "outputs": [
        {
          "output_type": "execute_result",
          "data": {
            "text/plain": [
              "p_age\n",
              "5    976\n",
              "4    659\n",
              "3    554\n",
              "2    357\n",
              "1    269\n",
              "Name: count, dtype: int64"
            ],
            "text/html": [
              "<div>\n",
              "<style scoped>\n",
              "    .dataframe tbody tr th:only-of-type {\n",
              "        vertical-align: middle;\n",
              "    }\n",
              "\n",
              "    .dataframe tbody tr th {\n",
              "        vertical-align: top;\n",
              "    }\n",
              "\n",
              "    .dataframe thead th {\n",
              "        text-align: right;\n",
              "    }\n",
              "</style>\n",
              "<table border=\"1\" class=\"dataframe\">\n",
              "  <thead>\n",
              "    <tr style=\"text-align: right;\">\n",
              "      <th></th>\n",
              "      <th>count</th>\n",
              "    </tr>\n",
              "    <tr>\n",
              "      <th>p_age</th>\n",
              "      <th></th>\n",
              "    </tr>\n",
              "  </thead>\n",
              "  <tbody>\n",
              "    <tr>\n",
              "      <th>5</th>\n",
              "      <td>976</td>\n",
              "    </tr>\n",
              "    <tr>\n",
              "      <th>4</th>\n",
              "      <td>659</td>\n",
              "    </tr>\n",
              "    <tr>\n",
              "      <th>3</th>\n",
              "      <td>554</td>\n",
              "    </tr>\n",
              "    <tr>\n",
              "      <th>2</th>\n",
              "      <td>357</td>\n",
              "    </tr>\n",
              "    <tr>\n",
              "      <th>1</th>\n",
              "      <td>269</td>\n",
              "    </tr>\n",
              "  </tbody>\n",
              "</table>\n",
              "</div><br><label><b>dtype:</b> int64</label>"
            ]
          },
          "metadata": {},
          "execution_count": 23
        }
      ]
    },
    {
      "cell_type": "code",
      "source": [
        "data"
      ],
      "metadata": {
        "id": "munzCqxy98bm"
      },
      "execution_count": null,
      "outputs": []
    }
  ]
}