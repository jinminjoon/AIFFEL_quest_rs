{
 "cells": [
  {
   "cell_type": "markdown",
   "id": "fb10e9e1",
   "metadata": {},
   "source": [
    "# 데이터 불러오기"
   ]
  },
  {
   "cell_type": "code",
   "execution_count": 2,
   "id": "e6e8a4a8",
   "metadata": {
    "collapsed": true
   },
   "outputs": [
    {
     "name": "stdout",
     "output_type": "stream",
     "text": [
      "사운드 엔지니어 상우(유지태 분)는 치매에 걸린 할머니(백성희 분)와\n",
      " 젊은 시절 상처한 한 아버지(박인환 분), 고모(신신애 분)와 함께 살고 있다.\n",
      " 어느 겨울 그는 지방 방송국 라디오 PD 은수(이영애 분)를 만난다.\n",
      " 자연의 소리를 채집해 틀어주는 라디오 프로그램을 준비하는 은수는 상우와 녹음 여행을 떠난다.\n",
      " 자연스레 가까워지는 두 사람은 어느 날, 은수의 아파트에서 밤을 보낸다.\n",
      " 너무 쉽게 사랑에 빠진 두 사람... 상우는 주체할 수 없을 정도로 그녀에게 빨려든다.\n",
      " 그러나 겨울에 만난 두 사람의 관계는 봄을 지나 여름을 맞이하면서 삐걱거린다.\n",
      " 이혼 경험이 있는 은수는 상우에게 결혼할 생각이 없다며 부담스러운 표정을 내비친다.\n",
      " \"어떻게 사랑이 변하니?...\"라고 묻는 상우에게 은수는 그저 \"헤어져\" 라고 단호하게 말한다.\n",
      " 영원히 변할 것 같지 않던 사랑이 변하고, 그 사실을 받아들이지 못하는 상우는 어찌 할 바를 모른다.\n",
      " 은수를 잊지 못하는 상우는 미련과 집착의 감정을 이기지 못하고 서울과 강릉을 오간다.\n",
      "유사 이래 연령, 성별, 빈부의 차이와 정치적인 입장을 불문하고 일거에 국민을 통합해 온 '애국심'이라는 성역에 일침을 가하는 다큐멘터리. 재작년 전국 민족민주 유가족협의회의 장기농성을 다룬 인상적인 다큐멘터리 <민들레>를 만들었던 독립영화집단 '빨간 눈사람'이 우리 사회 구석구석을 발빠르게 돌아다니며 애국심과 민족주의가 강요되는 현장을 발굴하여 카메라에 담았다. 박홍 서강대 명예총장, 이도형 '한국논단' 발행인, 축구해설자 신문선, 홍세화, 박노해 등 사회 각계의 '스타'들이 등장해 저마다의 확고한 신념을 성토한다. 감독 이경순과 최하동하는 이 작품을 위해 3년간 백여 명을 인터뷰했다고 한다. 2001 올해의 독립영화상 수상.\n",
      " 민족과 국가란 공동체에서 부단히 권력과 부를 얻는 자, 나아가 민족과 국가란 공동체에서 얻은 신분과 부귀를 영원히 그의 자손에게 대물림하려는 자, 그래서 민족과 국가란 공동체를 부단히 유지해야만 하는 자, 따라서 민족과 국가란 공동체의 당위성과 개인의 가치를 초월하는 그 존엄성을 끝도 없이 창조하고 되뇌어야 하는 자, 종국에는 민족과 국가란 공동체에 속해 있다고 태내에서부터 세뇌된 모든 이들의 삶과 행동에서 영원히 자기복제되는 순환의 고리, 영생하는 애국의 원동력은 그 순환의 골에서 온다.\n",
      "엽기적인 살인사건이 발생한 장소를 관광하는 투어팀. 그 팀에서 관광객들은 살인사건과 관련하여 히스테리컬한 반응을 보이는데 과연 이들의 정체는? (Tourists see whrer a murder take place. They respond hysterically to the murder…what are they?)\n",
      " 제46회 발라돌리드 국제영화제 (2001, 스페인)\n",
      "착하지만 엉뚱한 태희(배두나 분), 예쁜 깍쟁이 혜주(이요원 분), 그림을 잘 그리는 지영(옥지영 분), 명랑한 쌍둥이 비류(이은실 분)와 온조(이은주 분)는 단짝친구들. 늘 함께였던 그들이지만 스무 살이 되면서 길이 달라진다. 증권회사에 입사한 혜주는 성공한 커리어우먼의 야심을 키우고 미술에 재능이 있는 지영은 유학을 꿈꾼다. 한편 태희는 봉사활동에서 알게 된 뇌성마비 시인을 좋아하는데...\n",
      "  어느 날 지영이 길 잃은 새끼 고양이 티티를 만남면서 스무 살 그녀들의 삶에 고양이 한 마리가 끼어들게 된다. 혼자 있길 좋아하고, 쉽게 마음을 열지 않는 신비로운 동물 고양이. 고양이를 닮은 스무 살 그녀들. 고양이 티티와 함께 한 시간동안 삶은 예상못한 방향으로 흘러가지만 마침내 그녀들만의 해결책을 찾게 되는데... 사랑스런 몽상가 태희, 아름다운 야심가 혜주, 신비로운 아웃사이더 지영. 마지막으로 고양이를 부탁받은 사람은 누구일까?\n",
      "인도 등 아시아 식민지에 처음 발을 디딘 뒤 여행하고 “경영”한 이들은 과연 누구였을까? 과거의 이미지들은, 이민과 인종 문제, ‘오리엔탈리즘’이 격렬히 충돌하고 있는 현재와 강력하게 공명한다.\n",
      " [제19회 인디다큐페스티발]\n",
      "홀로 살아가는 미국 할머니와 한국 할머니의 이야기. 공원에서 가끔 마주치게 되는 그들은 비록 언어 소통의 어려움을 겪지만 시간이 흘러감에 따라 서로 가까워져 그들의 외로움과 우정을 공유하게 된다. 겨울이 지나고 봄이 왔을 때 길가의 민들레 홀씨는 삶의 이치를 말해주듯 한 할머니의 주위를 맴돈다. (Two elderly widows, an American and a Korean, frequent the same park in Philadelphia and attempt a friendship, though the Korean widow speaks no English. Driven by loneliness and a spark of hope, they persevere within the limits of body language, and the outcome poses a question of life as fundamental as a flower.)\n"
     ]
    }
   ],
   "source": [
    "import os\n",
    "\n",
    "with open(os.getenv('HOME')+'/aiffel/weat/synopsis.txt','r') as file:\n",
    "    for i in range(20):\n",
    "        print(file.readline(), end='')"
   ]
  },
  {
   "cell_type": "markdown",
   "id": "0cb8dc2d",
   "metadata": {},
   "source": [
    "## 명사만 추출하는 코드"
   ]
  },
  {
   "cell_type": "code",
   "execution_count": 59,
   "id": "e7680be6",
   "metadata": {},
   "outputs": [],
   "source": [
    "import os\n",
    "from konlpy.tag import Okt\n",
    "okt = Okt()\n",
    "tokenized = []\n",
    "\n",
    "# 파일 열기\n",
    "with open(os.getenv('HOME')+'/aiffel/weat/synopsis.txt', 'r') as file:\n",
    "    for line in file:\n",
    "        # 명사만 추출\n",
    "        nouns = okt.nouns(line)\n",
    "        tokenized.append(nouns)\n",
    "\n",
    "# 결과 확인"
   ]
  },
  {
   "cell_type": "code",
   "execution_count": 60,
   "id": "1f526efe",
   "metadata": {},
   "outputs": [
    {
     "name": "stdout",
     "output_type": "stream",
     "text": [
      "71156\n"
     ]
    }
   ],
   "source": [
    "print(len(tokenized))"
   ]
  },
  {
   "cell_type": "code",
   "execution_count": 61,
   "id": "629007ac",
   "metadata": {},
   "outputs": [
    {
     "data": {
      "text/plain": [
       "[('작품', 0.8770835995674133),\n",
       " ('다큐멘터리', 0.8325138688087463),\n",
       " ('드라마', 0.8025432825088501),\n",
       " ('영화로', 0.7839052677154541),\n",
       " ('주제', 0.7747660279273987),\n",
       " ('감동', 0.7719631195068359),\n",
       " ('형식', 0.7698812484741211),\n",
       " ('소재', 0.7692327499389648),\n",
       " ('코미디', 0.762312114238739),\n",
       " ('버자이너', 0.7492536902427673)]"
      ]
     },
     "execution_count": 61,
     "metadata": {},
     "output_type": "execute_result"
    }
   ],
   "source": [
    "from gensim.models import Word2Vec\n",
    "\n",
    "# tokenized에 담긴 데이터를 가지고 나만의 Word2Vec을 생성합니다. (Gensim 4.0 기준)\n",
    "model = Word2Vec(tokenized, vector_size=100, window=5, min_count=3, sg=0)  \n",
    "model.wv.most_similar(positive=['영화'])"
   ]
  },
  {
   "cell_type": "code",
   "execution_count": 62,
   "id": "8882d5d5",
   "metadata": {},
   "outputs": [],
   "source": [
    "import os\n",
    "from sklearn.feature_extraction.text import TfidfVectorizer\n",
    "import numpy as np\n",
    "from konlpy.tag import Okt\n",
    "\n",
    "art_txt = 'synopsis_art.txt'\n",
    "gen_txt = 'synopsis_gen.txt'\n",
    "\n",
    "def read_token(file_name):\n",
    "    okt = Okt()\n",
    "    result = []\n",
    "    with open(os.getenv('HOME')+'/aiffel/weat/'+file_name, 'r') as fread: \n",
    "        print(file_name, '파일을 읽고 있습니다.')\n",
    "        while True:\n",
    "            line = fread.readline() \n",
    "            if not line: break \n",
    "            tokenlist = okt.pos(line, stem=True, norm=True) \n",
    "            for word in tokenlist:\n",
    "                if word[1] in [\"Noun\"]:#, \"Adjective\", \"Verb\"]:\n",
    "                    result.append((word[0])) \n",
    "    return ' '.join(result)"
   ]
  },
  {
   "cell_type": "code",
   "execution_count": 63,
   "id": "227c6e6e",
   "metadata": {},
   "outputs": [
    {
     "name": "stdout",
     "output_type": "stream",
     "text": [
      "synopsis_art.txt 파일을 읽고 있습니다.\n",
      "synopsis_gen.txt 파일을 읽고 있습니다.\n"
     ]
    }
   ],
   "source": [
    "art = read_token(art_txt)\n",
    "gen = read_token(gen_txt)"
   ]
  },
  {
   "cell_type": "markdown",
   "id": "d08f16d7",
   "metadata": {},
   "source": [
    "# 데이터셋을 잘 대표하는 단어를 TF-IDF 방식으로 선정"
   ]
  },
  {
   "cell_type": "code",
   "execution_count": 64,
   "id": "62acfd28",
   "metadata": {},
   "outputs": [],
   "source": [
    "vectorizer = TfidfVectorizer()\n",
    "X = vectorizer.fit_transform([art, gen])"
   ]
  },
  {
   "cell_type": "code",
   "execution_count": 65,
   "id": "62c7be6b",
   "metadata": {},
   "outputs": [
    {
     "name": "stdout",
     "output_type": "stream",
     "text": [
      "예술영화를 대표하는 단어 50개:\n",
      "그녀, 자신, 시작, 위해, 사랑, 사람, "
     ]
    },
    {
     "name": "stderr",
     "output_type": "stream",
     "text": [
      "/opt/conda/lib/python3.9/site-packages/sklearn/utils/deprecation.py:87: FutureWarning: Function get_feature_names is deprecated; get_feature_names is deprecated in 1.0 and will be removed in 1.2. Please use get_feature_names_out instead.\n",
      "  warnings.warn(msg, category=FutureWarning)\n"
     ]
    },
    {
     "name": "stdout",
     "output_type": "stream",
     "text": [
      "영화, 친구, 남자, 가족, 이야기, 마을, 사건, 마음, 세상, 아버지, 아이, 엄마, 모든, 여자, 대한, 서로, 과연, 다시, 시간, 아들, 소녀, 아내, 다른, 사이, 영화제, 세계, 사실, 하나, 점점, 남편, 감독, 여행, 인생, 발견, 모두, 순간, 우리, 가장, 마지막, 생활, 아빠, 모습, 통해, 죽음, \n",
      "\n",
      "일반영화를 대표하는 단어 50개:\n",
      "자신, 그녀, 영화제, 위해, 사람, 시작, 국제, 영화, 친구, 사랑, 남자, 이야기, 대한, 서울, 여자, 사건, 남편, 아이, 가족, 아버지, 다른, 마을, 시간, 엄마, 아들, 모든, 단편, 마음, 사실, 다시, 세계, 모습, 작품, 통해, 생각, 서로, 세상, 발견, 감독, 아내, 관계, 소녀, 사이, 하나, 우리, 애니메이션, 때문, 여성, 죽음, 과연, "
     ]
    }
   ],
   "source": [
    "# 예술영화를 대표하는 단어 50개, 일반영화를 대표하는 단어 50개 선정\n",
    "m1 = X[0].tocoo()    \n",
    "m2 = X[1].tocoo()    \n",
    "\n",
    "w1 = [[i, j] for i, j in zip(m1.col, m1.data)]\n",
    "w2 = [[i, j] for i, j in zip(m2.col, m2.data)]\n",
    "\n",
    "w1.sort(key=lambda x: x[1], reverse=True)    \n",
    "w2.sort(key=lambda x: x[1], reverse=True)    \n",
    "\n",
    "print('예술영화를 대표하는 단어 50개:')\n",
    "for i in range(50):\n",
    "    print(vectorizer.get_feature_names()[w1[i][0]], end=', ')\n",
    "\n",
    "print('\\n')\n",
    "    \n",
    "print('일반영화를 대표하는 단어 50개:')\n",
    "for i in range(50):\n",
    "    print(vectorizer.get_feature_names()[w2[i][0]], end=', ')\n"
   ]
  },
  {
   "cell_type": "markdown",
   "id": "25a789ad",
   "metadata": {},
   "source": [
    "## 위의 코드에서 중복되는 단어들을 제거하고 중요단어를 순서대로 추린다."
   ]
  },
  {
   "cell_type": "code",
   "execution_count": 66,
   "id": "ba25d88b",
   "metadata": {},
   "outputs": [],
   "source": [
    "# 그 중 선정된 50개 중 10개만 추린 코드(각 항목에는 중복되지 않는 단일 항목에만 존재하는 단어 10개 추출)\n",
    "n = 10\n",
    "w1_, w2_ = [], []\n",
    "for i in range(100):\n",
    "    w1_.append(vectorizer.get_feature_names()[w1[i][0]])\n",
    "    w2_.append(vectorizer.get_feature_names()[w2[i][0]])\n",
    "\n",
    "# w1에만 있고 w2에는 없는, 예술영화를 잘 대표하는 단어를 10개 추출\n",
    "target_art, target_gen = [], []\n",
    "for i in range(100):\n",
    "    if (w1_[i] not in w2_) and (w1_[i] in model.wv): target_art.append(w1_[i])\n",
    "    if len(target_art) == n: break \n",
    "\n",
    "# w2에만 있고 w1에는 없는, 일반영화를 잘 대표하는 단어를 10개 추출\n",
    "for i in range(100):\n",
    "    if (w2_[i] not in w1_) and (w2_[i] in model.wv): target_gen.append(w2_[i])\n",
    "    if len(target_gen) == n: break\n",
    "\n",
    "## 두 개념축이 상반되도록 대표하는 단어셋을 만들어야하기에 \n",
    "##단어가 서로 중복되지 않게 단어셋을 추출해야한다."
   ]
  },
  {
   "cell_type": "code",
   "execution_count": 67,
   "id": "6ab97afc",
   "metadata": {},
   "outputs": [
    {
     "data": {
      "text/plain": [
       "['아빠', '음악', '결심', '운명', '지금', '여인', '이름', '이후', '준비', '감정']"
      ]
     },
     "execution_count": 67,
     "metadata": {},
     "output_type": "execute_result"
    }
   ],
   "source": [
    "target_art"
   ]
  },
  {
   "cell_type": "code",
   "execution_count": 68,
   "id": "df6ad61f",
   "metadata": {},
   "outputs": [
    {
     "data": {
      "text/plain": [
       "['서울', '애니메이션', '여성', '가지', '주인공', '대해', '연출', '사회', '다큐멘터리', '부문']"
      ]
     },
     "execution_count": 68,
     "metadata": {},
     "output_type": "execute_result"
    }
   ],
   "source": [
    "target_gen"
   ]
  },
  {
   "cell_type": "code",
   "execution_count": 69,
   "id": "b80fd5c8",
   "metadata": {},
   "outputs": [],
   "source": [
    "genre_txt = ['synopsis_drama.txt', 'synopsis_romance.txt', 'synopsis_action.txt', 'synopsis_comedy.txt', 'synopsis_war.txt', 'synopsis_horror.txt']\n",
    "genre_name = ['드라마', '멜로로맨스', '액션', '코미디', '전쟁', '공포(호러)']"
   ]
  },
  {
   "cell_type": "code",
   "execution_count": 70,
   "id": "efbcefc3",
   "metadata": {},
   "outputs": [
    {
     "name": "stdout",
     "output_type": "stream",
     "text": [
      "synopsis_drama.txt 파일을 읽고 있습니다.\n",
      "synopsis_romance.txt 파일을 읽고 있습니다.\n",
      "synopsis_action.txt 파일을 읽고 있습니다.\n",
      "synopsis_comedy.txt 파일을 읽고 있습니다.\n",
      "synopsis_war.txt 파일을 읽고 있습니다.\n",
      "synopsis_horror.txt 파일을 읽고 있습니다.\n"
     ]
    }
   ],
   "source": [
    "genre = []\n",
    "for file_name in genre_txt:\n",
    "    genre.append(read_token(file_name))\n"
   ]
  },
  {
   "cell_type": "code",
   "execution_count": 71,
   "id": "0e41af12",
   "metadata": {},
   "outputs": [],
   "source": [
    "vectorizer = TfidfVectorizer()\n",
    "X = vectorizer.fit_transform(genre)"
   ]
  },
  {
   "cell_type": "markdown",
   "id": "f2d42aec",
   "metadata": {},
   "source": [
    "### '드라마', '멜로로맨스', '액션', '코미디', '전쟁', '공포(호러)' (각 장르마다 중복되지않게끔 하면 각각의 6개의 장르마다 나온 단어는 중복되지않게 10개 단어 추출\n",
    "### 예를들어 드라마에 나온10개의 단어는 나머지 6개 장르의 단어에는 중복되지 않게 처리했음###"
   ]
  },
  {
   "cell_type": "code",
   "execution_count": 72,
   "id": "ccf92c27",
   "metadata": {},
   "outputs": [
    {
     "name": "stdout",
     "output_type": "stream",
     "text": [
      "드라마: 자신, 영화제, 그녀, 사람, 사랑, 위해, 영화, 시작, 국제, 남자, \n",
      "멜로로맨스: 남편, 여자, 친구, 마음, 섹스, 결혼, 서로, 아내, 관계, 부부, \n",
      "액션: 조직, 사건, 경찰, 전쟁, 모든, 목숨, 사실, 세계, 가족, 한편, \n",
      "코미디: 과연, 마을, 이야기, 인생, 아이, 아버지, 생각, 다른, 생활, 엄마, \n",
      "전쟁: 전투, 작전, 독일군, 부대, 독일, 윈터스, 공격, 임무, 연합군, 병사, \n",
      "공포(호러): 공포, 발견, 죽음, 하나, 소녀, 살인, 좀비, 정체, 비밀, 점점, \n"
     ]
    }
   ],
   "source": [
    "attributes = []\n",
    "used_words = set()  # 이미 선택된 단어를 저장할 집합\n",
    "\n",
    "# 각 장르에 대해 중복되지 않게 단어 추출\n",
    "for i in range(len(w)):\n",
    "    print(genre_name[i], end=': ')\n",
    "    attr = []\n",
    "    j = 0\n",
    "    \n",
    "    # 각 장르별로 10개 단어를 선택\n",
    "    while len(attr) < 10:\n",
    "        candidate_word = vectorizer.get_feature_names()[w[i][j][0]]\n",
    "        \n",
    "        # 단어가 model에 있고, 아직 다른 장르에서 선택되지 않은 경우에만 추가\n",
    "        if candidate_word in model.wv and candidate_word not in used_words:\n",
    "            attr.append(candidate_word)\n",
    "            used_words.add(candidate_word)  # 선택된 단어를 중복 방지를 위해 저장\n",
    "            print(candidate_word, end=', ')\n",
    "        \n",
    "        j += 1\n",
    "    \n",
    "    attributes.append(attr)\n",
    "    print() "
   ]
  },
  {
   "cell_type": "code",
   "execution_count": 73,
   "id": "5015d916",
   "metadata": {},
   "outputs": [],
   "source": [
    "matrix = [[0 for _ in range(len(genre_name))] for _ in range(len(genre_name))]"
   ]
  },
  {
   "cell_type": "code",
   "execution_count": 74,
   "id": "b42fa0be",
   "metadata": {},
   "outputs": [],
   "source": [
    "def cos_sim(i, j):\n",
    "    return np.dot(i, j.T) / (np.linalg.norm(i) * np.linalg.norm(j))\n",
    "\n",
    "def s(w, A, B):\n",
    "    c_a = cos_sim(w, A)\n",
    "    c_b = cos_sim(w, B)\n",
    "    mean_A = np.mean(c_a, axis=-1)\n",
    "    mean_B = np.mean(c_b, axis=-1)\n",
    "    return mean_A - mean_B"
   ]
  },
  {
   "cell_type": "code",
   "execution_count": 75,
   "id": "32977c6d",
   "metadata": {},
   "outputs": [],
   "source": [
    "def weat_score(X, Y, A, B):\n",
    "    s_X = np.array([s(x, A, B) for x in X])  # Apply s() function to each word in X\n",
    "    s_Y = np.array([s(y, A, B) for y in Y])  # Apply s() function to each word in Y\n",
    "\n",
    "    mean_X = np.mean(s_X)\n",
    "    mean_Y = np.mean(s_Y)\n",
    "    \n",
    "    std_dev = np.std(np.concatenate([s_X, s_Y], axis=0))\n",
    "    \n",
    "    return (mean_X - mean_Y) / std_dev"
   ]
  },
  {
   "cell_type": "code",
   "execution_count": 76,
   "id": "01054a26",
   "metadata": {},
   "outputs": [
    {
     "name": "stdout",
     "output_type": "stream",
     "text": [
      "[[ 0.         -1.17856526 -0.67389816 -0.89165705 -0.37779695 -0.81532586]\n",
      " [ 0.          0.          0.68135768  0.71320385  0.54052633  0.58684158]\n",
      " [ 0.          0.          0.         -0.20270783  0.17294191 -0.32814282]\n",
      " [ 0.          0.          0.          0.          0.23502685 -0.11095098]\n",
      " [ 0.          0.          0.          0.          0.         -0.26570243]\n",
      " [ 0.          0.          0.          0.          0.          0.        ]]\n"
     ]
    }
   ],
   "source": [
    "X = np.array([model.wv[word] for word in target_art])\n",
    "Y = np.array([model.wv[word] for word in target_gen])\n",
    "\n",
    "matrix = np.zeros((len(genre_name), len(genre_name)))\n",
    "\n",
    "for i in range(len(genre_name) - 1):\n",
    "    for j in range(i + 1, len(genre_name)):\n",
    "        A = np.array([model.wv[word] for word in attributes[i]])\n",
    "        B = np.array([model.wv[word] for word in attributes[j]])\n",
    "        matrix[i][j] = weat_score(X, Y, A, B)  # model을 전달하지 않음\n",
    "\n",
    "# Print or use matrix as needed\n",
    "print(matrix)"
   ]
  },
  {
   "cell_type": "code",
   "execution_count": 77,
   "id": "0750bb1d",
   "metadata": {},
   "outputs": [
    {
     "name": "stdout",
     "output_type": "stream",
     "text": [
      "드라마 멜로로맨스 -1.178565263748169\n",
      "드라마 액션 -0.6738981604576111\n",
      "드라마 코미디 -0.8916570544242859\n",
      "드라마 전쟁 -0.3777969479560852\n",
      "드라마 공포(호러) -0.8153258562088013\n",
      "멜로로맨스 액션 0.6813576817512512\n",
      "멜로로맨스 코미디 0.7132038474082947\n",
      "멜로로맨스 전쟁 0.5405263304710388\n",
      "멜로로맨스 공포(호러) 0.5868415832519531\n",
      "액션 코미디 -0.20270782709121704\n",
      "액션 전쟁 0.1729419082403183\n",
      "액션 공포(호러) -0.32814282178878784\n",
      "코미디 전쟁 0.23502685129642487\n",
      "코미디 공포(호러) -0.11095098406076431\n",
      "전쟁 공포(호러) -0.26570242643356323\n"
     ]
    }
   ],
   "source": [
    "for i in range(len(genre_name)-1):\n",
    "    for j in range(i+1, len(genre_name)):\n",
    "        print(genre_name[i], genre_name[j],matrix[i][j])"
   ]
  },
  {
   "cell_type": "markdown",
   "id": "b086d16c",
   "metadata": {},
   "source": [
    "## 결론\n",
    "드라마 멜로로맨스는 -1.17이기 때문에 예술영화이고\n",
    "멜로로맨스 코미디는 0.720이기 때문에 일반영화와 같은 인사이트를 도출할 수 있다."
   ]
  },
  {
   "cell_type": "code",
   "execution_count": 78,
   "id": "8644cb71",
   "metadata": {},
   "outputs": [
    {
     "data": {
      "text/plain": [
       "<AxesSubplot:>"
      ]
     },
     "execution_count": 78,
     "metadata": {},
     "output_type": "execute_result"
    },
    {
     "data": {
      "image/png": "[encoded data removed]",
      "text/plain": [
       "<Figure size 432x288 with 2 Axes>"
      ]
     },
     "metadata": {},
     "output_type": "display_data"
    }
   ],
   "source": [
    "import numpy as np; \n",
    "import seaborn as sns; \n",
    "import matplotlib.pyplot as plt\n",
    "np.random.seed(0)\n",
    "\n",
    "# 한글 지원 폰트\n",
    "sns.set(font='NanumGothic')\n",
    "\n",
    "# 마이너스 부호 \n",
    "\n",
    "plt.rcParams['axes.unicode_minus'] = False\n",
    "\n",
    "ax = sns.heatmap(matrix, xticklabels=genre_name, yticklabels=genre_name, annot=True,  cmap='RdYlGn_r')\n",
    "ax"
   ]
  },
  {
   "cell_type": "markdown",
   "id": "c188ccbf",
   "metadata": {},
   "source": [
    "### 회고\n",
    "1. TF-IDF 방식을 활용하여 중요단어를 추출\n",
    "2. 각각 장르별로 중요단어 10개정도를 추출하고 각 장르별로는 중복되지않게 장르별 10개단어를 추출\n",
    "3. 그 후 임베딩 편향성을 확인\n",
    "4. 재미있는 프로젝트였다."
   ]
  },
  {
   "cell_type": "code",
   "execution_count": null,
   "id": "935d5000",
   "metadata": {},
   "outputs": [],
   "source": []
  }
 ],
 "metadata": {
  "kernelspec": {
   "display_name": "Python 3 (ipykernel)",
   "language": "python",
   "name": "python3"
  },
  "language_info": {
   "codemirror_mode": {
    "name": "ipython",
    "version": 3
   },
   "file_extension": ".py",
   "mimetype": "text/x-python",
   "name": "python",
   "nbconvert_exporter": "python",
   "pygments_lexer": "ipython3",
   "version": "3.9.7"
  }
 },
 "nbformat": 4,
 "nbformat_minor": 5
}
