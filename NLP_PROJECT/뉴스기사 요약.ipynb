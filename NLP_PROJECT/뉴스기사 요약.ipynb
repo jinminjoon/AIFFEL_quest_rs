{
 "cells": [
  {
   "cell_type": "code",
   "execution_count": 1,
   "id": "d6dcf1e9",
   "metadata": {},
   "outputs": [
    {
     "name": "stdout",
     "output_type": "stream",
     "text": [
      "3.6.5\n",
      "2.6.0\n",
      "1.3.3\n",
      "1.2.0\n"
     ]
    }
   ],
   "source": [
    "from importlib.metadata import version\n",
    "import nltk\n",
    "import tensorflow\n",
    "import summa\n",
    "import pandas as pd\n",
    "\n",
    "\n",
    "import numpy as np\n",
    "import pandas as pd\n",
    "import os\n",
    "import re\n",
    "import matplotlib.pyplot as plt\n",
    "from nltk.corpus import stopwords\n",
    "from bs4 import BeautifulSoup \n",
    "from tensorflow.keras.preprocessing.text import Tokenizer \n",
    "from tensorflow.keras.preprocessing.sequence import pad_sequences\n",
    "import urllib.request\n",
    "import warnings\n",
    "\n",
    "print(nltk.__version__)\n",
    "print(tensorflow.__version__)\n",
    "print(pd.__version__)\n",
    "print(version('summa'))"
   ]
  },
  {
   "cell_type": "code",
   "execution_count": 2,
   "id": "e584bd25",
   "metadata": {},
   "outputs": [],
   "source": [
    "import urllib.request\n",
    "urllib.request.urlretrieve(\"https://raw.githubusercontent.com/sunnysai12345/News_Summary/master/news_summary_more.csv\", filename=\"news_summary_more.csv\")\n",
    "data = pd.read_csv('news_summary_more.csv', encoding='iso-8859-1')"
   ]
  },
  {
   "cell_type": "code",
   "execution_count": 3,
   "id": "2f9b0462",
   "metadata": {},
   "outputs": [
    {
     "data": {
      "text/html": [
       "<div>\n",
       "<style scoped>\n",
       "    .dataframe tbody tr th:only-of-type {\n",
       "        vertical-align: middle;\n",
       "    }\n",
       "\n",
       "    .dataframe tbody tr th {\n",
       "        vertical-align: top;\n",
       "    }\n",
       "\n",
       "    .dataframe thead th {\n",
       "        text-align: right;\n",
       "    }\n",
       "</style>\n",
       "<table border=\"1\" class=\"dataframe\">\n",
       "  <thead>\n",
       "    <tr style=\"text-align: right;\">\n",
       "      <th></th>\n",
       "      <th>headlines</th>\n",
       "      <th>text</th>\n",
       "    </tr>\n",
       "  </thead>\n",
       "  <tbody>\n",
       "    <tr>\n",
       "      <th>0</th>\n",
       "      <td>upGrad learner switches to career in ML &amp; Al w...</td>\n",
       "      <td>Saurav Kant, an alumnus of upGrad and IIIT-B's...</td>\n",
       "    </tr>\n",
       "    <tr>\n",
       "      <th>1</th>\n",
       "      <td>Delhi techie wins free food from Swiggy for on...</td>\n",
       "      <td>Kunal Shah's credit card bill payment platform...</td>\n",
       "    </tr>\n",
       "    <tr>\n",
       "      <th>2</th>\n",
       "      <td>New Zealand end Rohit Sharma-led India's 12-ma...</td>\n",
       "      <td>New Zealand defeated India by 8 wickets in the...</td>\n",
       "    </tr>\n",
       "    <tr>\n",
       "      <th>3</th>\n",
       "      <td>Aegon life iTerm insurance plan helps customer...</td>\n",
       "      <td>With Aegon Life iTerm Insurance plan, customer...</td>\n",
       "    </tr>\n",
       "    <tr>\n",
       "      <th>4</th>\n",
       "      <td>Have known Hirani for yrs, what if MeToo claim...</td>\n",
       "      <td>Speaking about the sexual harassment allegatio...</td>\n",
       "    </tr>\n",
       "  </tbody>\n",
       "</table>\n",
       "</div>"
      ],
      "text/plain": [
       "                                           headlines  \\\n",
       "0  upGrad learner switches to career in ML & Al w...   \n",
       "1  Delhi techie wins free food from Swiggy for on...   \n",
       "2  New Zealand end Rohit Sharma-led India's 12-ma...   \n",
       "3  Aegon life iTerm insurance plan helps customer...   \n",
       "4  Have known Hirani for yrs, what if MeToo claim...   \n",
       "\n",
       "                                                text  \n",
       "0  Saurav Kant, an alumnus of upGrad and IIIT-B's...  \n",
       "1  Kunal Shah's credit card bill payment platform...  \n",
       "2  New Zealand defeated India by 8 wickets in the...  \n",
       "3  With Aegon Life iTerm Insurance plan, customer...  \n",
       "4  Speaking about the sexual harassment allegatio...  "
      ]
     },
     "execution_count": 3,
     "metadata": {},
     "output_type": "execute_result"
    }
   ],
   "source": [
    "data.head(5)"
   ]
  },
  {
   "cell_type": "markdown",
   "id": "cf5c239d",
   "metadata": {},
   "source": [
    "## 데이터전처리(추상적 요약)"
   ]
  },
  {
   "cell_type": "code",
   "execution_count": 4,
   "id": "1683b173",
   "metadata": {},
   "outputs": [
    {
     "name": "stdout",
     "output_type": "stream",
     "text": [
      "정규화 사전의 수:  120\n"
     ]
    }
   ],
   "source": [
    "## 정규화 사전(축약같은걸 원문으로 변경)\n",
    "\n",
    "contractions = {\"ain't\": \"is not\", \"aren't\": \"are not\",\"can't\": \"cannot\", \"'cause\": \"because\", \"could've\": \"could have\", \"couldn't\": \"could not\",\n",
    "                           \"didn't\": \"did not\",  \"doesn't\": \"does not\", \"don't\": \"do not\", \"hadn't\": \"had not\", \"hasn't\": \"has not\", \"haven't\": \"have not\",\n",
    "                           \"he'd\": \"he would\",\"he'll\": \"he will\", \"he's\": \"he is\", \"how'd\": \"how did\", \"how'd'y\": \"how do you\", \"how'll\": \"how will\", \"how's\": \"how is\",\n",
    "                           \"I'd\": \"I would\", \"I'd've\": \"I would have\", \"I'll\": \"I will\", \"I'll've\": \"I will have\",\"I'm\": \"I am\", \"I've\": \"I have\", \"i'd\": \"i would\",\n",
    "                           \"i'd've\": \"i would have\", \"i'll\": \"i will\",  \"i'll've\": \"i will have\",\"i'm\": \"i am\", \"i've\": \"i have\", \"isn't\": \"is not\", \"it'd\": \"it would\",\n",
    "                           \"it'd've\": \"it would have\", \"it'll\": \"it will\", \"it'll've\": \"it will have\",\"it's\": \"it is\", \"let's\": \"let us\", \"ma'am\": \"madam\",\n",
    "                           \"mayn't\": \"may not\", \"might've\": \"might have\",\"mightn't\": \"might not\",\"mightn't've\": \"might not have\", \"must've\": \"must have\",\n",
    "                           \"mustn't\": \"must not\", \"mustn't've\": \"must not have\", \"needn't\": \"need not\", \"needn't've\": \"need not have\",\"o'clock\": \"of the clock\",\n",
    "                           \"oughtn't\": \"ought not\", \"oughtn't've\": \"ought not have\", \"shan't\": \"shall not\", \"sha'n't\": \"shall not\", \"shan't've\": \"shall not have\",\n",
    "                           \"she'd\": \"she would\", \"she'd've\": \"she would have\", \"she'll\": \"she will\", \"she'll've\": \"she will have\", \"she's\": \"she is\",\n",
    "                           \"should've\": \"should have\", \"shouldn't\": \"should not\", \"shouldn't've\": \"should not have\", \"so've\": \"so have\",\"so's\": \"so as\",\n",
    "                           \"this's\": \"this is\",\"that'd\": \"that would\", \"that'd've\": \"that would have\", \"that's\": \"that is\", \"there'd\": \"there would\",\n",
    "                           \"there'd've\": \"there would have\", \"there's\": \"there is\", \"here's\": \"here is\",\"they'd\": \"they would\", \"they'd've\": \"they would have\",\n",
    "                           \"they'll\": \"they will\", \"they'll've\": \"they will have\", \"they're\": \"they are\", \"they've\": \"they have\", \"to've\": \"to have\",\n",
    "                           \"wasn't\": \"was not\", \"we'd\": \"we would\", \"we'd've\": \"we would have\", \"we'll\": \"we will\", \"we'll've\": \"we will have\", \"we're\": \"we are\",\n",
    "                           \"we've\": \"we have\", \"weren't\": \"were not\", \"what'll\": \"what will\", \"what'll've\": \"what will have\", \"what're\": \"what are\",\n",
    "                           \"what's\": \"what is\", \"what've\": \"what have\", \"when's\": \"when is\", \"when've\": \"when have\", \"where'd\": \"where did\", \"where's\": \"where is\",\n",
    "                           \"where've\": \"where have\", \"who'll\": \"who will\", \"who'll've\": \"who will have\", \"who's\": \"who is\", \"who've\": \"who have\",\n",
    "                           \"why's\": \"why is\", \"why've\": \"why have\", \"will've\": \"will have\", \"won't\": \"will not\", \"won't've\": \"will not have\",\n",
    "                           \"would've\": \"would have\", \"wouldn't\": \"would not\", \"wouldn't've\": \"would not have\", \"y'all\": \"you all\",\n",
    "                           \"y'all'd\": \"you all would\",\"y'all'd've\": \"you all would have\",\"y'all're\": \"you all are\",\"y'all've\": \"you all have\",\n",
    "                           \"you'd\": \"you would\", \"you'd've\": \"you would have\", \"you'll\": \"you will\", \"you'll've\": \"you will have\",\n",
    "                           \"you're\": \"you are\", \"you've\": \"you have\"}\n",
    "\n",
    "print(\"정규화 사전의 수: \", len(contractions))"
   ]
  },
  {
   "cell_type": "code",
   "execution_count": 5,
   "id": "00270d7a",
   "metadata": {},
   "outputs": [],
   "source": [
    "def preprocess_sentence(sentence, remove_stopwords=True):\n",
    "    sentence = sentence.lower() # 텍스트 소문자화\n",
    "    \n",
    "    # \n",
    "    sentence = BeautifulSoup(sentence, \"lxml\").text # <br />, <a href = ...> 등의 html 태그 제거\n",
    "    \n",
    "    sentence = re.sub(r'\\([^)]*\\)', '', sentence) # 괄호로 닫힌 문자열 (...) 제거 Ex) my husband (and myself!) for => my husband for\n",
    "    sentence = re.sub('\"','', sentence) # 쌍따옴표 \" 제거\n",
    "    sentence = ' '.join([contractions[t] if t in contractions else t for t in sentence.split(\" \")]) # 약어 정규화\n",
    "    sentence = re.sub(r\"'s\\b\",\"\", sentence) # 소유격 제거. Ex) roland's -> roland\n",
    "    sentence = re.sub(\"[^a-zA-Z]\", \" \", sentence) # 영어 외 문자(숫자, 특수문자 등) 공백으로 변환\n",
    "    sentence = re.sub('[m]{2,}', 'mm', sentence) # m이 3개 이상이면 2개로 변경. Ex) ummmmmmm yeah -> umm yeah\n",
    "    \n",
    "    # 불용어 제거 (Text)\n",
    "    if remove_stopwords:\n",
    "        tokens = ' '.join(word for word in sentence.split() if not word in stopwords.words('english') if len(word) > 1)\n",
    "    # 불용어 미제거 (Summary)\n",
    "    else:\n",
    "        tokens = ' '.join(word for word in sentence.split() if len(word) > 1)\n",
    "    return tokens"
   ]
  },
  {
   "cell_type": "code",
   "execution_count": 6,
   "id": "092362fc",
   "metadata": {},
   "outputs": [
    {
     "name": "stdout",
     "output_type": "stream",
     "text": [
      "Text 열에서 중복을 배제한 유일한 샘플의 수 : 98360\n",
      "Summary 열에서 중복을 배제한 유일한 샘플의 수 : 98280\n"
     ]
    }
   ],
   "source": [
    "print('Text 열에서 중복을 배제한 유일한 샘플의 수 :', data['text'].nunique())\n",
    "print('Summary 열에서 중복을 배제한 유일한 샘플의 수 :', data['headlines'].nunique())"
   ]
  },
  {
   "cell_type": "code",
   "execution_count": 7,
   "id": "605e6e82",
   "metadata": {},
   "outputs": [
    {
     "name": "stdout",
     "output_type": "stream",
     "text": [
      "전체 샘플수 : 98360\n"
     ]
    }
   ],
   "source": [
    "# inplace=True 를 설정하면 DataFrame 타입 값을 return 하지 않고 data 내부를 직접적으로 바꿉니다\n",
    "data.drop_duplicates(subset = ['text'], inplace=True)\n",
    "print('전체 샘플수 :', (len(data)))"
   ]
  },
  {
   "cell_type": "code",
   "execution_count": 8,
   "id": "67a4bcdb",
   "metadata": {},
   "outputs": [
    {
     "name": "stderr",
     "output_type": "stream",
     "text": [
      "[nltk_data] Downloading package stopwords to /aiffel/nltk_data...\n",
      "[nltk_data]   Package stopwords is already up-to-date!\n"
     ]
    },
    {
     "data": {
      "text/plain": [
       "True"
      ]
     },
     "execution_count": 8,
     "metadata": {},
     "output_type": "execute_result"
    }
   ],
   "source": [
    "import nltk\n",
    "nltk.download('stopwords')"
   ]
  },
  {
   "cell_type": "code",
   "execution_count": 9,
   "id": "f6183e06",
   "metadata": {},
   "outputs": [
    {
     "data": {
      "text/plain": [
       "0        upGrad learner switches to career in ML & Al w...\n",
       "1        Delhi techie wins free food from Swiggy for on...\n",
       "2        New Zealand end Rohit Sharma-led India's 12-ma...\n",
       "3        Aegon life iTerm insurance plan helps customer...\n",
       "4        Have known Hirani for yrs, what if MeToo claim...\n",
       "                               ...                        \n",
       "98396    CRPF jawan axed to death by Maoists in Chhatti...\n",
       "98397    First song from Sonakshi Sinha's 'Noor' titled...\n",
       "98398           'The Matrix' film to get a reboot: Reports\n",
       "98399    Snoop Dogg aims gun at clown dressed as Trump ...\n",
       "98400    Madhesi Morcha withdraws support to Nepalese g...\n",
       "Name: headlines, Length: 98360, dtype: object"
      ]
     },
     "execution_count": 9,
     "metadata": {},
     "output_type": "execute_result"
    }
   ],
   "source": [
    "data['headlines']"
   ]
  },
  {
   "cell_type": "code",
   "execution_count": 10,
   "id": "d63cfa67",
   "metadata": {},
   "outputs": [
    {
     "data": {
      "text/plain": [
       "0        Saurav Kant, an alumnus of upGrad and IIIT-B's...\n",
       "1        Kunal Shah's credit card bill payment platform...\n",
       "2        New Zealand defeated India by 8 wickets in the...\n",
       "3        With Aegon Life iTerm Insurance plan, customer...\n",
       "4        Speaking about the sexual harassment allegatio...\n",
       "                               ...                        \n",
       "98396    A CRPF jawan was on Tuesday axed to death with...\n",
       "98397    'Uff Yeh', the first song from the Sonakshi Si...\n",
       "98398    According to reports, a new version of the 199...\n",
       "98399    A new music video shows rapper Snoop Dogg aimi...\n",
       "98400    Madhesi Morcha, an alliance of seven political...\n",
       "Name: text, Length: 98360, dtype: object"
      ]
     },
     "execution_count": 10,
     "metadata": {},
     "output_type": "execute_result"
    }
   ],
   "source": [
    "data['text']"
   ]
  },
  {
   "cell_type": "code",
   "execution_count": 11,
   "id": "d1cbd916",
   "metadata": {},
   "outputs": [
    {
     "name": "stdout",
     "output_type": "stream",
     "text": [
      "Text 전처리 후 결과:  []\n"
     ]
    }
   ],
   "source": [
    "clean_text = []\n",
    "\n",
    "data['text'] = data['text'].apply(lambda x: preprocess_sentence(x))\n",
    "\n",
    "# 전처리 후 출력\n",
    "print(\"Text 전처리 후 결과: \", clean_text[:5])"
   ]
  },
  {
   "cell_type": "code",
   "execution_count": 12,
   "id": "350ddf91",
   "metadata": {},
   "outputs": [
    {
     "name": "stdout",
     "output_type": "stream",
     "text": [
      "headlines 전처리 후 결과:  []\n"
     ]
    }
   ],
   "source": [
    "clean_headlines = []\n",
    "\n",
    "data['headlines'] = data['headlines'].apply(lambda x: preprocess_sentence(x, remove_stopwords=False))\n",
    "\n",
    "print(\"headlines 전처리 후 결과: \", clean_headlines[:5])"
   ]
  },
  {
   "cell_type": "code",
   "execution_count": 13,
   "id": "dacb207c",
   "metadata": {},
   "outputs": [],
   "source": [
    "# 빈 값을 Null 값으로 변환\n",
    "data.replace('', np.nan, inplace=True)"
   ]
  },
  {
   "cell_type": "code",
   "execution_count": 14,
   "id": "faf9bbea",
   "metadata": {},
   "outputs": [
    {
     "data": {
      "text/plain": [
       "headlines    0\n",
       "text         0\n",
       "dtype: int64"
      ]
     },
     "execution_count": 14,
     "metadata": {},
     "output_type": "execute_result"
    }
   ],
   "source": [
    "data.isnull().sum()"
   ]
  },
  {
   "cell_type": "markdown",
   "id": "fee64d8a",
   "metadata": {},
   "source": [
    "## 데이터 분포 확인"
   ]
  },
  {
   "cell_type": "code",
   "execution_count": 15,
   "id": "15a51ee6",
   "metadata": {},
   "outputs": [
    {
     "name": "stdout",
     "output_type": "stream",
     "text": [
      "텍스트의 최소 길이 : 1\n",
      "텍스트의 최대 길이 : 60\n",
      "텍스트의 평균 길이 : 35.09968483123221\n",
      "요약의 최소 길이 : 1\n",
      "요약의 최대 길이 : 16\n",
      "요약의 평균 길이 : 9.299532330215534\n"
     ]
    },
    {
     "data": {
      "image/png": "[encoded data removed]",
      "text/plain": [
       "<Figure size 432x288 with 2 Axes>"
      ]
     },
     "metadata": {
      "needs_background": "light"
     },
     "output_type": "display_data"
    },
    {
     "data": {
      "image/png": "[encoded data removed]",
      "text/plain": [
       "<Figure size 432x288 with 1 Axes>"
      ]
     },
     "metadata": {
      "needs_background": "light"
     },
     "output_type": "display_data"
    },
    {
     "data": {
      "image/png": "[encoded data removed]",
      "text/plain": [
       "<Figure size 432x288 with 1 Axes>"
      ]
     },
     "metadata": {
      "needs_background": "light"
     },
     "output_type": "display_data"
    }
   ],
   "source": [
    "# 길이 분포 출력\n",
    "import matplotlib.pyplot as plt\n",
    "\n",
    "text_len = [len(s.split()) for s in data['text']]\n",
    "headlines_len = [len(s.split()) for s in data['headlines']]\n",
    "\n",
    "print('텍스트의 최소 길이 : {}'.format(np.min(text_len)))\n",
    "print('텍스트의 최대 길이 : {}'.format(np.max(text_len)))\n",
    "print('텍스트의 평균 길이 : {}'.format(np.mean(text_len)))\n",
    "print('요약의 최소 길이 : {}'.format(np.min(headlines_len)))\n",
    "print('요약의 최대 길이 : {}'.format(np.max(headlines_len)))\n",
    "print('요약의 평균 길이 : {}'.format(np.mean(headlines_len)))\n",
    "\n",
    "plt.subplot(1,2,1)\n",
    "plt.boxplot(text_len)\n",
    "plt.title('text')\n",
    "plt.subplot(1,2,2)\n",
    "plt.boxplot(headlines_len)\n",
    "plt.title('headlines')\n",
    "plt.tight_layout()\n",
    "plt.show()\n",
    "\n",
    "plt.title('text')\n",
    "plt.hist(text_len, bins = 40)\n",
    "plt.xlabel('length of samples')\n",
    "plt.ylabel('number of samples')\n",
    "plt.show()\n",
    "\n",
    "plt.title('headlines')\n",
    "plt.hist(headlines_len, bins = 40)\n",
    "plt.xlabel('length of samples')\n",
    "plt.ylabel('number of samples')\n",
    "plt.show()"
   ]
  },
  {
   "cell_type": "code",
   "execution_count": 16,
   "id": "7a917bfb",
   "metadata": {},
   "outputs": [],
   "source": [
    "text_max_len = 50\n",
    "headlines_max_len = 14"
   ]
  },
  {
   "cell_type": "code",
   "execution_count": 17,
   "id": "70f82324",
   "metadata": {},
   "outputs": [],
   "source": [
    "filtered_data = data[(data['text'].apply(lambda x: len(x.split()) <= text_max_len)) &\n",
    "(data['headlines'].apply(lambda x: len(x.split()) <= headlines_max_len))]"
   ]
  },
  {
   "cell_type": "code",
   "execution_count": 18,
   "id": "4496248b",
   "metadata": {},
   "outputs": [
    {
     "data": {
      "text/html": [
       "<div>\n",
       "<style scoped>\n",
       "    .dataframe tbody tr th:only-of-type {\n",
       "        vertical-align: middle;\n",
       "    }\n",
       "\n",
       "    .dataframe tbody tr th {\n",
       "        vertical-align: top;\n",
       "    }\n",
       "\n",
       "    .dataframe thead th {\n",
       "        text-align: right;\n",
       "    }\n",
       "</style>\n",
       "<table border=\"1\" class=\"dataframe\">\n",
       "  <thead>\n",
       "    <tr style=\"text-align: right;\">\n",
       "      <th></th>\n",
       "      <th>headlines</th>\n",
       "      <th>text</th>\n",
       "      <th>decoder_input</th>\n",
       "      <th>decoder_target</th>\n",
       "    </tr>\n",
       "  </thead>\n",
       "  <tbody>\n",
       "    <tr>\n",
       "      <th>0</th>\n",
       "      <td>upgrad learner switches to career in ml al wit...</td>\n",
       "      <td>saurav kant alumnus upgrad iiit pg program mac...</td>\n",
       "      <td>sostoken upgrad learner switches to career in ...</td>\n",
       "      <td>upgrad learner switches to career in ml al wit...</td>\n",
       "    </tr>\n",
       "    <tr>\n",
       "      <th>1</th>\n",
       "      <td>delhi techie wins free food from swiggy for on...</td>\n",
       "      <td>kunal shah credit card bill payment platform c...</td>\n",
       "      <td>sostoken delhi techie wins free food from swig...</td>\n",
       "      <td>delhi techie wins free food from swiggy for on...</td>\n",
       "    </tr>\n",
       "    <tr>\n",
       "      <th>2</th>\n",
       "      <td>new zealand end rohit sharma led india match w...</td>\n",
       "      <td>new zealand defeated india wickets fourth odi ...</td>\n",
       "      <td>sostoken new zealand end rohit sharma led indi...</td>\n",
       "      <td>new zealand end rohit sharma led india match w...</td>\n",
       "    </tr>\n",
       "    <tr>\n",
       "      <th>3</th>\n",
       "      <td>aegon life iterm insurance plan helps customer...</td>\n",
       "      <td>aegon life iterm insurance plan customers enjo...</td>\n",
       "      <td>sostoken aegon life iterm insurance plan helps...</td>\n",
       "      <td>aegon life iterm insurance plan helps customer...</td>\n",
       "    </tr>\n",
       "    <tr>\n",
       "      <th>4</th>\n",
       "      <td>have known hirani for yrs what if metoo claims...</td>\n",
       "      <td>speaking sexual harassment allegations rajkuma...</td>\n",
       "      <td>sostoken have known hirani for yrs what if met...</td>\n",
       "      <td>have known hirani for yrs what if metoo claims...</td>\n",
       "    </tr>\n",
       "  </tbody>\n",
       "</table>\n",
       "</div>"
      ],
      "text/plain": [
       "                                           headlines  \\\n",
       "0  upgrad learner switches to career in ml al wit...   \n",
       "1  delhi techie wins free food from swiggy for on...   \n",
       "2  new zealand end rohit sharma led india match w...   \n",
       "3  aegon life iterm insurance plan helps customer...   \n",
       "4  have known hirani for yrs what if metoo claims...   \n",
       "\n",
       "                                                text  \\\n",
       "0  saurav kant alumnus upgrad iiit pg program mac...   \n",
       "1  kunal shah credit card bill payment platform c...   \n",
       "2  new zealand defeated india wickets fourth odi ...   \n",
       "3  aegon life iterm insurance plan customers enjo...   \n",
       "4  speaking sexual harassment allegations rajkuma...   \n",
       "\n",
       "                                       decoder_input  \\\n",
       "0  sostoken upgrad learner switches to career in ...   \n",
       "1  sostoken delhi techie wins free food from swig...   \n",
       "2  sostoken new zealand end rohit sharma led indi...   \n",
       "3  sostoken aegon life iterm insurance plan helps...   \n",
       "4  sostoken have known hirani for yrs what if met...   \n",
       "\n",
       "                                      decoder_target  \n",
       "0  upgrad learner switches to career in ml al wit...  \n",
       "1  delhi techie wins free food from swiggy for on...  \n",
       "2  new zealand end rohit sharma led india match w...  \n",
       "3  aegon life iterm insurance plan helps customer...  \n",
       "4  have known hirani for yrs what if metoo claims...  "
      ]
     },
     "execution_count": 18,
     "metadata": {},
     "output_type": "execute_result"
    }
   ],
   "source": [
    "data = filtered_data.copy()\n",
    "\n",
    "data['decoder_input'] = data['headlines'].apply(lambda x : 'sostoken '+ x)\n",
    "data['decoder_target'] = data['headlines'].apply(lambda x : x + ' eostoken')\n",
    "data.head()"
   ]
  },
  {
   "cell_type": "code",
   "execution_count": 19,
   "id": "12b9d394",
   "metadata": {},
   "outputs": [],
   "source": [
    "encoder_input = np.array(data['text']) # 인코더의 입력\n",
    "decoder_input = np.array(data['decoder_input']) # 디코더의 입력\n",
    "decoder_target = np.array(data['decoder_target']) # 디코더의 레이블|"
   ]
  },
  {
   "cell_type": "code",
   "execution_count": 20,
   "id": "1dbe636c",
   "metadata": {},
   "outputs": [],
   "source": [
    "indices = np.arange(encoder_input.shape[0])\n",
    "np.random.shuffle(indices)\n",
    "encoder_input = encoder_input[indices]\n",
    "decoder_input = decoder_input[indices]\n",
    "decoder_target = decoder_target[indices]"
   ]
  },
  {
   "cell_type": "code",
   "execution_count": 21,
   "id": "47de00cb",
   "metadata": {},
   "outputs": [
    {
     "name": "stdout",
     "output_type": "stream",
     "text": [
      "테스트 데이터의 수 : 14748\n"
     ]
    }
   ],
   "source": [
    "n_of_val = int(len(encoder_input)*0.15)\n",
    "print('테스트 데이터의 수 :', n_of_val)"
   ]
  },
  {
   "cell_type": "code",
   "execution_count": 22,
   "id": "971b641a",
   "metadata": {},
   "outputs": [
    {
     "name": "stdout",
     "output_type": "stream",
     "text": [
      "훈련 데이터의 개수 : 83576\n",
      "훈련 레이블의 개수 : 83576\n",
      "테스트 데이터의 개수 : 14748\n",
      "테스트 레이블의 개수 : 14748\n"
     ]
    }
   ],
   "source": [
    "encoder_input_train = encoder_input[:-n_of_val]\n",
    "decoder_input_train = decoder_input[:-n_of_val]\n",
    "decoder_target_train = decoder_target[:-n_of_val]\n",
    "\n",
    "encoder_input_test = encoder_input[-n_of_val:]\n",
    "decoder_input_test = decoder_input[-n_of_val:]\n",
    "decoder_target_test = decoder_target[-n_of_val:]\n",
    "\n",
    "print('훈련 데이터의 개수 :', len(encoder_input_train))\n",
    "print('훈련 레이블의 개수 :', len(decoder_input_train))\n",
    "print('테스트 데이터의 개수 :', len(encoder_input_test))\n",
    "print('테스트 레이블의 개수 :', len(decoder_input_test))"
   ]
  },
  {
   "cell_type": "markdown",
   "id": "a94a1d67",
   "metadata": {},
   "source": [
    "## Tokenizer"
   ]
  },
  {
   "cell_type": "code",
   "execution_count": 23,
   "id": "827df78f",
   "metadata": {},
   "outputs": [],
   "source": [
    "src_tokenizer = Tokenizer() # 토크나이저 정의\n",
    "src_tokenizer.fit_on_texts(encoder_input_train) # 입력된 데이터로부터 단어 집합 생성"
   ]
  },
  {
   "cell_type": "code",
   "execution_count": 24,
   "id": "079082a4",
   "metadata": {},
   "outputs": [
    {
     "name": "stdout",
     "output_type": "stream",
     "text": [
      "단어 집합(vocabulary)의 크기 : 71356\n",
      "등장 빈도가 7번 이하인 희귀 단어의 수: 50029\n",
      "단어 집합에서 희귀 단어를 제외시킬 경우의 단어 집합의 크기 21327\n",
      "단어 집합에서 희귀 단어의 비율: 70.11183362296093\n",
      "전체 등장 빈도에서 희귀 단어 등장 빈도 비율: 3.7058737865898808\n"
     ]
    }
   ],
   "source": [
    "threshold = 8\n",
    "total_cnt = len(src_tokenizer.word_index) # 단어의 수\n",
    "rare_cnt = 0 # 등장 빈도수가 threshold보다 작은 단어의 개수를 카운트\n",
    "total_freq = 0 # 훈련 데이터의 전체 단어 빈도수 총 합\n",
    "rare_freq = 0 # 등장 빈도수가 threshold보다 작은 단어의 등장 빈도수의 총 합\n",
    "\n",
    "# 단어와 빈도수의 쌍(pair)을 key와 value로 받는다.\n",
    "for key, value in src_tokenizer.word_counts.items():\n",
    "    total_freq = total_freq + value\n",
    "\n",
    "    # 단어의 등장 빈도수가 threshold보다 작으면\n",
    "    if(value < threshold):\n",
    "        rare_cnt = rare_cnt + 1\n",
    "        rare_freq = rare_freq + value\n",
    "\n",
    "print('단어 집합(vocabulary)의 크기 :', total_cnt)\n",
    "print('등장 빈도가 %s번 이하인 희귀 단어의 수: %s'%(threshold - 1, rare_cnt))\n",
    "print('단어 집합에서 희귀 단어를 제외시킬 경우의 단어 집합의 크기 %s'%(total_cnt - rare_cnt))\n",
    "print(\"단어 집합에서 희귀 단어의 비율:\", (rare_cnt / total_cnt)*100)\n",
    "print(\"전체 등장 빈도에서 희귀 단어 등장 빈도 비율:\", (rare_freq / total_freq)*100)"
   ]
  },
  {
   "cell_type": "code",
   "execution_count": 25,
   "id": "5855fce9",
   "metadata": {},
   "outputs": [],
   "source": [
    "from tensorflow.keras.preprocessing.text import Tokenizer\n",
    "\n",
    "# 모든 요소를 문자열로 변환하여 일관된 형식으로 만듭니다.\n",
    "encoder_input_train = [str(text) if not isinstance(text, str) else text for text in encoder_input_train]\n",
    "\n",
    "# 단어 집합 크기 설정 및 토크나이저 초기화\n",
    "src_vocab = 20000\n",
    "src_tokenizer = Tokenizer(num_words=src_vocab)\n",
    "\n",
    "# 토크나이저를 훈련 데이터에 맞추어 학습시킵니다.\n",
    "src_tokenizer.fit_on_texts(encoder_input_train)"
   ]
  },
  {
   "cell_type": "code",
   "execution_count": 26,
   "id": "ca9f6deb",
   "metadata": {},
   "outputs": [
    {
     "name": "stdout",
     "output_type": "stream",
     "text": [
      "[[821, 106, 194, 97, 4690, 205, 1520, 1258, 237, 526, 2442, 4240, 2143, 3, 13, 37, 8851, 37, 9800, 526, 11973, 9998, 23, 711, 17953, 17954, 99, 2442, 4240, 301, 711, 6114, 658, 3478], [2819, 2040, 256, 6503, 16467, 1184, 614, 1074, 1515, 727, 573, 793, 1002, 332, 34, 3, 54, 528, 7265, 6748, 2653, 4643, 11365, 850, 11974, 9999, 1622, 1516, 567, 867, 146, 1452], [309, 936, 5721, 5232, 1, 40, 3341, 922, 813, 467, 377, 2415, 1894, 312, 141, 242, 173, 134, 1162, 263, 9003, 5, 196, 1099, 5624, 4, 5232, 405, 29, 312, 425]]\n"
     ]
    }
   ],
   "source": [
    "from tensorflow.keras.preprocessing.text import Tokenizer\n",
    "\n",
    "# 모든 요소가 문자열인지 확인하고, 아니라면 문자열로 변환\n",
    "encoder_input_train = [str(text) if not isinstance(text, str) else text for text in encoder_input_train]\n",
    "encoder_input_test = [str(text) if not isinstance(text, str) else text for text in encoder_input_test]\n",
    "\n",
    "# 텍스트 시퀀스를 정수 시퀀스로 변환\n",
    "encoder_input_train = src_tokenizer.texts_to_sequences(encoder_input_train)\n",
    "encoder_input_test = src_tokenizer.texts_to_sequences(encoder_input_test)\n",
    "\n",
    "# 샘플 출력\n",
    "print(encoder_input_train[:3])"
   ]
  },
  {
   "cell_type": "code",
   "execution_count": 27,
   "id": "66e72ad8",
   "metadata": {},
   "outputs": [],
   "source": [
    "tar_tokenizer = Tokenizer()\n",
    "tar_tokenizer.fit_on_texts(decoder_input_train)"
   ]
  },
  {
   "cell_type": "code",
   "execution_count": 28,
   "id": "b3c4ece3",
   "metadata": {},
   "outputs": [
    {
     "name": "stdout",
     "output_type": "stream",
     "text": [
      "단어 집합(vocabulary)의 크기 : 30780\n",
      "등장 빈도가 5번 이하인 희귀 단어의 수: 20065\n",
      "단어 집합에서 희귀 단어를 제외시킬 경우의 단어 집합의 크기 10715\n",
      "단어 집합에서 희귀 단어의 비율: 65.18843404808317\n",
      "전체 등장 빈도에서 희귀 단어 등장 빈도 비율: 4.469222466594401\n"
     ]
    }
   ],
   "source": [
    "threshold = 6\n",
    "total_cnt = len(tar_tokenizer.word_index) # 단어의 수\n",
    "rare_cnt = 0 # 등장 빈도수가 threshold보다 작은 단어의 개수를 카운트\n",
    "total_freq = 0 # 훈련 데이터의 전체 단어 빈도수 총 합\n",
    "rare_freq = 0 # 등장 빈도수가 threshold보다 작은 단어의 등장 빈도수의 총 합\n",
    "\n",
    "# 단어와 빈도수의 쌍(pair)을 key와 value로 받는다.\n",
    "for key, value in tar_tokenizer.word_counts.items():\n",
    "    total_freq = total_freq + value\n",
    "\n",
    "    # 단어의 등장 빈도수가 threshold보다 작으면\n",
    "    if(value < threshold):\n",
    "        rare_cnt = rare_cnt + 1\n",
    "        rare_freq = rare_freq + value\n",
    "\n",
    "print('단어 집합(vocabulary)의 크기 :', total_cnt)\n",
    "print('등장 빈도가 %s번 이하인 희귀 단어의 수: %s'%(threshold - 1, rare_cnt))\n",
    "print('단어 집합에서 희귀 단어를 제외시킬 경우의 단어 집합의 크기 %s'%(total_cnt - rare_cnt))\n",
    "print(\"단어 집합에서 희귀 단어의 비율:\", (rare_cnt / total_cnt)*100)\n",
    "print(\"전체 등장 빈도에서 희귀 단어 등장 빈도 비율:\", (rare_freq / total_freq)*100)"
   ]
  },
  {
   "cell_type": "code",
   "execution_count": 29,
   "id": "1b19359e",
   "metadata": {},
   "outputs": [
    {
     "name": "stdout",
     "output_type": "stream",
     "text": [
      "input\n",
      "input  [[1, 262, 908, 1026, 1423, 627, 4890, 15, 20, 4077], [1, 2617, 15, 7525, 6, 2878, 6, 9811, 4, 5047], [1, 1228, 1940, 8004, 24, 10, 129, 13, 3863, 2715, 1726], [1, 9812, 2772, 866, 1897, 12, 112, 1898], [1, 9082, 11, 109, 909, 16, 13, 216, 838, 29]]\n",
      "target\n",
      "decoder  [[262, 908, 1026, 1423, 627, 4890, 15, 20, 4077, 2], [2617, 15, 7525, 6, 2878, 6, 9811, 4, 5047, 2], [1228, 1940, 8004, 24, 10, 129, 13, 3863, 2715, 1726, 2], [9812, 2772, 866, 1897, 12, 112, 1898, 2], [9082, 11, 109, 909, 16, 13, 216, 838, 29, 2]]\n"
     ]
    }
   ],
   "source": [
    "tar_vocab = 10000\n",
    "tar_tokenizer = Tokenizer(num_words=tar_vocab) \n",
    "tar_tokenizer.fit_on_texts(decoder_input_train)\n",
    "tar_tokenizer.fit_on_texts(decoder_target_train)\n",
    "\n",
    "# 텍스트 시퀀스를 정수 시퀀스로 변환\n",
    "decoder_input_train = tar_tokenizer.texts_to_sequences(decoder_input_train) \n",
    "decoder_target_train = tar_tokenizer.texts_to_sequences(decoder_target_train)\n",
    "decoder_input_test = tar_tokenizer.texts_to_sequences(decoder_input_test)\n",
    "decoder_target_test = tar_tokenizer.texts_to_sequences(decoder_target_test)\n",
    "\n",
    "# 잘 변환되었는지 확인\n",
    "print('input')\n",
    "print('input ',decoder_input_train[:5])\n",
    "print('target')\n",
    "print('decoder ',decoder_target_train[:5])"
   ]
  },
  {
   "cell_type": "code",
   "execution_count": 30,
   "id": "7ad36981",
   "metadata": {},
   "outputs": [
    {
     "name": "stdout",
     "output_type": "stream",
     "text": [
      "삭제할 훈련 데이터의 개수 : 1\n",
      "삭제할 테스트 데이터의 개수 : 0\n",
      "훈련 데이터의 개수 : 83575\n",
      "훈련 레이블의 개수 : 83575\n",
      "테스트 데이터의 개수 : 14748\n",
      "테스트 레이블의 개수 : 14748\n"
     ]
    }
   ],
   "source": [
    "drop_train = [index for index, sentence in enumerate(decoder_input_train) if len(sentence) == 1]\n",
    "drop_test = [index for index, sentence in enumerate(decoder_input_test) if len(sentence) == 1]\n",
    "\n",
    "print('삭제할 훈련 데이터의 개수 :', len(drop_train))\n",
    "print('삭제할 테스트 데이터의 개수 :', len(drop_test))\n",
    "\n",
    "encoder_input_train = [sentence for index, sentence in enumerate(encoder_input_train) if index not in drop_train]\n",
    "decoder_input_train = [sentence for index, sentence in enumerate(decoder_input_train) if index not in drop_train]\n",
    "decoder_target_train = [sentence for index, sentence in enumerate(decoder_target_train) if index not in drop_train]\n",
    "\n",
    "encoder_input_test = [sentence for index, sentence in enumerate(encoder_input_test) if index not in drop_test]\n",
    "decoder_input_test = [sentence for index, sentence in enumerate(decoder_input_test) if index not in drop_test]\n",
    "decoder_target_test = [sentence for index, sentence in enumerate(decoder_target_test) if index not in drop_test]\n",
    "\n",
    "print('훈련 데이터의 개수 :', len(encoder_input_train))\n",
    "print('훈련 레이블의 개수 :', len(decoder_input_train))\n",
    "print('테스트 데이터의 개수 :', len(encoder_input_test))\n",
    "print('테스트 레이블의 개수 :', len(decoder_input_test))"
   ]
  },
  {
   "cell_type": "code",
   "execution_count": 31,
   "id": "3a4ce2bd",
   "metadata": {},
   "outputs": [],
   "source": [
    "encoder_input_train = pad_sequences(encoder_input_train, maxlen=text_max_len, padding='post')\n",
    "encoder_input_test = pad_sequences(encoder_input_test, maxlen=text_max_len, padding='post')\n",
    "decoder_input_train = pad_sequences(decoder_input_train, maxlen=headlines_max_len, padding='post')\n",
    "decoder_target_train = pad_sequences(decoder_target_train, maxlen=headlines_max_len, padding='post')\n",
    "decoder_input_test = pad_sequences(decoder_input_test, maxlen=headlines_max_len, padding='post')\n",
    "decoder_target_test = pad_sequences(decoder_target_test, maxlen=headlines_max_len, padding='post')"
   ]
  },
  {
   "cell_type": "markdown",
   "id": "69f7a4c2",
   "metadata": {},
   "source": [
    "# 어텐션 메커니즘 구현\n",
    "    - 모델 셀계(Bi-LSTM)"
   ]
  },
  {
   "cell_type": "code",
   "execution_count": 32,
   "id": "76ee22e2",
   "metadata": {},
   "outputs": [
    {
     "name": "stdout",
     "output_type": "stream",
     "text": [
      "Model: \"model\"\n",
      "__________________________________________________________________________________________________\n",
      "Layer (type)                    Output Shape         Param #     Connected to                     \n",
      "==================================================================================================\n",
      "input_1 (InputLayer)            [(None, 50)]         0                                            \n",
      "__________________________________________________________________________________________________\n",
      "embedding (Embedding)           (None, 50, 256)      5120000     input_1[0][0]                    \n",
      "__________________________________________________________________________________________________\n",
      "bidirectional (Bidirectional)   [(None, 50, 512), (N 1050624     embedding[0][0]                  \n",
      "__________________________________________________________________________________________________\n",
      "bidirectional_1 (Bidirectional) [(None, 50, 512), (N 1574912     bidirectional[0][0]              \n",
      "__________________________________________________________________________________________________\n",
      "input_2 (InputLayer)            [(None, None)]       0                                            \n",
      "__________________________________________________________________________________________________\n",
      "bidirectional_2 (Bidirectional) [(None, 50, 512), (N 1574912     bidirectional_1[0][0]            \n",
      "__________________________________________________________________________________________________\n",
      "embedding_1 (Embedding)         (None, None, 256)    2560000     input_2[0][0]                    \n",
      "__________________________________________________________________________________________________\n",
      "concatenate_4 (Concatenate)     (None, 512)          0           bidirectional_2[0][1]            \n",
      "                                                                 bidirectional_2[0][3]            \n",
      "__________________________________________________________________________________________________\n",
      "concatenate_5 (Concatenate)     (None, 512)          0           bidirectional_2[0][2]            \n",
      "                                                                 bidirectional_2[0][4]            \n",
      "__________________________________________________________________________________________________\n",
      "lstm_3 (LSTM)                   [(None, None, 512),  1574912     embedding_1[0][0]                \n",
      "                                                                 concatenate_4[0][0]              \n",
      "                                                                 concatenate_5[0][0]              \n",
      "__________________________________________________________________________________________________\n",
      "dense (Dense)                   (None, None, 10000)  5130000     lstm_3[0][0]                     \n",
      "==================================================================================================\n",
      "Total params: 18,585,360\n",
      "Trainable params: 18,585,360\n",
      "Non-trainable params: 0\n",
      "__________________________________________________________________________________________________\n"
     ]
    }
   ],
   "source": [
    "from tensorflow.keras.layers import Input, LSTM, Embedding, Dense, Concatenate, TimeDistributed, Bidirectional\n",
    "from tensorflow.keras.models import Model\n",
    "from tensorflow.keras.callbacks import EarlyStopping, ModelCheckpoint\n",
    "\n",
    "# Hyperparameters\n",
    "embedding_dim = 256\n",
    "hidden_size = 256\n",
    "\n",
    "# Encoder\n",
    "encoder_inputs = Input(shape=(text_max_len,))\n",
    "\n",
    "# Encoder embedding layer\n",
    "enc_emb = Embedding(src_vocab, embedding_dim)(encoder_inputs)\n",
    "\n",
    "# Encoder Bi-LSTM 1\n",
    "encoder_bilstm1 = Bidirectional(LSTM(hidden_size, return_sequences=True, return_state=True, dropout=0.4))\n",
    "encoder_output1, forward_h1, forward_c1, backward_h1, backward_c1 = encoder_bilstm1(enc_emb)\n",
    "\n",
    "# Combine forward and backward states\n",
    "state_h1 = Concatenate()([forward_h1, backward_h1])\n",
    "state_c1 = Concatenate()([forward_c1, backward_c1])\n",
    "\n",
    "# Encoder Bi-LSTM 2\n",
    "encoder_bilstm2 = Bidirectional(LSTM(hidden_size, return_sequences=True, return_state=True, dropout=0.4))\n",
    "encoder_output2, forward_h2, forward_c2, backward_h2, backward_c2 = encoder_bilstm2(encoder_output1)\n",
    "\n",
    "# Combine forward and backward states\n",
    "state_h2 = Concatenate()([forward_h2, backward_h2])\n",
    "state_c2 = Concatenate()([forward_c2, backward_c2])\n",
    "\n",
    "# Encoder Bi-LSTM 3\n",
    "encoder_bilstm3 = Bidirectional(LSTM(hidden_size, return_sequences=True, return_state=True, dropout=0.4))\n",
    "encoder_output3, forward_h3, forward_c3, backward_h3, backward_c3 = encoder_bilstm3(encoder_output2)\n",
    "\n",
    "# Combine forward and backward states\n",
    "state_h3 = Concatenate()([forward_h3, backward_h3])\n",
    "state_c3 = Concatenate()([forward_c3, backward_c3])\n",
    "\n",
    "# Decoder\n",
    "decoder_inputs = Input(shape=(None,))\n",
    "\n",
    "# Decoder embedding layer\n",
    "dec_emb_layer = Embedding(tar_vocab, embedding_dim)\n",
    "dec_emb = dec_emb_layer(decoder_inputs)\n",
    "\n",
    "# Decoder LSTM with the final encoder states as initial states\n",
    "decoder_lstm = LSTM(hidden_size * 2, return_sequences=True, return_state=True, dropout=0.4)\n",
    "decoder_outputs, _, _ = decoder_lstm(dec_emb, initial_state=[state_h3, state_c3])\n",
    "\n",
    "# Decoder output layer\n",
    "decoder_softmax_layer = Dense(tar_vocab, activation='softmax')\n",
    "decoder_softmax_outputs = decoder_softmax_layer(decoder_outputs)\n",
    "\n",
    "# Define the model\n",
    "model = Model([encoder_inputs, decoder_inputs], decoder_softmax_outputs)\n",
    "model.summary()\n"
   ]
  },
  {
   "cell_type": "code",
   "execution_count": 33,
   "id": "ebc3fb41",
   "metadata": {},
   "outputs": [
    {
     "name": "stdout",
     "output_type": "stream",
     "text": [
      "Model: \"model_1\"\n",
      "__________________________________________________________________________________________________\n",
      "Layer (type)                    Output Shape         Param #     Connected to                     \n",
      "==================================================================================================\n",
      "input_1 (InputLayer)            [(None, 50)]         0                                            \n",
      "__________________________________________________________________________________________________\n",
      "embedding (Embedding)           (None, 50, 256)      5120000     input_1[0][0]                    \n",
      "__________________________________________________________________________________________________\n",
      "bidirectional (Bidirectional)   [(None, 50, 512), (N 1050624     embedding[0][0]                  \n",
      "__________________________________________________________________________________________________\n",
      "bidirectional_1 (Bidirectional) [(None, 50, 512), (N 1574912     bidirectional[0][0]              \n",
      "__________________________________________________________________________________________________\n",
      "input_2 (InputLayer)            [(None, None)]       0                                            \n",
      "__________________________________________________________________________________________________\n",
      "bidirectional_2 (Bidirectional) [(None, 50, 512), (N 1574912     bidirectional_1[0][0]            \n",
      "__________________________________________________________________________________________________\n",
      "embedding_1 (Embedding)         (None, None, 256)    2560000     input_2[0][0]                    \n",
      "__________________________________________________________________________________________________\n",
      "concatenate_4 (Concatenate)     (None, 512)          0           bidirectional_2[0][1]            \n",
      "                                                                 bidirectional_2[0][3]            \n",
      "__________________________________________________________________________________________________\n",
      "concatenate_5 (Concatenate)     (None, 512)          0           bidirectional_2[0][2]            \n",
      "                                                                 bidirectional_2[0][4]            \n",
      "__________________________________________________________________________________________________\n",
      "lstm_3 (LSTM)                   [(None, None, 512),  1574912     embedding_1[0][0]                \n",
      "                                                                 concatenate_4[0][0]              \n",
      "                                                                 concatenate_5[0][0]              \n",
      "__________________________________________________________________________________________________\n",
      "attention_layer (AdditiveAttent (None, None, 512)    512         lstm_3[0][0]                     \n",
      "                                                                 bidirectional_2[0][0]            \n",
      "__________________________________________________________________________________________________\n",
      "concat_layer (Concatenate)      (None, None, 1024)   0           lstm_3[0][0]                     \n",
      "                                                                 attention_layer[0][0]            \n",
      "__________________________________________________________________________________________________\n",
      "dense_1 (Dense)                 (None, None, 10000)  10250000    concat_layer[0][0]               \n",
      "==================================================================================================\n",
      "Total params: 23,705,872\n",
      "Trainable params: 23,705,872\n",
      "Non-trainable params: 0\n",
      "__________________________________________________________________________________________________\n"
     ]
    }
   ],
   "source": [
    "from tensorflow.keras.layers import AdditiveAttention\n",
    "\n",
    "# 어텐션 층(어텐션 함수)\n",
    "attn_layer = AdditiveAttention(name='attention_layer')\n",
    "\n",
    "# 인코더와 디코더의 모든 time step의 hidden state를 어텐션 층에 전달하고 결과를 리턴\n",
    "attn_out = attn_layer([decoder_outputs, encoder_output3])\n",
    "\n",
    "\n",
    "# 어텐션의 결과와 디코더의 hidden state들을 연결\n",
    "decoder_concat_input = Concatenate(axis=-1, name='concat_layer')([decoder_outputs, attn_out])\n",
    "\n",
    "# 디코더의 출력층\n",
    "decoder_softmax_layer = Dense(tar_vocab, activation='softmax')\n",
    "decoder_softmax_outputs = decoder_softmax_layer(decoder_concat_input)\n",
    "\n",
    "# 모델 정의\n",
    "model = Model([encoder_inputs, decoder_inputs], decoder_softmax_outputs)\n",
    "model.summary()"
   ]
  },
  {
   "cell_type": "code",
   "execution_count": 34,
   "id": "2eedab9b",
   "metadata": {},
   "outputs": [
    {
     "name": "stdout",
     "output_type": "stream",
     "text": [
      "Epoch 1/50\n",
      "327/327 [==============================] - 90s 243ms/step - loss: 4.7811 - val_loss: 4.3360\n",
      "Epoch 2/50\n",
      "327/327 [==============================] - 79s 243ms/step - loss: 4.1242 - val_loss: 3.8724\n",
      "Epoch 3/50\n",
      "327/327 [==============================] - 79s 243ms/step - loss: 3.7035 - val_loss: 3.5812\n",
      "Epoch 4/50\n",
      "327/327 [==============================] - 80s 243ms/step - loss: 3.4012 - val_loss: 3.4012\n",
      "Epoch 5/50\n",
      "327/327 [==============================] - 80s 243ms/step - loss: 3.1641 - val_loss: 3.2774\n",
      "Epoch 6/50\n",
      "327/327 [==============================] - 80s 243ms/step - loss: 2.9701 - val_loss: 3.2090\n",
      "Epoch 7/50\n",
      "327/327 [==============================] - 80s 243ms/step - loss: 2.8032 - val_loss: 3.1435\n",
      "Epoch 8/50\n",
      "327/327 [==============================] - 80s 243ms/step - loss: 2.6547 - val_loss: 3.0990\n",
      "Epoch 9/50\n",
      "327/327 [==============================] - 80s 243ms/step - loss: 2.5238 - val_loss: 3.0820\n",
      "Epoch 10/50\n",
      "327/327 [==============================] - 80s 244ms/step - loss: 2.4006 - val_loss: 3.0739\n",
      "Epoch 11/50\n",
      "327/327 [==============================] - 80s 243ms/step - loss: 2.2888 - val_loss: 3.0641\n",
      "Epoch 12/50\n",
      "327/327 [==============================] - 80s 243ms/step - loss: 2.1887 - val_loss: 3.0591\n",
      "Epoch 13/50\n",
      "327/327 [==============================] - 80s 244ms/step - loss: 2.0921 - val_loss: 3.0654\n",
      "Epoch 14/50\n",
      "327/327 [==============================] - 80s 243ms/step - loss: 2.0053 - val_loss: 3.0765\n",
      "Epoch 00014: early stopping\n"
     ]
    }
   ],
   "source": [
    "model.compile(optimizer='rmsprop', loss='sparse_categorical_crossentropy')\n",
    "es = EarlyStopping(monitor='val_loss', patience=2, verbose=1)\n",
    "history = model.fit(x=[encoder_input_train, decoder_input_train], y=decoder_target_train, \\\n",
    "          validation_data=([encoder_input_test, decoder_input_test], decoder_target_test), \\\n",
    "          batch_size=256, callbacks=[es], epochs=50)"
   ]
  },
  {
   "cell_type": "code",
   "execution_count": 35,
   "id": "30914b75",
   "metadata": {},
   "outputs": [
    {
     "data": {
      "image/png": "[encoded data removed]",
      "text/plain": [
       "<Figure size 432x288 with 1 Axes>"
      ]
     },
     "metadata": {
      "needs_background": "light"
     },
     "output_type": "display_data"
    }
   ],
   "source": [
    "plt.plot(history.history['loss'], label='train')\n",
    "plt.plot(history.history['val_loss'], label='test')\n",
    "plt.legend()\n",
    "plt.show()"
   ]
  },
  {
   "cell_type": "markdown",
   "id": "ead63996",
   "metadata": {},
   "source": [
    "# 실제 결과와 요약문 비교(추상적 요약)"
   ]
  },
  {
   "cell_type": "code",
   "execution_count": 36,
   "id": "56a7c0ba",
   "metadata": {},
   "outputs": [],
   "source": [
    "src_index_to_word = src_tokenizer.index_word # 원문 단어 집합에서 정수 -> 단어를 얻음\n",
    "tar_word_to_index = tar_tokenizer.word_index # 요약 단어 집합에서 단어 -> 정수를 얻음\n",
    "tar_index_to_word = tar_tokenizer.index_word # 요약 단어 집합에서 정수 -> 단어를 얻음"
   ]
  },
  {
   "cell_type": "code",
   "execution_count": 37,
   "id": "a144f471",
   "metadata": {},
   "outputs": [],
   "source": [
    "from tensorflow.keras.layers import Input, LSTM\n",
    "from tensorflow.keras.models import Model\n",
    "\n",
    "encoder_model = Model(inputs=encoder_inputs, outputs=[encoder_output3, state_h3, state_c3])\n",
    "\n",
    "decoder_state_input_h = Input(shape=(hidden_size * 2,))\n",
    "decoder_state_input_c = Input(shape=(hidden_size * 2,))\n",
    "\n",
    "dec_emb2 = dec_emb_layer(decoder_inputs)\n",
    "\n",
    "decoder_outputs2, state_h2, state_c2 = decoder_lstm(dec_emb2, initial_state=[decoder_state_input_h, decoder_state_input_c])\n",
    "# 문장의 다음 단어를 예측하기 위해서 초기 상태(initial_state)를 이전 시점의 상태로 사용. 이는 뒤의 함수 decode_sequence()에 구현\n",
    "# 훈련 과정에서와 달리 LSTM의 리턴하는 은닉 상태와 셀 상태인 state_h와 state_c를 버리지 않음."
   ]
  },
  {
   "cell_type": "code",
   "execution_count": 38,
   "id": "7dce97f1",
   "metadata": {},
   "outputs": [
    {
     "name": "stdout",
     "output_type": "stream",
     "text": [
      "Model: \"model_3\"\n",
      "__________________________________________________________________________________________________\n",
      "Layer (type)                    Output Shape         Param #     Connected to                     \n",
      "==================================================================================================\n",
      "input_2 (InputLayer)            [(None, None)]       0                                            \n",
      "__________________________________________________________________________________________________\n",
      "embedding_1 (Embedding)         (None, None, 256)    2560000     input_2[0][0]                    \n",
      "__________________________________________________________________________________________________\n",
      "input_3 (InputLayer)            [(None, 512)]        0                                            \n",
      "__________________________________________________________________________________________________\n",
      "input_4 (InputLayer)            [(None, 512)]        0                                            \n",
      "__________________________________________________________________________________________________\n",
      "lstm_3 (LSTM)                   [(None, None, 512),  1574912     embedding_1[1][0]                \n",
      "                                                                 input_3[0][0]                    \n",
      "                                                                 input_4[0][0]                    \n",
      "__________________________________________________________________________________________________\n",
      "input_5 (InputLayer)            [(None, 50, 512)]    0                                            \n",
      "__________________________________________________________________________________________________\n",
      "attention_layer (AdditiveAttent (None, None, 512)    512         lstm_3[1][0]                     \n",
      "                                                                 input_5[0][0]                    \n",
      "__________________________________________________________________________________________________\n",
      "concat (Concatenate)            (None, None, 1024)   0           lstm_3[1][0]                     \n",
      "                                                                 attention_layer[1][0]            \n",
      "__________________________________________________________________________________________________\n",
      "dense_1 (Dense)                 (None, None, 10000)  10250000    concat[0][0]                     \n",
      "==================================================================================================\n",
      "Total params: 14,385,424\n",
      "Trainable params: 14,385,424\n",
      "Non-trainable params: 0\n",
      "__________________________________________________________________________________________________\n"
     ]
    }
   ],
   "source": [
    "from tensorflow.keras.layers import Input, Concatenate\n",
    "\n",
    "# Correcting the shape of `decoder_hidden_state_input` to match the doubled hidden size from the Bi-LSTM encoder\n",
    "decoder_hidden_state_input = Input(shape=(text_max_len, hidden_size * 2))\n",
    "\n",
    "# Attention layer application\n",
    "attn_out_inf = attn_layer([decoder_outputs2, decoder_hidden_state_input])\n",
    "\n",
    "# Concatenating attention output with decoder LSTM output\n",
    "decoder_inf_concat = Concatenate(axis=-1, name='concat')([decoder_outputs2, attn_out_inf])\n",
    "\n",
    "# Decoder output layer with softmax\n",
    "decoder_outputs2 = decoder_softmax_layer(decoder_inf_concat)\n",
    "\n",
    "# Final decoder model\n",
    "decoder_model = Model(\n",
    "    [decoder_inputs, decoder_hidden_state_input, decoder_state_input_h, decoder_state_input_c],\n",
    "    [decoder_outputs2, state_h2, state_c2]\n",
    ")\n",
    "\n",
    "decoder_model.summary()\n"
   ]
  },
  {
   "cell_type": "code",
   "execution_count": 39,
   "id": "c8e11fb2",
   "metadata": {},
   "outputs": [
    {
     "data": {
      "text/plain": [
       "\"\\ndef decode_sequence(input_seq):\\n    # 입력으로부터 인코더의 상태를 얻음\\n    e_out, e_h, e_c = encoder_model.predict(input_seq)\\n\\n     # <SOS>에 해당하는 토큰 생성\\n    target_seq = np.zeros((1,1))\\n    target_seq[0, 0] = tar_word_to_index['sostoken']\\n\\n    stop_condition = False\\n    decoded_sentence = ''\\n    while not stop_condition: # stop_condition이 True가 될 때까지 루프 반복\\n\\n        output_tokens, h, c = decoder_model.predict([target_seq] + [e_out, e_h, e_c])\\n        # output이 왜\\n        sampled_token_index = np.argmax(output_tokens[0, -1, :])\\n        sampled_token = tar_index_to_word[sampled_token_index]\\n\\n        if (sampled_token!='eostoken'):\\n            decoded_sentence += ' '+sampled_token\\n\\n        #  <eos>에 도달하거나 최대 길이를 넘으면 중단.\\n        if (sampled_token == 'eostoken'  or len(decoded_sentence.split()) >= (headlines_max_len-1)):\\n            stop_condition = True\\n\\n        # 길이가 1인 타겟 시퀀스를 업데이트\\n        target_seq = np.zeros((1,1))\\n        target_seq[0, 0] = sampled_token_index\\n\\n        # 상태를 업데이트 합니다.\\n        e_h, e_c = h, c\\n\\n    return decoded_sentence\\n\""
      ]
     },
     "execution_count": 39,
     "metadata": {},
     "output_type": "execute_result"
    }
   ],
   "source": [
    "\"\"\"\n",
    "def decode_sequence(input_seq):\n",
    "    # 입력으로부터 인코더의 상태를 얻음\n",
    "    e_out, e_h, e_c = encoder_model.predict(input_seq)\n",
    "\n",
    "     # <SOS>에 해당하는 토큰 생성\n",
    "    target_seq = np.zeros((1,1))\n",
    "    target_seq[0, 0] = tar_word_to_index['sostoken']\n",
    "\n",
    "    stop_condition = False\n",
    "    decoded_sentence = ''\n",
    "    while not stop_condition: # stop_condition이 True가 될 때까지 루프 반복\n",
    "\n",
    "        output_tokens, h, c = decoder_model.predict([target_seq] + [e_out, e_h, e_c])\n",
    "        # output이 왜\n",
    "        sampled_token_index = np.argmax(output_tokens[0, -1, :])\n",
    "        sampled_token = tar_index_to_word[sampled_token_index]\n",
    "\n",
    "        if (sampled_token!='eostoken'):\n",
    "            decoded_sentence += ' '+sampled_token\n",
    "\n",
    "        #  <eos>에 도달하거나 최대 길이를 넘으면 중단.\n",
    "        if (sampled_token == 'eostoken'  or len(decoded_sentence.split()) >= (headlines_max_len-1)):\n",
    "            stop_condition = True\n",
    "\n",
    "        # 길이가 1인 타겟 시퀀스를 업데이트\n",
    "        target_seq = np.zeros((1,1))\n",
    "        target_seq[0, 0] = sampled_token_index\n",
    "\n",
    "        # 상태를 업데이트 합니다.\n",
    "        e_h, e_c = h, c\n",
    "\n",
    "    return decoded_sentence\n",
    "\"\"\""
   ]
  },
  {
   "cell_type": "code",
   "execution_count": 40,
   "id": "f1126ea7",
   "metadata": {},
   "outputs": [],
   "source": [
    "def decode_sequence(input_seq):\n",
    "    # 인코더의 상태를 입력으로부터 얻음\n",
    "    e_out, e_h, e_c = encoder_model.predict(input_seq)\n",
    "\n",
    "    # <SOS>에 해당하는 토큰 생성\n",
    "    target_seq = np.zeros((1, 1))\n",
    "    target_seq[0, 0] = tar_word_to_index['sostoken']\n",
    "\n",
    "    stop_condition = False\n",
    "    decoded_sentence = ''\n",
    "    while not stop_condition:\n",
    "        # 디코더 모델에 입력으로 디코더 입력, 인코더 출력, 디코더 상태를 전달\n",
    "        output_tokens, h, c = decoder_model.predict(\n",
    "            [target_seq] + [e_out, e_h, e_c]\n",
    "        )\n",
    "\n",
    "        # 예측된 토큰의 인덱스를 얻고 단어로 변환\n",
    "        sampled_token_index = np.argmax(output_tokens[0, -1, :])\n",
    "        sampled_token = tar_index_to_word[sampled_token_index]\n",
    "\n",
    "        if sampled_token != 'eostoken':\n",
    "            decoded_sentence += ' ' + sampled_token\n",
    "\n",
    "        # <eos>에 도달하거나 최대 길이를 넘으면 중단\n",
    "        if sampled_token == 'eostoken' or len(decoded_sentence.split()) >= (headlines_max_len - 1):\n",
    "            stop_condition = True\n",
    "\n",
    "        # 길이가 1인 타겟 시퀀스를 업데이트\n",
    "        target_seq = np.zeros((1, 1))\n",
    "        target_seq[0, 0] = sampled_token_index\n",
    "\n",
    "        # 디코더 상태 업데이트\n",
    "        e_h, e_c = h, c\n",
    "\n",
    "    return decoded_sentence\n"
   ]
  },
  {
   "cell_type": "code",
   "execution_count": 41,
   "id": "ded10aac",
   "metadata": {},
   "outputs": [],
   "source": [
    "# 원문의 정수 시퀀스를 텍스트 시퀀스로 변환\n",
    "def seq2text(input_seq):\n",
    "    temp=''\n",
    "    for i in input_seq:\n",
    "        if (i!=0):\n",
    "            temp = temp + src_index_to_word[i]+' '\n",
    "    return temp\n",
    "\n",
    "# 요약문의 정수 시퀀스를 텍스트 시퀀스로 변환\n",
    "def seq2summary(input_seq):\n",
    "    temp=''\n",
    "    for i in input_seq:\n",
    "        if (i!=0):\n",
    "            temp = temp + tar_index_to_word[i]+' '\n",
    "    return temp"
   ]
  },
  {
   "cell_type": "code",
   "execution_count": 42,
   "id": "58e7289c",
   "metadata": {
    "scrolled": false
   },
   "outputs": [
    {
     "name": "stdout",
     "output_type": "stream",
     "text": [
      "원문 : bjp ally lok janshakti party leader chirag paswan stated issues like ram temple harms nda feel ram mandir agenda development region given priority said said even results three states came added \n",
      "실제 요약 : sostoken issues like ram temple nda paswan \n",
      "예측 요약 :  bjp should not be built in ram temple of ayodhya bjp\n",
      "\n",
      "\n",
      "원문 : days filing divorce wife aishwarya rai rjd chief lalu prasad yadav son tej pratap yadav said forced marry political benefits wife aishwarya married may also political background daughter former rjd minister rai granddaughter former bihar cm rai \n",
      "실제 요약 : sostoken was forced to marry aishwarya rai for political benefits tej \n",
      "예측 요약 :  lalu yadav husband to be part of bigg boss\n",
      "\n",
      "\n",
      "원문 : gurugram police thursday arrested man belonging rewari based gang allegedly possessing illegal arms recovered two country made pistols live cartridges reportedly murder member rival gang gang wanted several cases murder attempted murder \n",
      "실제 요약 : sostoken gang member arrested with illegal arms in gurugram \n",
      "예측 요약 :  arrested for stealing drugs in noida\n",
      "\n",
      "\n",
      "원문 : video shows fans actor shah rukh khan bathing poster film raees milk film completed one year release thursday also put garland poster worshipped sticks fans also seen breaking front poster \n",
      "실제 요약 : sostoken fans srk poster with milk on year of \n",
      "예측 요약 :  video shows srk eating srk during his film\n",
      "\n",
      "\n",
      "원문 : huma qureshi speaking body shamed fashion said actor clothes added stopped reacting body shaming comments something make happy get friendly huma said loves dressing red carpet \n",
      "실제 요약 : sostoken am an actress no clothes huma on being body shamed \n",
      "예측 요약 :  was told to put up in the body\n",
      "\n",
      "\n",
      "원문 : madras high court tuesday ordered cbi probe police firing anti sterlite protests tuticorin may hearing around pils demanding cbi investigation least protestors killed firing marching towards district collector office demand closure vedanta sterlite copper unit \n",
      "실제 요약 : sostoken hc orders cbi to probe police firing during sterlite protest \n",
      "예측 요약 :  hc orders cbi to probe firing in sterlite firing\n",
      "\n",
      "\n",
      "원문 : truck driver allegedly drowned three sons river consuming liquor fighting wife andhra pradesh chittoor district sunday bodies children aged five three two found floating river next morning accused also called wife confess crime currently absconding \n",
      "실제 요약 : sostoken andhra man drowns his kids in river after fighting with wife \n",
      "예측 요약 :  man kills taka govt after killing liquor in karnataka\n",
      "\n",
      "\n",
      "원문 : online travel portal makemytrip reportedly planning acquire equity stake hotel aggregator oyo following announcement partnership february makemytrip also expected properties oyo rivals including part deal comes two years makemytrip removed oyo inventory platform citing strategic \n",
      "실제 요약 : sostoken makemytrip may buy stake in oyo to \n",
      "예측 요약 :  to sell majority for new ipo in new york\n",
      "\n",
      "\n",
      "원문 : union hrd minister prakash javadekar thursday tweeted india map way looked without telangana faced flak hours non stop coding across cities develop innovative solutions problems posed ministries javadekar tweeted kids learn shows india map without telangana user tweeted \n",
      "실제 요약 : sostoken hrd minister tweets india map without gana faces flak \n",
      "예측 요약 :  twitter reacts to issue of ai schemes online\n",
      "\n",
      "\n",
      "원문 : panchayat village rajasthan issued order prohibiting girls wearing jeans keeping mobile phones panchayat also decided dispute regarding order would referred panchayat head singh police prohibition liquor betting stopping intake gutkha issues discussed \n",
      "실제 요약 : sostoken raj village bans girls from wearing jeans keeping phones \n",
      "예측 요약 :  raj govt makes students phones to wear\n",
      "\n",
      "\n",
      "원문 : twitter ceo jack dorsey event wednesday revealed chose computer science school instead political science gave dream becoming mayor little bit selfish wanted see things immediate added dorsey said felt building software could enact change faster public policies \n",
      "실제 요약 : sostoken chose computer science over becoming mayor twitter ceo \n",
      "예측 요약 :  twitter reacts to mark in english\n",
      "\n",
      "\n",
      "원문 : remembering former pm chaudhary charan singh birth anniversary pm narendra modi sunday tweeted recall contribution india development particularly interests farmers west bengal cm mamata banerjee also paid homage singh tweeting day also observed best wishes farmers country \n",
      "실제 요약 : sostoken pm modi remembers former pm singh on his birth anniv \n",
      "예측 요약 :  pm modi urges pm modi to discuss farmers in letter\n",
      "\n",
      "\n",
      "원문 : one student died fell sick consuming mid day meal school district jharkhand police said students complained stomach ache taken local hospital police said ordered inquiry incident \n",
      "실제 요약 : sostoken child dies fall sick after mid day meal in jharkhand \n",
      "예측 요약 :  kids fall ill after eating prasad in karnataka\n",
      "\n",
      "\n",
      "원문 : swiggy ceo responded anonymous blog post claiming former current employees accused startup faking reviews lying called documents cited post complete denied post authored swiggy employees however address claims fake reviews \n",
      "실제 요약 : sostoken swiggy ceo responds to blog post claiming it faked reviews \n",
      "예측 요약 :  ex ceo ceo quits over harassment of ex employee\n",
      "\n",
      "\n",
      "원문 : indian woman named uzma accused pakistani man forcing marriage friday sought duplicate travel documents security islamabad high court return home uzma claimed accused deceived already married stole passport travel documents \n",
      "실제 요약 : sostoken indian forced by pak man to marry seeks security to return \n",
      "예측 요약 :  indian woman accused of raping indian woman in mumbai\n",
      "\n",
      "\n",
      "원문 : pm narendra modi gift cows president paul upcoming visit contribution latter flagship programme wherein poor family given one cow cows sourced rwanda since adapted local surroundings earlier pm modi gave ex pakistan pm nawaz sharif mother \n",
      "실제 요약 : sostoken pm modi to gift cows to president \n",
      "예측 요약 :  pm modi visits speech of rss president in uttar pradesh\n",
      "\n",
      "\n",
      "원문 : according russian cybersecurity firm kaspersky hackers spreading malicious links via facebook messenger users sent message name shocked face emoji shortened bit link blurred video messenger chat box malware could result stolen passwords hijacked web browsers technique known experts said \n",
      "실제 요약 : sostoken hackers use facebook messenger to spread links \n",
      "예측 요약 :  hackers stole fake news on instagram bug\n",
      "\n",
      "\n",
      "원문 : actor salman khan revealed slept cars times vanity vans shooting locations working hours since age worked life added salman said live one room apartment nice hard working man life led \n",
      "실제 요약 : sostoken have slept in cars when there were no vanity vans salman \n",
      "예측 요약 :  salman khan is my car in my car salman khan\n",
      "\n",
      "\n",
      "원문 : nasa preparing another mission twin satellites track earth water cycle ice sheet crust satellites able map changes tracking changes km separation hair width accuracy called grace us german project would continue research year grace mission ended \n",
      "실제 요약 : sostoken nasa prepares new set of twin satellites to track ice melt \n",
      "예측 요약 :  nasa to launch solar space mission for the first time\n",
      "\n",
      "\n",
      "원문 : ahead india pakistan asia cup tie wednesday indian wheelchair cricket team thrashed pakistani counterparts friendship cup match played uae indian wheelchair team scored pakistan got dismissed runs indian men cricket team set face pakistan first time period months \n",
      "실제 요약 : sostoken indian wheelchair cricket team beats pakistan by runs \n",
      "예측 요약 :  india pakistan team pakistan team out of asia cup\n",
      "\n",
      "\n",
      "원문 : bahrain discovered biggest oil field since started producing crude nearly years ago state media announced field discovered al bahrain basin new resource believed much bigger bahrain current reserves bahrain currently pumps around barrels oil day bahrain field \n",
      "실제 요약 : sostoken bahrain discovers its biggest oil field in years \n",
      "예측 요약 :  japan hits month low after years for first time\n",
      "\n",
      "\n",
      "원문 : brazilian electronics seller filed lawsuit intel us claiming thousands phones sold containing intel sofia caught fire due design defects seeking damages least million firm said many customers complained filed lawsuits brazil \n",
      "실제 요약 : sostoken brazil firm sues intel for mn over phones \n",
      "예측 요약 :  us store sues iphone for stealing its iphone\n",
      "\n",
      "\n",
      "원문 : state owned pnb reported increase domestic business crossing trillion turnover first time ever fy increase domestic business despite crore fraud linked jewellers nirav modi mehul choksi domestic deposits bank grew trillion \n",
      "실제 요약 : sostoken pnb fy domestic business crosses tn despite fraud \n",
      "예측 요약 :  indian bank profit rises to crore in fy\n",
      "\n",
      "\n",
      "원문 : congress monday criticised jammu kashmir cm mehbooba mufti urging centre follow footsteps former pm atal bihari vajpayee dealing kashmir unrest kashmir evolved upa years whether form opening bus roads internal security situations party spokesperson manish tewari said \n",
      "실제 요약 : sostoken kashmir evolved under upa govt cong on vajpayee \n",
      "예측 요약 :  cong slams cong for not mehbooba mufti\n",
      "\n",
      "\n",
      "원문 : bengaluru based micro lending platform raised million series equity debt financing led xiaomi capital round also saw participation mumbai based city ventures new york based rk ventures group founded startup enables users order products online retailers different pay schemes \n",
      "실제 요약 : sostoken micro lending platform raises mn in series \n",
      "예측 요약 :  online backed startup raises million\n",
      "\n",
      "\n",
      "원문 : producer ritesh said actress deepika padukone part shah rukh khan starrer said making official announcement film soon earlier reports emerged claiming deepika replace priyanka third film franchise \n",
      "실제 요약 : sostoken deepika not part of srk starrer don producer \n",
      "예측 요약 :  srk will not have been the first film reports\n",
      "\n",
      "\n",
      "원문 : amid deteriorating air quality delhi chief minister arvind kejriwal friday said city become gas chamber soon farmers suffer tweeted sad central punjab haryana governments absolutely nothing farmers meanwhile deputy chief minister manish sisodia asked centre intervene wake deteriorating air quality \n",
      "실제 요약 : sostoken kejriwal says delhi will become gas blames centre \n",
      "예측 요약 :  delhi cm kejriwal to take farmers in delhi cm\n",
      "\n",
      "\n",
      "원문 : delhi high court friday dismissed former congress leader sajjan kumar plea seeking time till january surrender sentenced life imprisonment anti sikh riots case kumar asked surrender december said six grandchildren needed time settle family affairs \n",
      "실제 요약 : sostoken sajjan kumar plea seeking more time to surrender dismissed \n",
      "예측 요약 :  hc rejects plea to riots charges against riots\n",
      "\n",
      "\n",
      "원문 : oscar winning duo composer ar rahman lyricist gulzar creating anthem song upcoming men hockey world cup set held odisha later year nothing says india beloved sport hockey said rahman perform song live opening ceremony november \n",
      "실제 요약 : sostoken ar rahman gulzar creating anthem song for hockey wc \n",
      "예측 요약 :  ar rahman offers to host national anthem\n",
      "\n",
      "\n",
      "원문 : march judges various high courts women department justice law ministry informed parliamentary committee added vacancies high courts country said timeline recommend proposal appointment judges reduced \n",
      "실제 요약 : sostoken only judges in high courts are women govt tells panel \n",
      "예측 요약 :  courts in sc lifts for women in yrs\n",
      "\n",
      "\n",
      "원문 : farhan akhtar said felt guilty aware behaviour cousin sajid khan accused sexual harassment several women knew would spoken story broke added need work try figure make women affected actions feel better farhan said \n",
      "실제 요약 : sostoken felt guilty for not knowing about sajid cousin farhan on metoo \n",
      "예측 요약 :  was sexually harassed by men who was sexually harassed farhan\n",
      "\n",
      "\n",
      "원문 : wildlife involved smuggling body parts tigers leopards convicted madhya pradesh court awarded four years imprisonment along four others main accused arrested february year would traffic animal body parts international markets via nepal tibet special task force said \n",
      "실제 요약 : sostoken man who smuggled tigers sentenced to jail \n",
      "예측 요약 :  year old cases against mp assembly years\n",
      "\n",
      "\n",
      "원문 : aap national convenor arvind kejriwal made mp mann party punjab chief condition would quit drinking mann reportedly told would removed post found drinking future notably mann repeatedly slammed party leadership functioning like mohalla cricket team among things \n",
      "실제 요약 : sostoken mann made aap punjab chief asked to quit drinking \n",
      "예측 요약 :  aap mp kejriwal says he is in row\n",
      "\n",
      "\n",
      "원문 : foundation awarding scholarships lakh meritorious professionals bits pilani pg program big data engineering association upgrad big data market seeing scholarship helps professionals transition big data pg certification bits pilani notably learners transitioned average salary hike \n",
      "실제 요약 : sostoken foundation announces scholarship worth lakh \n",
      "예측 요약 :  upgrad to be among top rank for new time\n",
      "\n",
      "\n",
      "원문 : union environment ministry delhi government jointly launched clean air campaign saw violations week officials said monday officials added violators fined leading collection crore campaign launched february find permanent solution pollution delhi ncr \n",
      "실제 요약 : sostoken environment norms over times in delhi in week \n",
      "예측 요약 :  govt to set up panel for delhi to make emergency\n",
      "\n",
      "\n",
      "원문 : actor turned politician kamal haasan friday said lot allegations suspicions rafale deal investigation must ordered one innocent nothing fear opposition accused government giving special preference anil ambani reliance defence competitors rafale jet deal french manufacturer dassault \n",
      "실제 요약 : sostoken bjp should not fear rafale probe if it is innocent haasan \n",
      "예측 요약 :  we will not support our deal with kamal haasan\n",
      "\n",
      "\n",
      "원문 : first six international cricket hit australian batsman joe darling january almost years first test played back six hit ground hits boundary counted five darling went hit two sixes innings ashes \n",
      "실제 요약 : sostoken test cricket st six was hit years after the st match \n",
      "예측 요약 :  st indian to hit test cricket in years\n",
      "\n",
      "\n",
      "원문 : sarabhai vs sarabhai actress registered fir two bikers attacked car year old son mumbai car mistakenly touched bike following bikers allegedly started abusing broke car window bleeding reached police station accused later arrested \n",
      "실제 요약 : sostoken sarabhai vs sarabhai actress yr old son attacked by bikers \n",
      "예측 요약 :  actor father in mumbai to be arrested in chandigarh\n",
      "\n",
      "\n",
      "원문 : actor nawazuddin siddiqui said initially felt forced dance started enjoying dancing film munna michael stars tiger shroff learnt lot observing tiger dancing steps think tried reach nearly per cent dancing skills added nawazuddin \n",
      "실제 요약 : sostoken felt was forced to dance but started it siddiqui \n",
      "예측 요약 :  was shooting with my shooting for my debut nawazuddin\n",
      "\n",
      "\n",
      "원문 : female tourist allegedly kidnapped gang shortly flight hong kong bangkok airport earlier month cctv footage show five gang members two holding arms however let days husband paid around crore ransom informed police \n",
      "실제 요약 : sostoken female tourist kidnapped inside bangkok airport by \n",
      "예측 요약 :  airline kidnapped from plane for stealing\n",
      "\n",
      "\n",
      "원문 : billionaire warren buffett speaking berkshire hathaway annual meeting saturday said seen technology giant google promise plenty ways ask questions educate buffett said adding blew berkshire vice chairman charlie munger called firm decision invest google worst mistake tech field \n",
      "실제 요약 : sostoken should have seen google promise but it buffett \n",
      "예측 요약 :  buffett will be very very very warren buffett\n",
      "\n",
      "\n",
      "원문 : pirates caribbean revenge released friday epic adventure wrote times india hindustan times said rocky years finally pirates film first visual however less jack makes wrote koimoi rated \n",
      "실제 요약 : sostoken pirates of the caribbean revenge hits theatres \n",
      "예측 요약 :  imtiaz ali khan starrer the hits the theatres\n",
      "\n",
      "\n",
      "원문 : indian railways earned crore cancellation reserved tickets request passengers fy earnings reserved ticket cancellations crore crore crore data released centre railway information systems response rti query \n",
      "실제 요약 : sostoken railways earned cr from ticket in fy \n",
      "예측 요약 :  railways earned crore in trains in fy\n",
      "\n",
      "\n",
      "원문 : us led coalition carried air strikes prevent convoy carrying isis fighters families evacuated truce deal reaching territory isis control syria describing isis global threat coalition said terrorists one place another someone else deal solution \n",
      "실제 요약 : sostoken us blocks convoy of isis fighters being evacuated under deal \n",
      "예측 요약 :  us air strikes in syria strikes after syria\n",
      "\n",
      "\n",
      "원문 : amazon invested crore indian digital payments arm amazon pay according filings latest infusion came singapore mauritius based group entities amazon corporate holdings amazon com fourth capital infusion amazon pay financial year received crore november crore october crore july \n",
      "실제 요약 : sostoken amazon invests crore in indian payments arm amazon pay \n",
      "예측 요약 :  amazon india invests crore in indian payments arm\n",
      "\n",
      "\n",
      "원문 : according reports actress kangana ranaut hired rumoured ex boyfriend hrithik roshan former manager anjali anjali worked hrithik legal battle kangana spat began hrithik sent legal notice kangana calling silly ex interview \n",
      "실제 요약 : sostoken kangana ranaut hires hrithik roshan ex manager reports \n",
      "예측 요약 :  kangana denies reports of kangana molestation\n",
      "\n",
      "\n",
      "원문 : screening film accidental prime minister halted multiplex ludhiana pavilion mall following protests congress party activists film release day authorities multiplex cancelled screening activists gathered outside protest film screening film cancelled theatre kolkata earlier today \n",
      "실제 요약 : sostoken the accidental halted in ludhiana mall amid protests \n",
      "예측 요약 :  poster of film on padmaavat released\n",
      "\n",
      "\n",
      "원문 : international astronomical union officially approved naming pluto features years dwarf planet discovery pluto mountain ranges named sir hillary first successfully climb mt everest names also honour pluto year old girl suggested name pluto \n",
      "실제 요약 : sostoken pluto features named years after its discovery \n",
      "예측 요약 :  govt to witness oldest ever year old\n",
      "\n",
      "\n",
      "원문 : cab hailing startup uber withdrawing feature app let track users five minutes ride ended uber launched feature last year claiming could help ensuring users physical safety location tracking changes initially available iphone users later rolled android devices \n",
      "실제 요약 : sostoken uber to pull feature that tracked users after ride ended \n",
      "예측 요약 :  uber launches feature to let users ride with uber rides\n",
      "\n",
      "\n",
      "원문 : finance minister arun jaitley said majority banks financial institutions departments come ministry spent advertisements hindi followed english regional languages respectively entities also spent certain amount promotion hindi sbi spent crore hindi ads spent crore regional ads \n",
      "실제 요약 : sostoken banks financial spent more on hindi english ads jaitley \n",
      "예측 요약 :  govt to introduce national language soon fm\n",
      "\n",
      "\n"
     ]
    }
   ],
   "source": [
    "for i in range(50, ):\n",
    "    print(\"원문 :\", seq2text(encoder_input_test[i]))\n",
    "    print(\"실제 요약 :\", seq2summary(decoder_input_test[i]))\n",
    "    \n",
    "    # 입력 시퀀스를 재구성하고 인코더 상태를 초기화합니다\n",
    "    input_seq = encoder_input_test[i].reshape(1, text_max_len)\n",
    "    e_out, e_h, e_c = encoder_model.predict(input_seq)\n",
    "    \n",
    "    # 예측된 요약을 생성합니다\n",
    "    decoded_sentence = decode_sequence(input_seq)\n",
    "    \n",
    "    print(\"예측 요약 :\", decoded_sentence)\n",
    "    print(\"\\n\")"
   ]
  },
  {
   "cell_type": "code",
   "execution_count": null,
   "id": "5b6afe58",
   "metadata": {},
   "outputs": [],
   "source": []
  },
  {
   "cell_type": "code",
   "execution_count": null,
   "id": "85c95534",
   "metadata": {},
   "outputs": [],
   "source": []
  },
  {
   "cell_type": "code",
   "execution_count": null,
   "id": "8114f41b",
   "metadata": {},
   "outputs": [],
   "source": []
  },
  {
   "cell_type": "code",
   "execution_count": null,
   "id": "c9a04e9e",
   "metadata": {},
   "outputs": [],
   "source": []
  },
  {
   "cell_type": "code",
   "execution_count": null,
   "id": "faedbfa7",
   "metadata": {},
   "outputs": [],
   "source": []
  },
  {
   "cell_type": "code",
   "execution_count": null,
   "id": "fc4230c0",
   "metadata": {},
   "outputs": [],
   "source": []
  }
 ],
 "metadata": {
  "kernelspec": {
   "display_name": "Python 3 (ipykernel)",
   "language": "python",
   "name": "python3"
  },
  "language_info": {
   "codemirror_mode": {
    "name": "ipython",
    "version": 3
   },
   "file_extension": ".py",
   "mimetype": "text/x-python",
   "name": "python",
   "nbconvert_exporter": "python",
   "pygments_lexer": "ipython3",
   "version": "3.9.7"
  }
 },
 "nbformat": 4,
 "nbformat_minor": 5
}
