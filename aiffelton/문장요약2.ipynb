{
  "nbformat": 4,
  "nbformat_minor": 0,
  "metadata": {
    "colab": {
      "provenance": [],
      "gpuType": "T4"
    },
    "kernelspec": {
      "name": "python3",
      "display_name": "Python 3"
    },
    "language_info": {
      "name": "python"
    },
    "accelerator": "GPU"
  },
  "cells": [
    {
      "cell_type": "code",
      "source": [
        "import pytextrank\n",
        "\n",
        "def extract_keywords_with_textrank(text):\n",
        "    import spacy\n",
        "    nlp = spacy.load(\"en_core_web_md\")\n",
        "    nlp.add_pipe(\"textrank\")\n",
        "    doc = nlp(text)\n",
        "    return [phrase.text for phrase in doc._.phrases[:1]]\n",
        "\n",
        "keywords = extract_keywords_with_textrank(\"나는 아침일찍 운동을 가서 2시간 열심히 운동을해서 그런지 배가 고프다.\")\n",
        "print(keywords)"
      ],
      "metadata": {
        "colab": {
          "base_uri": "https://localhost:8080/"
        },
        "id": "iWfpjk2gJAeX",
        "outputId": "58e1e5d8-4878-4d12-e171-53d9df06c15d"
      },
      "execution_count": 62,
      "outputs": [
        {
          "output_type": "stream",
          "name": "stdout",
          "text": [
            "['배가 고프다']\n"
          ]
        }
      ]
    },
    {
      "cell_type": "code",
      "source": [
        "import pytextrank\n",
        "\n",
        "def extract_keywords_with_textrank(text):\n",
        "    import spacy\n",
        "    nlp = spacy.load(\"en_core_web_md\")\n",
        "    nlp.add_pipe(\"textrank\")\n",
        "    doc = nlp(text)\n",
        "    return [phrase.text for phrase in doc._.phrases[:1]]\n",
        "\n",
        "keywords = extract_keywords_with_textrank(\"나는 시험에서 100점을 받았다.\")\n",
        "print(keywords)"
      ],
      "metadata": {
        "colab": {
          "base_uri": "https://localhost:8080/"
        },
        "id": "JB66BPlPJEE5",
        "outputId": "e969eb60-a96a-4d09-fff3-800a1d4666d8"
      },
      "execution_count": 65,
      "outputs": [
        {
          "output_type": "stream",
          "name": "stdout",
          "text": [
            "['100점을 받았다']\n"
          ]
        }
      ]
    },
    {
      "cell_type": "code",
      "source": [
        "import pytextrank\n",
        "import spacy\n",
        "\n",
        "def extract_keywords_with_textrank(text):\n",
        "    # 더 나은 언어 모델 로드\n",
        "    nlp = spacy.load(\"en_core_web_md\")  # or \"en_core_web_trf\"\n",
        "    nlp.add_pipe(\"textrank\")\n",
        "    doc = nlp(text)\n",
        "    return [phrase.text for phrase in doc._.phrases[:1]]  # 상위 1개 키워드 반환\n",
        "\n",
        "# 테스트 문장\n",
        "keywords = extract_keywords_with_textrank(\"나는 아침일찍 운동을 가서 2시간 열심히 운동을해서 그런지 배가 고프다.\")\n",
        "print(keywords)"
      ],
      "metadata": {
        "colab": {
          "base_uri": "https://localhost:8080/"
        },
        "id": "T899fxKUV07g",
        "outputId": "00bfebf4-df58-424f-8639-8803a377eb75"
      },
      "execution_count": 46,
      "outputs": [
        {
          "output_type": "stream",
          "name": "stdout",
          "text": [
            "['배가 고프다']\n"
          ]
        }
      ]
    },
    {
      "cell_type": "code",
      "source": [
        "import pytextrank\n",
        "import spacy\n",
        "\n",
        "def extract_keywords_with_textrank(text):\n",
        "    # 더 나은 언어 모델 로드\n",
        "    nlp = spacy.load(\"en_core_web_md\")  # or \"en_core_web_trf\"\n",
        "    nlp.add_pipe(\"textrank\")\n",
        "    doc = nlp(text)\n",
        "    return [phrase.text for phrase in doc._.phrases[:1]]  # 상위 1개 키워드 반환\n",
        "\n",
        "# 테스트 문장\n",
        "keywords = extract_keywords_with_textrank(\"그런데 안좋은일도 있었어요. 코드를 짜는데 집중이 하나도안되네...\")\n",
        "print(keywords)"
      ],
      "metadata": {
        "colab": {
          "base_uri": "https://localhost:8080/"
        },
        "id": "NUVA8IxuV4bf",
        "outputId": "fb005229-1c3c-44f4-89a5-d281608f18f4"
      },
      "execution_count": 48,
      "outputs": [
        {
          "output_type": "stream",
          "name": "stdout",
          "text": [
            "['코드를 짜는데 집중이 하나도안되네']\n"
          ]
        }
      ]
    },
    {
      "cell_type": "code",
      "source": [
        "from kiwipiepy import Kiwi\n",
        "import pytextrank\n",
        "import spacy\n",
        "\n",
        "def extract_keywords_korean_with_textrank(text):\n",
        "    # Kiwi로 한국어 문장 전처리\n",
        "    kiwi = Kiwi()\n",
        "    normalized_text = \" \".join([word.form for word in kiwi.tokenize(text)])\n",
        "\n",
        "    # spaCy 모델 로드 (적절한 영어 모델 사용)\n",
        "    nlp = spacy.load(\"en_core_web_md\")\n",
        "    nlp.add_pipe(\"textrank\")\n",
        "\n",
        "    # Textrank 적용\n",
        "    doc = nlp(normalized_text)\n",
        "    return [phrase.text for phrase in doc._.phrases[:1]]  # 상위 1개 키워드 반환\n",
        "\n",
        "# 테스트 문장\n",
        "keywords = extract_keywords_korean_with_textrank(\"나는 시험 만점을 받기위해 코딩공부를 시작했다.\")\n",
        "print(keywords)"
      ],
      "metadata": {
        "colab": {
          "base_uri": "https://localhost:8080/"
        },
        "id": "sAb4-7zSJ2iu",
        "outputId": "39ace94e-a229-484a-b67e-9baa63bed54c"
      },
      "execution_count": 59,
      "outputs": [
        {
          "output_type": "stream",
          "name": "stdout",
          "text": [
            "['만점']\n"
          ]
        }
      ]
    },
    {
      "cell_type": "markdown",
      "source": [
        "# 이 KeyBERT가 젤 좋은거 같은데 혹시나 위의 코드들도 참조하심 좋으걸깥아요\n",
        "(밑에 코드참조!!!!!!!!)"
      ],
      "metadata": {
        "id": "KQNESHhBZN4-"
      }
    },
    {
      "cell_type": "code",
      "source": [
        "from keybert import KeyBERT\n",
        "\n",
        "# KeyBERT 모델 로드\n",
        "kw_model = KeyBERT()\n",
        "\n",
        "# 키워드 추출 함수\n",
        "def extract_keywords_korean_with_keybert(text):\n",
        "    keywords = kw_model.extract_keywords(text, keyphrase_ngram_range=(1, 1), stop_words=None, top_n=1)\n",
        "    return [keyword[0] for keyword in keywords]\n",
        "\n",
        "# 테스트\n",
        "text = \"나는 시험 만점을 받기위해 코딩공부를 시작했다.\"\n",
        "keywords = extract_keywords_korean_with_keybert(text)\n",
        "print(keywords)"
      ],
      "metadata": {
        "colab": {
          "base_uri": "https://localhost:8080/"
        },
        "id": "d1Av8psRZNFr",
        "outputId": "30268095-9155-48e0-f96f-0bfbfe3693dd"
      },
      "execution_count": 77,
      "outputs": [
        {
          "output_type": "stream",
          "name": "stdout",
          "text": [
            "['코딩공부를']\n"
          ]
        }
      ]
    },
    {
      "cell_type": "code",
      "source": [
        "from keybert import KeyBERT\n",
        "\n",
        "# KeyBERT 모델 로드\n",
        "kw_model = KeyBERT()\n",
        "\n",
        "# 키워드 추출 함수\n",
        "def extract_keywords_korean_with_keybert(text):\n",
        "    keywords = kw_model.extract_keywords(text, keyphrase_ngram_range=(1, 1), stop_words=None, top_n=1)\n",
        "    return [keyword[0] for keyword in keywords]\n",
        "\n",
        "# 테스트\n",
        "text = \"연예인은 화려한것같지만 나는 동의하지 않는다\"\n",
        "keywords = extract_keywords_korean_with_keybert(text)\n",
        "print(keywords)"
      ],
      "metadata": {
        "colab": {
          "base_uri": "https://localhost:8080/"
        },
        "id": "yjB_vuMfUIQa",
        "outputId": "3150bd14-9d67-4037-98ea-66726b25ca4f"
      },
      "execution_count": 80,
      "outputs": [
        {
          "output_type": "stream",
          "name": "stdout",
          "text": [
            "['동의하지']\n"
          ]
        }
      ]
    },
    {
      "cell_type": "code",
      "source": [
        "from keybert import KeyBERT\n",
        "\n",
        "# KeyBERT 모델 로드\n",
        "kw_model = KeyBERT()\n",
        "\n",
        "# 키워드 추출 함수\n",
        "def extract_keywords_korean_with_keybert(text):\n",
        "    keywords = kw_model.extract_keywords(text, keyphrase_ngram_range=(1, 1), stop_words=None, top_n=1)\n",
        "    return [keyword[0] for keyword in keywords]\n",
        "\n",
        "# 테스트\n",
        "text = \"배가 고프다고 음식을 훔치는것은 도덕적이지 못하다.\"\n",
        "keywords = extract_keywords_korean_with_keybert(text)\n",
        "print(keywords)"
      ],
      "metadata": {
        "colab": {
          "base_uri": "https://localhost:8080/"
        },
        "id": "6WBXEn3fXMCj",
        "outputId": "51d66ef3-9e0a-4612-f882-367468debacc"
      },
      "execution_count": 83,
      "outputs": [
        {
          "output_type": "stream",
          "name": "stdout",
          "text": [
            "['도덕적이지']\n"
          ]
        }
      ]
    },
    {
      "cell_type": "code",
      "source": [
        "from keybert import KeyBERT\n",
        "\n",
        "# KeyBERT 모델 로드\n",
        "kw_model = KeyBERT()\n",
        "\n",
        "# 키워드 추출 함수\n",
        "def extract_keywords_korean_with_keybert(text):\n",
        "    keywords = kw_model.extract_keywords(text, keyphrase_ngram_range=(1, 1), stop_words=None, top_n=1)\n",
        "    return [keyword[0] for keyword in keywords]\n",
        "\n",
        "# 테스트\n",
        "text = \"때로는 사업에서 실패할수도 있다고 생각한다.\"\n",
        "keywords = extract_keywords_korean_with_keybert(text)\n",
        "print(keywords)"
      ],
      "metadata": {
        "colab": {
          "base_uri": "https://localhost:8080/"
        },
        "id": "kbJm1sCnYGvr",
        "outputId": "dc02e465-bd9a-41d8-b7ef-eb02d77f412b"
      },
      "execution_count": 85,
      "outputs": [
        {
          "output_type": "stream",
          "name": "stdout",
          "text": [
            "['실패할수도']\n"
          ]
        }
      ]
    },
    {
      "cell_type": "code",
      "source": [],
      "metadata": {
        "id": "ORrGidfrZ4vW"
      },
      "execution_count": null,
      "outputs": []
    }
  ]
}