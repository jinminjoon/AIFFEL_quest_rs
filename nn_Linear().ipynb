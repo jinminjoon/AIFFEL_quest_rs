{
  "nbformat": 4,
  "nbformat_minor": 0,
  "metadata": {
    "colab": {
      "provenance": []
    },
    "kernelspec": {
      "name": "python3",
      "display_name": "Python 3"
    },
    "language_info": {
      "name": "python"
    }
  },
  "cells": [
    {
      "cell_type": "markdown",
      "source": [
        "## 간단한 인공신경망 만들기"
      ],
      "metadata": {
        "id": "WmgE-h-eiL-v"
      }
    },
    {
      "cell_type": "code",
      "execution_count": 8,
      "metadata": {
        "colab": {
          "base_uri": "https://localhost:8080/"
        },
        "id": "0aBcXilxiI5u",
        "outputId": "130a52e7-d3bc-4349-98f3-7635f5ac6be9"
      },
      "outputs": [
        {
          "output_type": "stream",
          "name": "stdout",
          "text": [
            "Linear(in_features=1, out_features=1, bias=True)\n",
            "Parameter containing:\n",
            "tensor([[-0.6355]], requires_grad=True)\n",
            "Parameter containing:\n",
            "tensor([0.7252], requires_grad=True)\n",
            "tensor([0.0896], grad_fn=<ViewBackward0>)\n",
            "tensor([0.0896], grad_fn=<AddBackward0>)\n"
          ]
        }
      ],
      "source": [
        "import torch\n",
        "from torch import nn\n",
        "\n",
        "x=torch.tensor([1.])\n",
        "model=nn.Linear(1,1) # 입력 node 한 개, 출력 node 한 개인 layer 만듦\n",
        "print(model)\n",
        "\n",
        "print(model.weight) # 만들면서 initialize 함\n",
        "print(model.bias)\n",
        "\n",
        "y=model(x)\n",
        "print(y)\n",
        "\n",
        "y2= x@model.weight + model.bias # 식으로 나타내 본다면..\n",
        "print(y2)"
      ]
    },
    {
      "cell_type": "code",
      "source": [
        "fc1 = nn.Linear(1,3) # fully-connected\n",
        "fc2 = nn.Linear(3,1)\n",
        "\"\"\"\n",
        "print(fc1.weight)\n",
        "print(fc1.bias)\n",
        "print(fc2.weight)\n",
        "print(fc2.bias)\n",
        "\"\"\"\n",
        "\n",
        "x=torch.tensor([1.])\n",
        "x=fc1(x)\n",
        "print(x)\n",
        "y=fc2(x)\n",
        "print(y)\n",
        "\n",
        "x = torch.tensor([1.])\n",
        "y2 = (x@fc1.weight.T+fc1.bias)@fc2.weight.T+fc2.bias\n",
        "print(y2)"
      ],
      "metadata": {
        "colab": {
          "base_uri": "https://localhost:8080/"
        },
        "id": "Kazfp8wLiNT1",
        "outputId": "fe670201-f26d-49ae-ab4f-74bcf01000fa"
      },
      "execution_count": 18,
      "outputs": [
        {
          "output_type": "stream",
          "name": "stdout",
          "text": [
            "tensor([-0.0425,  1.7186,  0.6195], grad_fn=<ViewBackward0>)\n",
            "tensor([-0.3117], grad_fn=<ViewBackward0>)\n",
            "tensor([-0.3117], grad_fn=<AddBackward0>)\n"
          ]
        }
      ]
    },
    {
      "cell_type": "code",
      "source": [
        "model = nn.Linear(2,3)\n",
        "x = torch.randn(2)\n",
        "print(x)\n",
        "print(model(x))\n",
        "## nn.Linear는 데이터의 shape의 마지막 차원이 '채'로(1D data) 들어오길 기대하는 녀석이다.\n",
        "# (입력 노드 하나가 곧 하나의 채널(피쳐) 값을 의미)\n",
        "# ('채널'은 'TV 채널'의 '채널' 같이 특정 유형의 정보를 전달하는 통로. 즉, 피쳐(특징)와 의미적으로 거의 비슷함)"
      ],
      "metadata": {
        "colab": {
          "base_uri": "https://localhost:8080/"
        },
        "id": "zPoQU0i2rvIU",
        "outputId": "7b131cdb-756c-4442-9db0-7a804cd2513b"
      },
      "execution_count": 21,
      "outputs": [
        {
          "output_type": "stream",
          "name": "stdout",
          "text": [
            "tensor([-1.1350,  0.1577])\n",
            "tensor([ 0.4034, -0.3980,  1.0344], grad_fn=<ViewBackward0>)\n"
          ]
        }
      ]
    },
    {
      "cell_type": "code",
      "source": [
        "model = nn.Linear(2,3)\n",
        "# 따라서, 데이터 여러개를 통과시키고 싶다면 개x채의 형태로 줘야 함('채x개'나 '개x채' 이런 식으로 말고!)\n",
        "x=torch.randn(5,2) # 개x채 => 두 개의 채널 값(키, 몸무게)을 가지는 데이터(사람) 5개\n",
        "\n",
        "print(x)\n",
        "print(model(x))\n",
        "\n",
        "x=torch.randn(4,5,2) #nn.Linear는 이거를 개x개x채로 들어왔다고 판단\n",
        "print(model(x).shape)\n",
        "\n",
        "x=torch.randn(2,3,6,4,5,2)\n",
        "print(model(x).shape)"
      ],
      "metadata": {
        "colab": {
          "base_uri": "https://localhost:8080/"
        },
        "id": "XLQICsZ7ual4",
        "outputId": "1fefc60a-e28f-4626-846c-750f05ee0df7"
      },
      "execution_count": 24,
      "outputs": [
        {
          "output_type": "stream",
          "name": "stdout",
          "text": [
            "tensor([[ 1.1263,  0.0185],\n",
            "        [ 0.0478,  1.0502],\n",
            "        [ 1.4197, -0.6013],\n",
            "        [ 0.8364, -2.2022],\n",
            "        [-0.4198,  1.1690]])\n",
            "tensor([[-0.6285, -0.3194, -0.3033],\n",
            "        [ 0.0440, -0.3454, -0.0703],\n",
            "        [-0.9389, -0.3472, -0.4643],\n",
            "        [-1.3857, -0.5832, -0.9594],\n",
            "        [ 0.2123, -0.3904, -0.0638]], grad_fn=<AddmmBackward0>)\n",
            "torch.Size([4, 5, 3])\n",
            "torch.Size([2, 3, 6, 4, 5, 3])\n"
          ]
        }
      ]
    },
    {
      "cell_type": "code",
      "source": [
        "fc1 = nn.Linear(1,3)\n",
        "fc2 = nn.Linear(3,1)\n",
        "\n",
        "x=torch.tensor([1.])\n",
        "x=fc1(x)\n",
        "print(x)\n",
        "x=fc2(x)\n",
        "print(x)\n",
        "\n",
        "model = nn.Sequential(fc1,fc2)\n",
        "x=torch.tensor([1.])\n",
        "print(model(x))"
      ],
      "metadata": {
        "colab": {
          "base_uri": "https://localhost:8080/"
        },
        "id": "SkiHeIa0wqlB",
        "outputId": "8eabc39c-a25c-4299-bbca-432b7bcd3fc5"
      },
      "execution_count": 27,
      "outputs": [
        {
          "output_type": "stream",
          "name": "stdout",
          "text": [
            "tensor([-0.1580, -1.4860,  0.4340], grad_fn=<ViewBackward0>)\n",
            "tensor([0.0623], grad_fn=<ViewBackward0>)\n",
            "tensor([0.0623], grad_fn=<ViewBackward0>)\n"
          ]
        }
      ]
    },
    {
      "cell_type": "code",
      "source": [
        "model = nn.Sequential(nn.Linear(2,5), # (in_채널, out_채널)이니까 연결되는 부분이 같아야 함\n",
        "                      nn.Linear(5,10),\n",
        "                      nn.Linear(10,3))\n",
        "x=torch.randn(5,2) # 2개의 채널을 가지는 5개의 데이\n",
        "print(x)\n",
        "print(model(x))"
      ],
      "metadata": {
        "colab": {
          "base_uri": "https://localhost:8080/"
        },
        "id": "7EmmuA7SyVCJ",
        "outputId": "b566d273-ed78-4c4b-f942-80a6096ab70d"
      },
      "execution_count": 28,
      "outputs": [
        {
          "output_type": "stream",
          "name": "stdout",
          "text": [
            "tensor([[ 1.6837, -0.7941],\n",
            "        [ 0.1860,  1.6101],\n",
            "        [ 1.2975,  1.9257],\n",
            "        [ 1.0924, -1.3953],\n",
            "        [ 0.0107,  1.3729]])\n",
            "tensor([[-0.0816, -0.3274,  0.5937],\n",
            "        [-0.4258, -0.3646,  0.2629],\n",
            "        [-0.5780, -0.2407,  0.1980],\n",
            "        [ 0.0835, -0.4132,  0.6923],\n",
            "        [-0.3654, -0.3927,  0.3008]], grad_fn=<AddmmBackward0>)\n"
          ]
        }
      ]
    },
    {
      "cell_type": "code",
      "source": [
        "class MyModel(nn.Module):\n",
        "  def __init__(self):\n",
        "      super().__init__()\n",
        "\n",
        "      self.fc1 = nn.Linear(2,5)\n",
        "      self.fc2 = nn.Linear(5,10)\n",
        "      self.fc3 = nn.Linear(10,3)\n",
        "      self.act = nn.Sigmoid()\n",
        "\n",
        "  def forward(self, x):\n",
        "    x = self.fc1(x)\n",
        "    x = self.act(x)\n",
        "    x = self.fc2(x)\n",
        "    x = self.act(x)\n",
        "    x = self.fc3(x)\n",
        "    x = self.act(x)\n",
        "    return x\n",
        "\n",
        "model = MyModel()\n",
        "x = torch.randn(5,2)\n",
        "y = model(x)\n",
        "print(y)"
      ],
      "metadata": {
        "colab": {
          "base_uri": "https://localhost:8080/"
        },
        "id": "Io1Sb0trzCE0",
        "outputId": "69ad1388-ece1-4a6b-9709-476e4fa63d4f"
      },
      "execution_count": 29,
      "outputs": [
        {
          "output_type": "stream",
          "name": "stdout",
          "text": [
            "tensor([[0.3810, 0.5116, 0.5377],\n",
            "        [0.3812, 0.5122, 0.5373],\n",
            "        [0.3811, 0.5119, 0.5374],\n",
            "        [0.3798, 0.5079, 0.5413],\n",
            "        [0.3807, 0.5114, 0.5380]], grad_fn=<SigmoidBackward0>)\n"
          ]
        }
      ]
    },
    {
      "cell_type": "code",
      "source": [
        "print(model)\n",
        "print(model.fc1.weight)\n",
        "print(model.fc2.bias)"
      ],
      "metadata": {
        "colab": {
          "base_uri": "https://localhost:8080/"
        },
        "id": "nVnFrrT30qDQ",
        "outputId": "6c57f56b-5402-4401-b5e7-a51b2f1b9bf6"
      },
      "execution_count": 30,
      "outputs": [
        {
          "output_type": "stream",
          "name": "stdout",
          "text": [
            "MyModel(\n",
            "  (fc1): Linear(in_features=2, out_features=5, bias=True)\n",
            "  (fc2): Linear(in_features=5, out_features=10, bias=True)\n",
            "  (fc3): Linear(in_features=10, out_features=3, bias=True)\n",
            "  (act): Sigmoid()\n",
            ")\n",
            "Parameter containing:\n",
            "tensor([[-0.0298,  0.1644],\n",
            "        [-0.7033, -0.2561],\n",
            "        [ 0.7017, -0.0821],\n",
            "        [-0.5535,  0.6711],\n",
            "        [-0.1822, -0.5736]], requires_grad=True)\n",
            "Parameter containing:\n",
            "tensor([ 0.0590, -0.0997, -0.3303, -0.2387,  0.3552,  0.0242,  0.4090, -0.3490,\n",
            "         0.1522,  0.2507], requires_grad=True)\n"
          ]
        }
      ]
    },
    {
      "cell_type": "code",
      "source": [
        "class MyModel2(nn.Module):\n",
        "  def __init__(self):\n",
        "    super().__init__()\n",
        "\n",
        "    self.linear = nn.Sequential(nn.Linear(2,5),\n",
        "                                nn.Sigmoid(),\n",
        "                                nn.Linear(5,10),\n",
        "                                nn.Sigmoid(),\n",
        "                                nn.Linear(10,3),\n",
        "                                nn.Sigmoid())\n",
        "\n",
        "  def forward(self, x):\n",
        "    x = self.linear(x)\n",
        "    return x\n",
        "\n",
        "model2 = MyModel2()\n",
        "x = torch.randn(5,2)\n",
        "y = model2(x)\n",
        "print(y)"
      ],
      "metadata": {
        "colab": {
          "base_uri": "https://localhost:8080/"
        },
        "id": "vr3C_lle1CHh",
        "outputId": "e01b47ce-6188-4a2b-a6a9-29443c346136"
      },
      "execution_count": 32,
      "outputs": [
        {
          "output_type": "stream",
          "name": "stdout",
          "text": [
            "tensor([[0.5402, 0.5121, 0.3686],\n",
            "        [0.5409, 0.5114, 0.3676],\n",
            "        [0.5463, 0.5082, 0.3670],\n",
            "        [0.5415, 0.5112, 0.3680],\n",
            "        [0.5414, 0.5116, 0.3695]], grad_fn=<SigmoidBackward0>)\n"
          ]
        }
      ]
    },
    {
      "cell_type": "code",
      "source": [
        "print(model2)\n",
        "print(model2.linear[0].weight)\n",
        "print(model2.linear[-2].bias)"
      ],
      "metadata": {
        "colab": {
          "base_uri": "https://localhost:8080/"
        },
        "id": "m4xapMFP2S5i",
        "outputId": "eb36a4b6-90a1-4e53-f724-72c6024347e6"
      },
      "execution_count": 35,
      "outputs": [
        {
          "output_type": "stream",
          "name": "stdout",
          "text": [
            "MyModel2(\n",
            "  (linear): Sequential(\n",
            "    (0): Linear(in_features=2, out_features=5, bias=True)\n",
            "    (1): Sigmoid()\n",
            "    (2): Linear(in_features=5, out_features=10, bias=True)\n",
            "    (3): Sigmoid()\n",
            "    (4): Linear(in_features=10, out_features=3, bias=True)\n",
            "    (5): Sigmoid()\n",
            "  )\n",
            ")\n",
            "Parameter containing:\n",
            "tensor([[-0.4705, -0.1990],\n",
            "        [ 0.5610,  0.3923],\n",
            "        [ 0.6481, -0.0798],\n",
            "        [ 0.0126, -0.6472],\n",
            "        [-0.1066, -0.0709]], requires_grad=True)\n",
            "Parameter containing:\n",
            "tensor([-0.0540,  0.0525, -0.2543], requires_grad=True)\n"
          ]
        }
      ]
    },
    {
      "cell_type": "code",
      "source": [
        "list(model.parameters())"
      ],
      "metadata": {
        "colab": {
          "base_uri": "https://localhost:8080/"
        },
        "id": "w1WtOwkd2jpb",
        "outputId": "782179e7-1dae-4ae1-c0ff-8bcbdc42da4d"
      },
      "execution_count": 36,
      "outputs": [
        {
          "output_type": "execute_result",
          "data": {
            "text/plain": [
              "[Parameter containing:\n",
              " tensor([[-0.0298,  0.1644],\n",
              "         [-0.7033, -0.2561],\n",
              "         [ 0.7017, -0.0821],\n",
              "         [-0.5535,  0.6711],\n",
              "         [-0.1822, -0.5736]], requires_grad=True),\n",
              " Parameter containing:\n",
              " tensor([0.4474, 0.1405, 0.4438, 0.4377, 0.4937], requires_grad=True),\n",
              " Parameter containing:\n",
              " tensor([[-0.3138,  0.0269, -0.3689, -0.3510, -0.4393],\n",
              "         [-0.2636,  0.0213, -0.2736, -0.3635, -0.1570],\n",
              "         [-0.0537,  0.0206, -0.2458, -0.0861, -0.3705],\n",
              "         [ 0.1341,  0.3889,  0.4386, -0.1444,  0.1182],\n",
              "         [ 0.4337,  0.3423, -0.1150,  0.1385,  0.0180],\n",
              "         [-0.1208,  0.0801,  0.2338, -0.2637, -0.2402],\n",
              "         [-0.2951,  0.1001, -0.0678, -0.0836, -0.1882],\n",
              "         [ 0.1348, -0.0837, -0.3120, -0.1591, -0.1958],\n",
              "         [-0.4104,  0.2257, -0.4146, -0.2774, -0.4071],\n",
              "         [-0.2502,  0.2755,  0.3059,  0.1968, -0.0752]], requires_grad=True),\n",
              " Parameter containing:\n",
              " tensor([ 0.0590, -0.0997, -0.3303, -0.2387,  0.3552,  0.0242,  0.4090, -0.3490,\n",
              "          0.1522,  0.2507], requires_grad=True),\n",
              " Parameter containing:\n",
              " tensor([[ 0.1246, -0.0347,  0.0465, -0.2597, -0.1039, -0.0297,  0.2630, -0.2720,\n",
              "          -0.1030, -0.2192],\n",
              "         [-0.0222,  0.0053,  0.2390, -0.2541,  0.0223,  0.3088, -0.1752, -0.1456,\n",
              "          -0.1958, -0.0074],\n",
              "         [ 0.2502,  0.1871, -0.0574,  0.2592,  0.1878, -0.2884,  0.2550,  0.1125,\n",
              "          -0.1741, -0.3004]], requires_grad=True),\n",
              " Parameter containing:\n",
              " tensor([-0.1663,  0.1768, -0.0383], requires_grad=True)]"
            ]
          },
          "metadata": {},
          "execution_count": 36
        }
      ]
    },
    {
      "cell_type": "code",
      "source": [
        "# 파라미터 수 구하기\n",
        "num = sum([p.numel() for p in model.parameters() if p.requires_grad])\n",
        "print(num)"
      ],
      "metadata": {
        "colab": {
          "base_uri": "https://localhost:8080/"
        },
        "id": "6moNt4zH207I",
        "outputId": "fa460331-408a-486a-d849-f027aac1e242"
      },
      "execution_count": 37,
      "outputs": [
        {
          "output_type": "stream",
          "name": "stdout",
          "text": [
            "108\n"
          ]
        }
      ]
    },
    {
      "cell_type": "code",
      "source": [],
      "metadata": {
        "id": "7zb4aTU63CXl"
      },
      "execution_count": null,
      "outputs": []
    }
  ]
}